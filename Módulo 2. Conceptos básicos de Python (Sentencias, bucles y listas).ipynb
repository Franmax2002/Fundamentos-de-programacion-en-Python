{
 "cells": [
  {
   "cell_type": "markdown",
   "id": "d436d44d",
   "metadata": {},
   "source": [
    "# Módulo 2. Conceptos básicos de Python (Sentencias, bucles y listas)"
   ]
  },
  {
   "cell_type": "code",
   "execution_count": null,
   "id": "5f1a6535",
   "metadata": {},
   "outputs": [
    {
     "name": "stdout",
     "output_type": "stream",
     "text": [
      "Congratulations! You qualify for free shipping.\n"
     ]
    }
   ],
   "source": [
    "## Sentencias de decisión: Controlar el flujo del código\n",
    "order_total = 55\n",
    "\n",
    "if order_total >= 50:\n",
    "    print(\"Congratulations! You qualify for free shipping.\")\n"
   ]
  },
  {
   "cell_type": "code",
   "execution_count": null,
   "id": "6da7da65",
   "metadata": {},
   "outputs": [
    {
     "name": "stdout",
     "output_type": "stream",
     "text": [
      "Congratulations! You qualify for free shipping.\n"
     ]
    }
   ],
   "source": [
    "## Sentencias de selección: Ampliación del espectro de elección\n",
    "order_total \n",
    "\n",
    "if order_total >= 50:\n",
    "  print(\"Congratulations! You qualify for free shipping.\")\n",
    "else:\n",
    "  print(\"Add more items to your cart to reach the free shipping threshold!\")"
   ]
  },
  {
   "cell_type": "code",
   "execution_count": 12,
   "id": "6efbdae2",
   "metadata": {},
   "outputs": [
    {
     "name": "stdout",
     "output_type": "stream",
     "text": [
      "Welcome to the Silver tier! Start earning rewards.\n"
     ]
    }
   ],
   "source": [
    "## Enriquecimiento de la selección con cláusulas elif \n",
    "\n",
    "points = 400\n",
    "\n",
    "if points >= 1000:\n",
    "  print(\"You've achieved Platinum status! Enjoy exclusive benefits.\")\n",
    "elif points >= 500:\n",
    "  print(\"You're a Gold member! Thank you for your loyalty.\")\n",
    "elif points >= 100:\n",
    "  print(\"Welcome to the Silver tier! Start earning rewards.\")\n",
    "else:\n",
    "  print(\"You're a Bronze member. Keep shopping to earn more points!\")"
   ]
  },
  {
   "cell_type": "code",
   "execution_count": 20,
   "id": "44b65eeb",
   "metadata": {},
   "outputs": [
    {
     "name": "stdout",
     "output_type": "stream",
     "text": [
      "Necesitas una identificación\n"
     ]
    }
   ],
   "source": [
    "## condiciones anidadas \n",
    "\n",
    "age = 19\n",
    "has_id = 0\n",
    "\n",
    "if age >= 18:\n",
    "    if has_id:\n",
    "        print(\"Acceso permitido\")\n",
    "    else:\n",
    "        print(\"Necesitas una identificación\")\n",
    "else:\n",
    "    print(\"Debes ser mayor de edad\")\n"
   ]
  },
  {
   "cell_type": "code",
   "execution_count": 22,
   "id": "79da58f6",
   "metadata": {},
   "outputs": [
    {
     "name": "stdout",
     "output_type": "stream",
     "text": [
      "Debes ser mayor de edad\n"
     ]
    }
   ],
   "source": [
    "## condiciones anidadas \n",
    "\n",
    "age = 13\n",
    "has_id = 1\n",
    "\n",
    "if age >= 18:\n",
    "    if has_id:\n",
    "        print(\"Acceso permitido\")\n",
    "    else:\n",
    "        print(\"Necesitas una identificación\")\n",
    "else:\n",
    "    print(\"Debes ser mayor de edad\")\n"
   ]
  },
  {
   "cell_type": "code",
   "execution_count": 21,
   "id": "6a5e48e5",
   "metadata": {},
   "outputs": [
    {
     "name": "stdout",
     "output_type": "stream",
     "text": [
      "Acceso permitido\n"
     ]
    }
   ],
   "source": [
    "## condiciones anidadas \n",
    "\n",
    "age = 19\n",
    "has_id = True\n",
    "\n",
    "if age >= 18:\n",
    "    if has_id:\n",
    "        print(\"Acceso permitido\")\n",
    "    else:\n",
    "        print(\"Necesitas una identificación\")\n",
    "else:\n",
    "    print(\"Debes ser mayor de edad\")\n"
   ]
  },
  {
   "cell_type": "code",
   "execution_count": 23,
   "id": "3f75d291",
   "metadata": {},
   "outputs": [
    {
     "name": "stdout",
     "output_type": "stream",
     "text": [
      "Descuento especial para estudiantes mayores\n"
     ]
    }
   ],
   "source": [
    "### lógica boleana\n",
    "\n",
    "is_student = True\n",
    "age = 65\n",
    "\n",
    "if age >= 65 and is_student:\n",
    "    print(\"Descuento especial para estudiantes mayores\")\n"
   ]
  },
  {
   "cell_type": "code",
   "execution_count": 24,
   "id": "04bd197b",
   "metadata": {},
   "outputs": [
    {
     "name": "stdout",
     "output_type": "stream",
     "text": [
      "1\n",
      "2\n",
      "3\n",
      "4\n",
      "5\n",
      "6\n",
      "7\n",
      "8\n",
      "9\n",
      "10\n"
     ]
    }
   ],
   "source": [
    "## Bucle for – Iterar sobre secuencias\n",
    "\n",
    "for i in range(1, 11):\n",
    "    print(i)\n",
    "\n"
   ]
  },
  {
   "cell_type": "code",
   "execution_count": 31,
   "id": "adbc9184",
   "metadata": {},
   "outputs": [
    {
     "name": "stdout",
     "output_type": "stream",
     "text": [
      "Invalid input. Please try again.\n",
      "Invalid input. Please try again.\n",
      "Invalid input. Please try again.\n"
     ]
    }
   ],
   "source": [
    "## Bucle while – Ejecución basada en condiciones\n",
    "\n",
    "valid_input = False\n",
    "\n",
    "\n",
    "while not valid_input:\n",
    "    user_input = int(input(\"Please enter a number greater than 0: \"))\n",
    "    if user_input > 0:\n",
    "        valid_input = True\n",
    "    else:\n",
    "        print(\"Invalid input. Please try again.\")\n"
   ]
  },
  {
   "cell_type": "code",
   "execution_count": 33,
   "id": "9188c181",
   "metadata": {},
   "outputs": [
    {
     "name": "stdout",
     "output_type": "stream",
     "text": [
      "Guessing: 3\n",
      "Guessing: 5\n",
      "I guessed the right number! It was 5\n"
     ]
    }
   ],
   "source": [
    "## Desafío de programación: Adivina el número secreto\n",
    "\n",
    "import random\n",
    "\n",
    "secret_number = 5\n",
    "\n",
    "guess = 0\n",
    "\n",
    "while guess != secret_number:\n",
    "\tguess = random.randint(1, 10)\n",
    "\tprint(\"Guessing:\",guess)\n",
    "\n",
    "print(\"I guessed the right number! It was\",secret_number)"
   ]
  },
  {
   "cell_type": "code",
   "execution_count": null,
   "id": "c797a807",
   "metadata": {},
   "outputs": [
    {
     "name": "stdout",
     "output_type": "stream",
     "text": [
      "El precio de tu entrada es de 10€.\n"
     ]
    }
   ],
   "source": [
    "## diálogo\n",
    "\n",
    "edad = 78\n",
    "\n",
    "if edad < 12:\n",
    "  print(\"El precio de tu entrada es de $8.\")\n",
    "elif edad >= 12 and edad <= 64:\n",
    "  print(\"El precio de tu entrada es de $12.\")\n",
    "elif edad >= 65:\n",
    "  print(\"El precio de tu entrada es de $10.\")\n"
   ]
  },
  {
   "cell_type": "code",
   "execution_count": 38,
   "id": "c824cd61",
   "metadata": {},
   "outputs": [
    {
     "name": "stdout",
     "output_type": "stream",
     "text": [
      "El precio de tu entrada es de $12.\n"
     ]
    }
   ],
   "source": [
    "## diálogo\n",
    "edad = int(input(\"Introduce tu edad: \"))\n",
    "\n",
    "if edad < 12:\n",
    "  print(\"El precio de tu entrada es de $8.\")\n",
    "elif edad >= 12 and edad <= 64:\n",
    "  print(\"El precio de tu entrada es de $12.\")\n",
    "elif edad >= 65:\n",
    "  print(\"El precio de tu entrada es de $10.\")\n"
   ]
  },
  {
   "cell_type": "code",
   "execution_count": 1,
   "id": "90e5be61",
   "metadata": {},
   "outputs": [
    {
     "name": "stdout",
     "output_type": "stream",
     "text": [
      "A light sweater should be fine. It's a bit chilly.\n"
     ]
    }
   ],
   "source": [
    "# Ejemplo con elif para múltiples condiciones:\n",
    "\n",
    "temperature = 15\n",
    "\n",
    "if temperature < 10:\n",
    "    print(\"Wear a jacket! It's cold out there.\")\n",
    "elif 10 <= temperature < 20:\n",
    "    print(\"A light sweater should be fine. It's a bit chilly.\")\n",
    "elif 20 <= temperature < 30:\n",
    "    print(\"Enjoy the pleasant weather! No need for extra layers.\")\n",
    "else:\n",
    "    print(\"It's hot! Stay hydrated and wear sunscreen.\")\n"
   ]
  },
  {
   "cell_type": "code",
   "execution_count": null,
   "id": "79f7e3f8",
   "metadata": {},
   "outputs": [
    {
     "name": "stdout",
     "output_type": "stream",
     "text": [
      "0\n",
      "1\n",
      "2\n",
      "3\n",
      "4\n"
     ]
    }
   ],
   "source": [
    "# for range(stop) cuenta desde 0 hasta stop - 1 (de 0 a 4)\n",
    "\n",
    "for i in range(5):\n",
    "    print(i)"
   ]
  },
  {
   "cell_type": "code",
   "execution_count": 40,
   "id": "ff24ade3",
   "metadata": {},
   "outputs": [
    {
     "name": "stdout",
     "output_type": "stream",
     "text": [
      "1\n",
      "2\n",
      "3\n",
      "4\n",
      "5\n",
      "6\n",
      "7\n",
      "8\n",
      "9\n",
      "10\n"
     ]
    }
   ],
   "source": [
    "# for range(start, stop) cuenta desde start hasta stop - 1 (de 1 a 10)\n",
    "\n",
    "for i in range(1, 11):\n",
    "    print(i)"
   ]
  },
  {
   "cell_type": "code",
   "execution_count": 41,
   "id": "1351aff6",
   "metadata": {},
   "outputs": [
    {
     "name": "stdout",
     "output_type": "stream",
     "text": [
      "1\n",
      "3\n",
      "5\n",
      "7\n",
      "9\n",
      "10\n",
      "9\n",
      "8\n",
      "7\n",
      "6\n"
     ]
    }
   ],
   "source": [
    "# for range(start, stop, step) cuenta desde start hasta stop - 1 con incremento step \n",
    "\n",
    "for i in range(1, 10, 2):\n",
    "    print(i)  # 1,3,5,7,9\n",
    "for i in range(10, 5, -1):\n",
    "    print(i)  # 10,9,8,7,6"
   ]
  },
  {
   "cell_type": "code",
   "execution_count": 42,
   "id": "f8360b61",
   "metadata": {},
   "outputs": [
    {
     "name": "stdout",
     "output_type": "stream",
     "text": [
      "1\n",
      "2\n",
      "3\n",
      "4\n",
      "5\n",
      "6\n",
      "7\n",
      "8\n",
      "9\n",
      "10\n"
     ]
    }
   ],
   "source": [
    "## bucles while \n",
    "number = 1\n",
    "while number <= 10:\n",
    "    print(number)\n",
    "    number = number + 1\n"
   ]
  },
  {
   "cell_type": "code",
   "execution_count": null,
   "id": "c35fdacf",
   "metadata": {},
   "outputs": [
    {
     "name": "stdout",
     "output_type": "stream",
     "text": [
      "1. Perform action 1\n",
      "2. Perform action 2\n",
      "3. Perform action 3\n",
      "4. Quit\n",
      "1. Perform action 1\n",
      "2. Perform action 2\n",
      "3. Perform action 3\n",
      "4. Quit\n",
      "1. Perform action 1\n",
      "2. Perform action 2\n",
      "3. Perform action 3\n",
      "4. Quit\n",
      "1. Perform action 1\n",
      "2. Perform action 2\n",
      "3. Perform action 3\n",
      "4. Quit\n"
     ]
    }
   ],
   "source": [
    "## menú interactivo con while (mientras pongas un número distinto de 4 mostrará el 1. 2. 3. 4. y cuando pongas el 4 terminará)\n",
    "\n",
    "option = 0\n",
    "while option != 4:\n",
    "    print(\"1. Perform action 1\")\n",
    "    print(\"2. Perform action 2\")\n",
    "    print(\"3. Perform action 3\")\n",
    "    print(\"4. Quit\")\n",
    "    option = int(input(\"Choose an option: \"))"
   ]
  },
  {
   "cell_type": "code",
   "execution_count": 2,
   "id": "974c83af",
   "metadata": {},
   "outputs": [
    {
     "name": "stdout",
     "output_type": "stream",
     "text": [
      "You entered: rere\n",
      "You entered: \n",
      "You entered: quit\n"
     ]
    }
   ],
   "source": [
    "# Solicitar entrada hasta que el usuario escriba \"quit\"\n",
    "user_input = \"\"\n",
    "while user_input != \"quit\":\n",
    "    user_input = input(\"Enter something (or 'quit' to exit): \")\n",
    "    print(\"You entered:\", user_input)\n",
    "\n"
   ]
  },
  {
   "cell_type": "code",
   "execution_count": 52,
   "id": "972db7a7",
   "metadata": {},
   "outputs": [],
   "source": [
    "### Listas y bucles \n",
    "\n",
    "fruits = [\"apple\", \"banana\", \"cherry\"]\n",
    "\n",
    "\n",
    "\n"
   ]
  },
  {
   "cell_type": "code",
   "execution_count": 57,
   "id": "6e41699b",
   "metadata": {},
   "outputs": [
    {
     "name": "stdout",
     "output_type": "stream",
     "text": [
      "apple\n"
     ]
    }
   ],
   "source": [
    "## cada elemento de la lista tiene asignado un índice\n",
    "\n",
    "first_fruit = fruits[0]  # \"apple\"\n",
    "print(first_fruit)\n"
   ]
  },
  {
   "cell_type": "code",
   "execution_count": 51,
   "id": "a8a4ce2e",
   "metadata": {},
   "outputs": [
    {
     "name": "stdout",
     "output_type": "stream",
     "text": [
      "3\n"
     ]
    }
   ],
   "source": [
    "## cantidad de elementos de la lista con len\n",
    "\n",
    "fruit_length = len(fruits)\n",
    "print(fruit_length)  # 3\n"
   ]
  },
  {
   "cell_type": "code",
   "execution_count": 54,
   "id": "87d5e9d7",
   "metadata": {},
   "outputs": [
    {
     "name": "stdout",
     "output_type": "stream",
     "text": [
      "['apple', 'banana', 'cherry', 'date']\n"
     ]
    }
   ],
   "source": [
    "## añadir elementos al final de la lista con append\n",
    "\n",
    "fruits.append(\"date\")\n",
    "print(fruits)  # [\"apple\", \"banana\", \"cherry\", \"date\"]\n"
   ]
  },
  {
   "cell_type": "code",
   "execution_count": 58,
   "id": "de89e396",
   "metadata": {},
   "outputs": [
    {
     "name": "stdout",
     "output_type": "stream",
     "text": [
      "Hello, Alice\n",
      "Hello, Bob\n",
      "Hello, Charlie\n"
     ]
    }
   ],
   "source": [
    "## recorrer listas con bucles\n",
    "\n",
    "students = [\"Alice\", \"Bob\", \"Charlie\"]\n",
    "for student in students:\n",
    "    print(\"Hello,\", student)\n"
   ]
  },
  {
   "cell_type": "code",
   "execution_count": null,
   "id": "70a5a3b4",
   "metadata": {},
   "outputs": [
    {
     "name": "stdout",
     "output_type": "stream",
     "text": [
      "Hello, Alice\n",
      "Hello, Bob\n",
      "Hello, Charlie\n"
     ]
    }
   ],
   "source": [
    "### con range() (más manual)\n",
    "\n",
    "for i in range(0, len(students)): ## va desde 0 hasta 3 (desde Alice hasta Charlie)\n",
    "    print(\"Hello,\", students[i])\n"
   ]
  },
  {
   "cell_type": "code",
   "execution_count": null,
   "id": "0e2044bf",
   "metadata": {},
   "outputs": [
    {
     "name": "stdout",
     "output_type": "stream",
     "text": [
      "You rolled a 3\n",
      "You rolled a 5\n",
      "You rolled a 4\n",
      "You rolled a 1\n",
      "You rolled a 3\n",
      "You rolled a 6\n"
     ]
    }
   ],
   "source": [
    "## Ejemplo while: simular tiradas de dados hasta obtener un 6\n",
    "\n",
    "import random\n",
    "\n",
    "roll = 0\n",
    "while roll != 6: # para el bucle cuando llega a 6\n",
    "    roll = random.randint(1, 6)\n",
    "    print(\"You rolled a\", roll)\n"
   ]
  },
  {
   "cell_type": "code",
   "execution_count": null,
   "id": "3acdf590",
   "metadata": {},
   "outputs": [
    {
     "name": "stdout",
     "output_type": "stream",
     "text": [
      "The sum is: 1\n",
      "The sum is: 3\n",
      "The sum is: 6\n",
      "The sum is: 10\n",
      "The sum is: 15\n",
      "The sum is: 21\n",
      "The sum is: 28\n",
      "The sum is: 36\n",
      "The sum is: 45\n",
      "The sum is: 55\n",
      "The sum is: 66\n",
      "The sum is: 78\n",
      "The sum is: 91\n",
      "The sum is: 105\n",
      "The sum is: 120\n",
      "The sum is: 136\n",
      "The sum is: 153\n",
      "The sum is: 171\n",
      "The sum is: 190\n",
      "The sum is: 210\n",
      "The sum is: 231\n",
      "The sum is: 253\n",
      "The sum is: 276\n",
      "The sum is: 300\n",
      "The sum is: 325\n",
      "The sum is: 351\n",
      "The sum is: 378\n",
      "The sum is: 406\n",
      "The sum is: 435\n",
      "The sum is: 465\n",
      "The sum is: 496\n",
      "The sum is: 528\n",
      "The sum is: 561\n",
      "The sum is: 595\n",
      "The sum is: 630\n",
      "The sum is: 666\n",
      "The sum is: 703\n",
      "The sum is: 741\n",
      "The sum is: 780\n",
      "The sum is: 820\n",
      "The sum is: 861\n",
      "The sum is: 903\n",
      "The sum is: 946\n",
      "The sum is: 990\n",
      "The sum is: 1035\n",
      "The sum is: 1081\n",
      "The sum is: 1128\n",
      "The sum is: 1176\n",
      "The sum is: 1225\n",
      "The sum is: 1275\n",
      "The sum is: 1326\n",
      "The sum is: 1378\n",
      "The sum is: 1431\n",
      "The sum is: 1485\n",
      "The sum is: 1540\n",
      "The sum is: 1596\n",
      "The sum is: 1653\n",
      "The sum is: 1711\n",
      "The sum is: 1770\n",
      "The sum is: 1830\n",
      "The sum is: 1891\n",
      "The sum is: 1953\n",
      "The sum is: 2016\n",
      "The sum is: 2080\n",
      "The sum is: 2145\n",
      "The sum is: 2211\n",
      "The sum is: 2278\n",
      "The sum is: 2346\n",
      "The sum is: 2415\n",
      "The sum is: 2485\n",
      "The sum is: 2556\n",
      "The sum is: 2628\n",
      "The sum is: 2701\n",
      "The sum is: 2775\n",
      "The sum is: 2850\n",
      "The sum is: 2926\n",
      "The sum is: 3003\n",
      "The sum is: 3081\n",
      "The sum is: 3160\n",
      "The sum is: 3240\n",
      "The sum is: 3321\n",
      "The sum is: 3403\n",
      "The sum is: 3486\n",
      "The sum is: 3570\n",
      "The sum is: 3655\n",
      "The sum is: 3741\n",
      "The sum is: 3828\n",
      "The sum is: 3916\n",
      "The sum is: 4005\n",
      "The sum is: 4095\n",
      "The sum is: 4186\n",
      "The sum is: 4278\n",
      "The sum is: 4371\n",
      "The sum is: 4465\n",
      "The sum is: 4560\n",
      "The sum is: 4656\n",
      "The sum is: 4753\n",
      "The sum is: 4851\n",
      "The sum is: 4950\n",
      "The sum is: 5050\n"
     ]
    }
   ],
   "source": [
    "### Contar y procesar datos con bucles for. Ejemplo: suma de números del 1 al 100\n",
    "\n",
    "total = 0\n",
    "for number in range(1, 101):\n",
    "    total += number # primero suma el 1 + 2, luego el 3 + 3, luego el 6 + 4 (suma los números metidos en el for hasta el 100) # se puede poner como total = total + number\n",
    "    print(\"The sum is:\", total)\n",
    "\n",
    "\n"
   ]
  },
  {
   "cell_type": "code",
   "execution_count": null,
   "id": "cf3dcd6d",
   "metadata": {},
   "outputs": [
    {
     "name": "stdout",
     "output_type": "stream",
     "text": [
      "2\n",
      "4\n"
     ]
    }
   ],
   "source": [
    "## Bucles while con condiciones complejas. Ejemplo: imprimir números pares de una lista\n",
    "\n",
    "numbers = [1, 2, 3, 4, 5]\n",
    "index = 0\n",
    "\n",
    "while index < len(numbers):\n",
    "    if numbers[index] % 2 == 0: ## condición de pares\n",
    "        print(numbers[index])\n",
    "    index += 1 ## va recorriendo el bucle hasta terminar. Si quitas esto no termina nunca el bucle\n"
   ]
  },
  {
   "cell_type": "code",
   "execution_count": 65,
   "id": "ed74158e",
   "metadata": {},
   "outputs": [
    {
     "name": "stdout",
     "output_type": "stream",
     "text": [
      "1 * 1 = 1\t1 * 2 = 2\t1 * 3 = 3\t1 * 4 = 4\t1 * 5 = 5\t1 * 6 = 6\t1 * 7 = 7\t1 * 8 = 8\t1 * 9 = 9\t1 * 10 = 10\t\n",
      "2 * 1 = 2\t2 * 2 = 4\t2 * 3 = 6\t2 * 4 = 8\t2 * 5 = 10\t2 * 6 = 12\t2 * 7 = 14\t2 * 8 = 16\t2 * 9 = 18\t2 * 10 = 20\t\n",
      "3 * 1 = 3\t3 * 2 = 6\t3 * 3 = 9\t3 * 4 = 12\t3 * 5 = 15\t3 * 6 = 18\t3 * 7 = 21\t3 * 8 = 24\t3 * 9 = 27\t3 * 10 = 30\t\n",
      "4 * 1 = 4\t4 * 2 = 8\t4 * 3 = 12\t4 * 4 = 16\t4 * 5 = 20\t4 * 6 = 24\t4 * 7 = 28\t4 * 8 = 32\t4 * 9 = 36\t4 * 10 = 40\t\n",
      "5 * 1 = 5\t5 * 2 = 10\t5 * 3 = 15\t5 * 4 = 20\t5 * 5 = 25\t5 * 6 = 30\t5 * 7 = 35\t5 * 8 = 40\t5 * 9 = 45\t5 * 10 = 50\t\n",
      "6 * 1 = 6\t6 * 2 = 12\t6 * 3 = 18\t6 * 4 = 24\t6 * 5 = 30\t6 * 6 = 36\t6 * 7 = 42\t6 * 8 = 48\t6 * 9 = 54\t6 * 10 = 60\t\n",
      "7 * 1 = 7\t7 * 2 = 14\t7 * 3 = 21\t7 * 4 = 28\t7 * 5 = 35\t7 * 6 = 42\t7 * 7 = 49\t7 * 8 = 56\t7 * 9 = 63\t7 * 10 = 70\t\n",
      "8 * 1 = 8\t8 * 2 = 16\t8 * 3 = 24\t8 * 4 = 32\t8 * 5 = 40\t8 * 6 = 48\t8 * 7 = 56\t8 * 8 = 64\t8 * 9 = 72\t8 * 10 = 80\t\n",
      "9 * 1 = 9\t9 * 2 = 18\t9 * 3 = 27\t9 * 4 = 36\t9 * 5 = 45\t9 * 6 = 54\t9 * 7 = 63\t9 * 8 = 72\t9 * 9 = 81\t9 * 10 = 90\t\n",
      "10 * 1 = 10\t10 * 2 = 20\t10 * 3 = 30\t10 * 4 = 40\t10 * 5 = 50\t10 * 6 = 60\t10 * 7 = 70\t10 * 8 = 80\t10 * 9 = 90\t10 * 10 = 100\t\n"
     ]
    }
   ],
   "source": [
    "#Bucles anidados: iteración avanzada. Ejemplo: tabla de multiplicar\n",
    "\n",
    "for i in range(1, 11):\n",
    "    for j in range(1, 11):\n",
    "        print(i, \"*\", j, \"=\", i * j, end=\"\\t\")  # Tabulación en lugar de nueva línea\n",
    "    print()  # Salto de línea tras cada fila\n",
    "\n"
   ]
  },
  {
   "cell_type": "code",
   "execution_count": 68,
   "id": "87e41974",
   "metadata": {},
   "outputs": [
    {
     "name": "stdout",
     "output_type": "stream",
     "text": [
      "0\n",
      "12\n",
      "24\n",
      "36\n",
      "48\n"
     ]
    }
   ],
   "source": [
    "## Desafío\n",
    "\n",
    "# Valor máximo\n",
    "max_value = 50\n",
    "number = 0 # no hace falta porque empieza en 0 por defecto\n",
    "\n",
    "\n",
    "# Bucle for para recorrer los números desde 0 hasta max_value inclusive\n",
    "for number in range(max_value + 1): # genera números del 0 al 50 inclusive\n",
    "    # Comprobar si el número es divisible por 3 y por 4\n",
    "    if number % 3 == 0 and number % 4 == 0:\n",
    "        print(number)"
   ]
  },
  {
   "cell_type": "code",
   "execution_count": null,
   "id": "95b7c7a9",
   "metadata": {},
   "outputs": [
    {
     "name": "stdout",
     "output_type": "stream",
     "text": [
      "3 es impar\n",
      "9 es impar\n",
      "1 es impar\n",
      "10 es par\n",
      "5 es impar\n",
      "2 es par\n",
      "8 es par\n"
     ]
    }
   ],
   "source": [
    "## Desafío: escribir si los números de la variable number son pares o impares usando for number in numbers\n",
    "\n",
    "numbers = [3, 9, 1, 10, 5, 2, 8]\n",
    "\n",
    "number = 0\n",
    "\n",
    "for number in numbers:\n",
    "    if number %2 == 0:\n",
    "        print(number, 'es par')\n",
    "    else:\n",
    "        print(number, 'es impar')\n"
   ]
  },
  {
   "cell_type": "code",
   "execution_count": null,
   "id": "6105feff",
   "metadata": {},
   "outputs": [
    {
     "name": "stdout",
     "output_type": "stream",
     "text": [
      "10\n",
      "9\n",
      "8\n",
      "7\n",
      "6\n",
      "5 Has llegado a la mitad\n",
      "4\n",
      "3\n",
      "2\n",
      "1\n",
      "0\n"
     ]
    }
   ],
   "source": [
    "### Diálogo cuenta regresiva del 10 al 0 con mensaje especial en el 5 usando for y condicionales\n",
    "\n",
    "\n",
    "for cuenta_regresiva in range(10, -1, -1):\n",
    "    if cuenta_regresiva == 5:\n",
    "        print(cuenta_regresiva, 'Has llegado a la mitad')\n",
    "    else:\n",
    "        print(cuenta_regresiva)\n",
    "    \n",
    "\n",
    "    \n"
   ]
  },
  {
   "cell_type": "code",
   "execution_count": null,
   "id": "aceab7bb",
   "metadata": {},
   "outputs": [],
   "source": [
    "#### Errores comunes en la ejecución de código en Python y cómo evitarlos"
   ]
  },
  {
   "cell_type": "code",
   "execution_count": 2,
   "id": "10c5b1b5",
   "metadata": {},
   "outputs": [
    {
     "ename": "IndentationError",
     "evalue": "unindent does not match any outer indentation level (<string>, line 7)",
     "output_type": "error",
     "traceback": [
      "  \u001b[36mFile \u001b[39m\u001b[32m<string>:7\u001b[39m\n\u001b[31m    \u001b[39m\u001b[31melse:  # Incorrect indentation\u001b[39m\n                                  ^\n\u001b[31mIndentationError\u001b[39m\u001b[31m:\u001b[39m unindent does not match any outer indentation level\n"
     ]
    }
   ],
   "source": [
    "### 1. Errores de sangría (IndentationError)\n",
    "\n",
    "x = 0\n",
    "\n",
    "if x > 5:\n",
    "    print(\"x is greater than 5\")\n",
    "  else:  # Incorrect indentation\n",
    "    print(\"x is less than or equal to 5\")\n",
    "\n"
   ]
  },
  {
   "cell_type": "code",
   "execution_count": 3,
   "id": "8fd03ace",
   "metadata": {},
   "outputs": [
    {
     "name": "stdout",
     "output_type": "stream",
     "text": [
      "x is less than or equal to 5\n"
     ]
    }
   ],
   "source": [
    "### Error 1. corregido\n",
    "\n",
    "x = 0\n",
    "\n",
    "if x > 5:\n",
    "    print(\"x is greater than 5\")\n",
    "else:  \n",
    "    print(\"x is less than or equal to 5\")\n"
   ]
  },
  {
   "cell_type": "code",
   "execution_count": null,
   "id": "059d979d",
   "metadata": {},
   "outputs": [
    {
     "ename": "NameError",
     "evalue": "name 'w' is not defined",
     "output_type": "error",
     "traceback": [
      "\u001b[31m---------------------------------------------------------------------------\u001b[39m",
      "\u001b[31mNameError\u001b[39m                                 Traceback (most recent call last)",
      "\u001b[36mCell\u001b[39m\u001b[36m \u001b[39m\u001b[32mIn[5]\u001b[39m\u001b[32m, line 8\u001b[39m\n\u001b[32m      5\u001b[39m     w = \u001b[32m10\u001b[39m\n\u001b[32m      6\u001b[39m     \u001b[38;5;28mprint\u001b[39m(w)  \u001b[38;5;66;03m# No problem here\u001b[39;00m\n\u001b[32m----> \u001b[39m\u001b[32m8\u001b[39m \u001b[38;5;28mprint\u001b[39m(\u001b[43mw\u001b[49m)  \u001b[38;5;66;03m# Error si flag = False\u001b[39;00m\n",
      "\u001b[31mNameError\u001b[39m: name 'w' is not defined"
     ]
    }
   ],
   "source": [
    "### 2. Ámbito de las variables (NameError) no está definido w fuera del if\n",
    "\n",
    "flag = False\n",
    "if flag:\n",
    "    w = 10\n",
    "    print(w)  # No problem here\n",
    "\n",
    "print(w)  # Error si flag = False\n",
    "\n"
   ]
  },
  {
   "cell_type": "code",
   "execution_count": null,
   "id": "1f9645e8",
   "metadata": {},
   "outputs": [
    {
     "name": "stdout",
     "output_type": "stream",
     "text": [
      "None\n",
      "10\n",
      "10\n"
     ]
    }
   ],
   "source": [
    "### Error 2. corregido \n",
    "\n",
    "flag = False\n",
    "w = None  # Definir fuera del if\n",
    "\n",
    "if flag:\n",
    "    w = 10\n",
    "    print(w)\n",
    "\n",
    "print(w)\n",
    "\n",
    "# otra forma\n",
    "\n",
    "flag = True\n",
    "\n",
    "\n",
    "if flag:\n",
    "    w = 10\n",
    "    print(w)\n",
    "\n",
    "print(w)\n"
   ]
  },
  {
   "cell_type": "code",
   "execution_count": null,
   "id": "d6e14ac3",
   "metadata": {},
   "outputs": [
    {
     "ename": "TypeError",
     "evalue": "'str' object does not support item assignment",
     "output_type": "error",
     "traceback": [
      "\u001b[31m---------------------------------------------------------------------------\u001b[39m",
      "\u001b[31mTypeError\u001b[39m                                 Traceback (most recent call last)",
      "\u001b[36mCell\u001b[39m\u001b[36m \u001b[39m\u001b[32mIn[9]\u001b[39m\u001b[32m, line 4\u001b[39m\n\u001b[32m      1\u001b[39m \u001b[38;5;66;03m### 3. Valores inmutables (TypeError con strings)\u001b[39;00m\n\u001b[32m      3\u001b[39m value = \u001b[33m\"\u001b[39m\u001b[33mHello\u001b[39m\u001b[33m\"\u001b[39m\n\u001b[32m----> \u001b[39m\u001b[32m4\u001b[39m \u001b[43mvalue\u001b[49m\u001b[43m[\u001b[49m\u001b[32;43m0\u001b[39;49m\u001b[43m]\u001b[49m = \u001b[33m'\u001b[39m\u001b[33mh\u001b[39m\u001b[33m'\u001b[39m\n\u001b[32m      5\u001b[39m \u001b[38;5;28mprint\u001b[39m(value)\n",
      "\u001b[31mTypeError\u001b[39m: 'str' object does not support item assignment"
     ]
    }
   ],
   "source": [
    "### 3. Valores inmutables (TypeError con strings) ### cambiar Hello por hello\n",
    "\n",
    "value = \"Hello\"\n",
    "value[0] = 'h'\n",
    "print(value)\n"
   ]
  },
  {
   "cell_type": "code",
   "execution_count": 10,
   "id": "2d0de0c0",
   "metadata": {},
   "outputs": [
    {
     "name": "stdout",
     "output_type": "stream",
     "text": [
      "hello\n"
     ]
    }
   ],
   "source": [
    "### Error 3. corregido\n",
    "\n",
    "value = \"Hello\"\n",
    "new_value = \"h\" + value[1:]\n",
    "print(new_value)  # Output: hello # habrá más formas en el futuro\n"
   ]
  },
  {
   "cell_type": "code",
   "execution_count": null,
   "id": "1ea7546e",
   "metadata": {},
   "outputs": [
    {
     "name": "stdout",
     "output_type": "stream",
     "text": [
      "10\n",
      "10\n"
     ]
    }
   ],
   "source": [
    "### 4. Reasignación de variables sin querer\n",
    "\n",
    "x = 5\n",
    "\n",
    "if True:\n",
    "    x = 10  # Reutilizado accidentalmente\n",
    "    print(x)  # Output: 10\n",
    "\n",
    "print(x)  # Output: 10\n"
   ]
  },
  {
   "cell_type": "code",
   "execution_count": 12,
   "id": "7f2eba96",
   "metadata": {},
   "outputs": [
    {
     "name": "stdout",
     "output_type": "stream",
     "text": [
      "10\n",
      "5\n"
     ]
    }
   ],
   "source": [
    "### Error 4. corregido\n",
    "\n",
    "x = 5\n",
    "\n",
    "if True:\n",
    "    new_x = 10  # Nombre distinto\n",
    "    print(new_x)  # Output: 10\n",
    "\n",
    "print(x)  # Output: 5\n"
   ]
  },
  {
   "cell_type": "code",
   "execution_count": 13,
   "id": "336b293e",
   "metadata": {},
   "outputs": [
    {
     "ename": "ZeroDivisionError",
     "evalue": "division by zero",
     "output_type": "error",
     "traceback": [
      "\u001b[31m---------------------------------------------------------------------------\u001b[39m",
      "\u001b[31mZeroDivisionError\u001b[39m                         Traceback (most recent call last)",
      "\u001b[36mCell\u001b[39m\u001b[36m \u001b[39m\u001b[32mIn[13]\u001b[39m\u001b[32m, line 6\u001b[39m\n\u001b[32m      3\u001b[39m x = \u001b[32m10\u001b[39m\n\u001b[32m      4\u001b[39m y = \u001b[32m0\u001b[39m\n\u001b[32m----> \u001b[39m\u001b[32m6\u001b[39m result = \u001b[43mx\u001b[49m\u001b[43m \u001b[49m\u001b[43m/\u001b[49m\u001b[43m \u001b[49m\u001b[43my\u001b[49m  \u001b[38;5;66;03m# ZeroDivisionError\u001b[39;00m\n",
      "\u001b[31mZeroDivisionError\u001b[39m: division by zero"
     ]
    }
   ],
   "source": [
    "### 5. Pasar por alto las excepciones (ZeroDivisionError)\n",
    "\n",
    "x = 10\n",
    "y = 0\n",
    "\n",
    "result = x / y  # ZeroDivisionError\n"
   ]
  },
  {
   "cell_type": "code",
   "execution_count": 14,
   "id": "ad38421b",
   "metadata": {},
   "outputs": [
    {
     "name": "stdout",
     "output_type": "stream",
     "text": [
      "Error: Division by zero\n"
     ]
    }
   ],
   "source": [
    "### Error 5. corregido (uso de try except)\n",
    "\n",
    "x = 10\n",
    "y = 0\n",
    "\n",
    "try:\n",
    "    result = x / y\n",
    "except ZeroDivisionError:\n",
    "    print(\"Error: Division by zero\")\n"
   ]
  },
  {
   "cell_type": "code",
   "execution_count": 15,
   "id": "535a6128",
   "metadata": {},
   "outputs": [
    {
     "name": "stdout",
     "output_type": "stream",
     "text": [
      "Celsius Temperatures: [0, 10, 25, 32, 100]\n",
      "Fahrenheit Temperatures: []\n"
     ]
    }
   ],
   "source": [
    "## ACTIVIDAD: variables y bucles\n",
    "\n",
    "# Create a list and add sample Celsius temperatures to it \n",
    "celsius_temperatures = [] # Start with an empty list (do not modify)\n",
    "\n",
    "# Add the Celsius temperatures to the list\n",
    "celsius_temperatures = [0, 10, 25, 32, 100]\n",
    "\n",
    "# Create an empty list to store Fahrenheit temperatures\n",
    "fahrenheit_temperatures = []\n",
    "\n",
    "# Print both lists (do not modify)\n",
    "print(\"Celsius Temperatures:\", celsius_temperatures)\n",
    "print(\"Fahrenheit Temperatures:\", fahrenheit_temperatures) "
   ]
  },
  {
   "cell_type": "code",
   "execution_count": 16,
   "id": "5e4eaac3",
   "metadata": {},
   "outputs": [
    {
     "name": "stdout",
     "output_type": "stream",
     "text": [
      "Celsius Temperatures: [0, 10, 25, 32, 100]\n",
      "Fahrenheit Temperatures: [32.0, 50.0, 77.0, 89.6, 212.0]\n"
     ]
    }
   ],
   "source": [
    "## Continuación de la ACTIVIDAD: variables y bucles\n",
    "\n",
    "# Lists from Step 1 (do not modify)\n",
    "celsius_temperatures = [0, 10, 25, 32, 100]\n",
    "fahrenheit_temperatures = [] \n",
    "\n",
    "# Convert each Celsius temperature to Fahrenheit\n",
    "for celsius in celsius_temperatures:  # Start the loop (do not modify this line)\n",
    "  fahrenheit = (celsius * 9/5) + 32\n",
    "\n",
    "  fahrenheit_temperatures.append(fahrenheit)  # Append to the list (do not modify this line)\n",
    "\n",
    "# Print the results (including the output from Step 1 - do not modify)\n",
    "print(\"Celsius Temperatures:\", celsius_temperatures)\n",
    "print(\"Fahrenheit Temperatures:\", fahrenheit_temperatures)"
   ]
  },
  {
   "cell_type": "code",
   "execution_count": 20,
   "id": "cc5cbb08",
   "metadata": {},
   "outputs": [
    {
     "name": "stdout",
     "output_type": "stream",
     "text": [
      "[]\n",
      "[2, 3, 5, 7, 11, 13]\n",
      "['a', 'e', 'i', 'o', 'u']\n",
      "[True, False, True, True, False]\n",
      "['Aashvi', 24, 'Computer Science', 3.8, True]\n"
     ]
    }
   ],
   "source": [
    "### Declaración de listas – Ejemplos comunes:\n",
    "\n",
    "# Lista vacía: inicializada para llenarse durante la ejecución.\n",
    "\n",
    "new_list = []\n",
    "print(new_list)\n",
    "\n",
    "# Números primos: almacenar enteros menores o iguales a 13.\n",
    "\n",
    "primes = [2, 3, 5, 7, 11, 13]\n",
    "print(primes)\n",
    "\n",
    "# Vocales: lista de cadenas con vocales.\n",
    "\n",
    "vowels = [\"a\", \"e\", \"i\", \"o\", \"u\"]\n",
    "print(vowels)\n",
    "\n",
    "# Resultados de lanzamientos de moneda (booleanos):\n",
    "\n",
    "coin_flips = [True, False, True, True, False]\n",
    "print(coin_flips)\n",
    " \n",
    "# Valores mixtos (ejemplo de información de un estudiante):\n",
    "\n",
    "student_record = [\"Aashvi\", 24, \"Computer Science\", 3.8, True]\n",
    "print(student_record)\n"
   ]
  },
  {
   "cell_type": "code",
   "execution_count": 21,
   "id": "700a61e5",
   "metadata": {},
   "outputs": [
    {
     "name": "stdout",
     "output_type": "stream",
     "text": [
      "['milk', 'hummus', 'bread', 'cheese', 'apples']\n"
     ]
    }
   ],
   "source": [
    "### Creación y visualización de listas\n",
    "### Ejemplo de lista de la compra:\n",
    "    \n",
    "grocery_list = [\"milk\", \"hummus\", \"bread\", \"cheese\", \"apples\"]\n",
    "\n",
    "# Imprimir lista completa:\n",
    "\n",
    "print(grocery_list)\n",
    "\n",
    "# ['milk', 'hummus', 'bread', 'cheese', 'apples']\n"
   ]
  },
  {
   "cell_type": "code",
   "execution_count": 22,
   "id": "1c2d6599",
   "metadata": {},
   "outputs": [
    {
     "name": "stdout",
     "output_type": "stream",
     "text": [
      "milk\n",
      "5\n",
      "apples\n",
      "apples\n"
     ]
    }
   ],
   "source": [
    "# Indexación\n",
    "\n",
    "# Para imprimir un elemento específico:\n",
    "\n",
    "print(grocery_list[0])  # milk\n",
    "\n",
    "\n",
    "# Longitud de la lista:\n",
    "\n",
    "print(len(grocery_list))  # 5\n",
    "\n",
    "\n",
    "# Último elemento:\n",
    "\n",
    "print(grocery_list[len(grocery_list)-1])  \n",
    "\n",
    "# o más simple:\n",
    "last_index = len(grocery_list) - 1\n",
    "print(grocery_list[last_index])\n"
   ]
  },
  {
   "cell_type": "code",
   "execution_count": 23,
   "id": "db6d098c",
   "metadata": {},
   "outputs": [
    {
     "name": "stdout",
     "output_type": "stream",
     "text": [
      "['milk', 'hummus']\n"
     ]
    }
   ],
   "source": [
    "# Rebanado (slicing)\n",
    "# Permite acceder a una parte de la lista.\n",
    "\n",
    "print(grocery_list[0:2])  # ['milk', 'hummus']\n",
    "\n",
    "# Devuelve los elementos desde el índice inicial hasta el índice final (sin incluirlo).\n"
   ]
  },
  {
   "cell_type": "code",
   "execution_count": null,
   "id": "e6511c0a",
   "metadata": {},
   "outputs": [
    {
     "name": "stdout",
     "output_type": "stream",
     "text": [
      "Curved scores: [65, 80, 88, 62, 78]\n"
     ]
    }
   ],
   "source": [
    "# Comprensión de listas\n",
    "# Forma concisa y eficiente de crear nuevas listas a partir de otras.\n",
    "\n",
    "# Sintaxis:\n",
    "# [expression for item in iterable]\n",
    "\n",
    "# Ejemplo – aumentar 10 puntos a cada nota:\n",
    "\n",
    "exam_scores = [55, 70, 78, 52, 68]\n",
    "curve_amount = 10\n",
    "curved_grades = [score + curve_amount for score in exam_scores] # nueva lista a partir de otra\n",
    "print(\"Curved scores:\", curved_grades)\n",
    "# [65, 80, 88, 62, 78]\n",
    "\n",
    "\n",
    "# Errores comunes con listas\n",
    "\n",
    "# IndexError: acceder a un índice inexistente.\n",
    "\n",
    "\n",
    "# ValueError: intentar eliminar un valor que no está en la lista.\n",
    "\n",
    "\n"
   ]
  },
  {
   "cell_type": "code",
   "execution_count": 25,
   "id": "80066b40",
   "metadata": {},
   "outputs": [
    {
     "name": "stdout",
     "output_type": "stream",
     "text": [
      "6\n"
     ]
    }
   ],
   "source": [
    "# Listas bidimensionales (listas dentro de listas)\n",
    "# Ejemplo de cuadrícula:\n",
    "\n",
    "grid = [\n",
    "  [1, 2, 3],\n",
    "  [4, 5, 6],\n",
    "  [7, 8, 9]\n",
    "]\n",
    "print(grid[1][2])  # 6 (elemento de la segunda fila y tercera columna)\n",
    "\n",
    "\n"
   ]
  },
  {
   "cell_type": "code",
   "execution_count": 7,
   "id": "830a7515",
   "metadata": {},
   "outputs": [
    {
     "name": "stdout",
     "output_type": "stream",
     "text": [
      "Lista original: ['milk', 'hummus', 'bread', 'cheese', 'apples']\n",
      "Número de elementos: 5\n",
      "Después de append('bananas'): ['milk', 'hummus', 'bread', 'cheese', 'apples', 'bananas']\n",
      "Después de insert(1, 'yogurt'): ['milk', 'yogurt', 'hummus', 'bread', 'cheese', 'apples', 'bananas']\n",
      "Después de remove('milk'): ['yogurt', 'hummus', 'bread', 'cheese', 'apples', 'bananas']\n",
      "Después de sort(): ['apples', 'bananas', 'bread', 'cheese', 'hummus', 'yogurt']\n",
      "Después de reverse(): ['yogurt', 'hummus', 'cheese', 'bread', 'bananas', 'apples']\n",
      "Veces que aparece 'apples': 1\n",
      "Elemento eliminado con pop(): apples\n",
      "Después de pop(): ['yogurt', 'hummus', 'cheese', 'bread', 'bananas']\n",
      "Elemento eliminado en índice 1 con pop(1): hummus\n",
      "Después de pop(1): ['yogurt', 'cheese', 'bread', 'bananas']\n"
     ]
    }
   ],
   "source": [
    "# Operaciones comunes con listas\n",
    "# Dada la lista: recuerda que el priemr elemento es 0\n",
    "\n",
    "grocery_list = [\"milk\", \"hummus\", \"bread\", \"cheese\", \"apples\"]\n",
    "\n",
    "# Lista original\n",
    "grocery_list = [\"milk\", \"hummus\", \"bread\", \"cheese\", \"apples\"]\n",
    "print(\"Lista original:\", grocery_list)\n",
    "\n",
    "# 1. len(lista): número de elementos\n",
    "print(\"Número de elementos:\", len(grocery_list))\n",
    "\n",
    "# 2. append(x): añadir al final\n",
    "grocery_list.append(\"bananas\")\n",
    "print(\"Después de append('bananas'):\", grocery_list)\n",
    "\n",
    "# 3. insert(i, x): insertar en un índice específico\n",
    "grocery_list.insert(1, \"yogurt\")\n",
    "print(\"Después de insert(1, 'yogurt'):\", grocery_list)\n",
    "\n",
    "# 4. remove(x): eliminar la primera aparición de un elemento\n",
    "grocery_list.remove(\"milk\")\n",
    "print(\"Después de remove('milk'):\", grocery_list)\n",
    "\n",
    "# 5. sort(): ordenar alfabéticamente\n",
    "grocery_list.sort()\n",
    "print(\"Después de sort():\", grocery_list)\n",
    "\n",
    "# 6. reverse(): invertir el orden\n",
    "grocery_list.reverse()\n",
    "print(\"Después de reverse():\", grocery_list)\n",
    "\n",
    "# 7. count(x): contar cuántas veces aparece un elemento\n",
    "print(\"Veces que aparece 'apples':\", grocery_list.count(\"apples\"))\n",
    "\n",
    "# 8. pop(): eliminar y devolver el último elemento\n",
    "ultimo = grocery_list.pop()\n",
    "print(\"Elemento eliminado con pop():\", ultimo)\n",
    "print(\"Después de pop():\", grocery_list)\n",
    "\n",
    "# 9. pop(i): eliminar y devolver el elemento en el índice dado\n",
    "segundo = grocery_list.pop(1)  # elimina el que está en el índice 1\n",
    "print(\"Elemento eliminado en índice 1 con pop(1):\", segundo)\n",
    "print(\"Después de pop(1):\", grocery_list)\n"
   ]
  },
  {
   "cell_type": "markdown",
   "id": "01a72fb1",
   "metadata": {},
   "source": [
    "## Scenario: Never Forget the Milk Again: Your Python-Powered Grocery List\n",
    "\n",
    "Imagine you're heading to the grocery store, but you keep forgetting items you need. It's frustrating and leads to multiple trips! Wouldn't it be great to have a digital helper to keep track of your shopping list? \n",
    "\n",
    "That's where Python comes in. You'll build a simple program that lets you add items to your virtual grocery list, load items from a CSV file, and manage your shopping list efficiently. No more forgotten milk or eggs!\n",
    "\n",
    "### Why Lists are Perfect for Grocery Lists:\n",
    "\n",
    "* **Ordered Collection:** Lists maintain the order in which you add items, which can be helpful for prioritizing your shopping trip.\n",
    "* **Mutable:** You can easily add, remove, or modify items as your needs change.\n",
    "* **Flexible:** Lists can store items of different types (e.g., strings for item names, numbers for quantities).\n",
    "\n",
    "## Activity Summary:\n",
    "\n",
    "In this activity, you will:\n",
    "\n",
    "* Create and manage a dynamic grocery list using Python lists.\n",
    "* Load items from a CSV file into your grocery list.\n",
    "* Add items to the list using the `append()` method.\n",
    "* Remove items from the list using the `remove()` method.\n",
    "\n",
    "For this activity, you will have access to a CSV file named `grocery_list.csv` that has already been created for you and contains some initial items for our grocery list. \n",
    "\n",
    "Begin by running the cell below, which imports the pandas library, loads the csv file named `grocery_list.csv`, and then prints the output."
   ]
  },
  {
   "cell_type": "code",
   "execution_count": 1,
   "id": "5828f79f",
   "metadata": {},
   "outputs": [
    {
     "name": "stdout",
     "output_type": "stream",
     "text": [
      "['Milk', 'Eggs', 'Bread', 'Apples', 'Bananas', 'Oranges', 'Grapes', 'Strawberries', 'Blueberries', 'Pineapple', 'Mango', 'Avocado', 'Tomato', 'Cucumber', 'Lettuce', 'Spinach', 'Broccoli', 'Carrots', 'Potatoes', 'Onions', 'Garlic', 'Ginger', 'Chicken', 'Beef', 'Pork', 'Salmon', 'Tuna', 'Rice', 'Pasta', 'Bread (whole wheat)', 'Cereal', 'Oatmeal', 'Yogurt', 'Milk (almond)', 'Cheese (cheddar)', 'Eggs (organic)', 'Butter', 'Olive oil', 'Salt', 'Pepper', 'Sugar', 'Coffee', 'Tea', 'Chocolate', 'Cookies', 'Chips', 'Ice cream', 'Pizza', 'Pasta sauce', 'Ketchup', 'Mustard']\n"
     ]
    }
   ],
   "source": [
    "### ACTIVIDAD LISTA DE LA COMPRA CON PANDAS (grocery_list.csv)\n",
    "\n",
    "# Import a powerful tool called \"pandas\" that you'll use to work with and organize data easily\n",
    "import pandas as pd\n",
    "import os \n",
    "\n",
    "file_name = 'grocery_list.csv'\n",
    "\n",
    "if os.path.exists(file_name):\n",
    "    # Load the grocery list from the CSV file\n",
    "    grocery_list_df = pd.read_csv(file_name)\n",
    "\n",
    "    # Extract the items from the DataFrame and store them in a list\n",
    "    grocery_list = grocery_list_df['item'].tolist()\n",
    "\n",
    "    # Print the grocery list and inspect the output\n",
    "    print(grocery_list)\n",
    "else:\n",
    "    print(f\"Error: The file '{file_name}' was not found in the current directory.\")\n",
    "    print(\"Please ensure you have followed the instructions on the Coursera site to extract the files from the zip archive.\")\n"
   ]
  },
  {
   "cell_type": "markdown",
   "id": "c9b45dd9",
   "metadata": {},
   "source": [
    "You'll notice that your grocery list already has some items, but you might need a few more things!\n",
    "\n",
    "We can simulate the process of gathering user input to add items to your grocery list. Imagine that you want to enter the following items into your grocery list: \"Kiwis\" and \"Raspberries\".\n",
    "\n",
    "Add \"Kiwis\" and \"Raspberries\" into the `items_to_add` list and then run the cell. "
   ]
  },
  {
   "cell_type": "code",
   "execution_count": 2,
   "id": "9420fa6b",
   "metadata": {},
   "outputs": [
    {
     "name": "stdout",
     "output_type": "stream",
     "text": [
      "['Milk', 'Eggs', 'Bread', 'Apples', 'Bananas', 'Oranges', 'Grapes', 'Strawberries', 'Blueberries', 'Pineapple', 'Mango', 'Avocado', 'Tomato', 'Cucumber', 'Lettuce', 'Spinach', 'Broccoli', 'Carrots', 'Potatoes', 'Onions', 'Garlic', 'Ginger', 'Chicken', 'Beef', 'Pork', 'Salmon', 'Tuna', 'Rice', 'Pasta', 'Bread (whole wheat)', 'Cereal', 'Oatmeal', 'Yogurt', 'Milk (almond)', 'Cheese (cheddar)', 'Eggs (organic)', 'Butter', 'Olive oil', 'Salt', 'Pepper', 'Sugar', 'Coffee', 'Tea', 'Chocolate', 'Cookies', 'Chips', 'Ice cream', 'Pizza', 'Pasta sauce', 'Ketchup', 'Mustard', 'Kiwis', 'Raspberries']\n"
     ]
    }
   ],
   "source": [
    "# Add \"Kiwis\" and \"Raspberries\" to the list\n",
    "items_to_add = [\"Kiwis\", \"Raspberries\"]\n",
    "\n",
    "# Add items to the grocery list \n",
    "for item in items_to_add:\n",
    "    grocery_list.append(item) \n",
    "\n",
    "# Print the grocery list to see the added items\n",
    "print(grocery_list) \n"
   ]
  },
  {
   "cell_type": "markdown",
   "id": "7bf14bba",
   "metadata": {},
   "source": [
    "Notice that \"Kiwis\" and \"Raspberries\" have been appended, or added, to the end of your grocery list. \n",
    "\n",
    "But what if you want to add a different item?\n",
    "\n",
    "Run the cell below, which will prompt you to input any item you want. Fill in the input box with your favorite grocery item and hit \"Enter\" on your keyboard. "
   ]
  },
  {
   "cell_type": "code",
   "execution_count": 3,
   "id": "3055b586",
   "metadata": {},
   "outputs": [
    {
     "name": "stdout",
     "output_type": "stream",
     "text": [
      "Updated list: ['Milk', 'Eggs', 'Bread', 'Apples', 'Bananas', 'Oranges', 'Grapes', 'Strawberries', 'Blueberries', 'Pineapple', 'Mango', 'Avocado', 'Tomato', 'Cucumber', 'Lettuce', 'Spinach', 'Broccoli', 'Carrots', 'Potatoes', 'Onions', 'Garlic', 'Ginger', 'Chicken', 'Beef', 'Pork', 'Salmon', 'Tuna', 'Rice', 'Pasta', 'Bread (whole wheat)', 'Cereal', 'Oatmeal', 'Yogurt', 'Milk (almond)', 'Cheese (cheddar)', 'Eggs (organic)', 'Butter', 'Olive oil', 'Salt', 'Pepper', 'Sugar', 'Coffee', 'Tea', 'Chocolate', 'Cookies', 'Chips', 'Ice cream', 'Pizza', 'Pasta sauce', 'Ketchup', 'Mustard', 'Kiwis', 'Raspberries', 'Condoms']\n"
     ]
    }
   ],
   "source": [
    "# 1. Get user input\n",
    "new_item = input(\"Enter an item to add to your grocery list: \")  # Ask the user for an item and store their input\n",
    "\n",
    "# 2. Add the item to the list\n",
    "grocery_list.append(new_item)  # Add the new item to the end of the grocery list\n",
    "\n",
    "# 3. Print the updated list\n",
    "print(\"Updated list:\", grocery_list)  # Show the user the updated grocery list"
   ]
  },
  {
   "cell_type": "markdown",
   "id": "2f201a3d",
   "metadata": {},
   "source": [
    "Notice that your input above has now been added to your grocery list. \n",
    "\n",
    "Try adding some items to the `grocery_list` using the `append()` method.\n",
    "\n",
    "Add \"Cinnamon\" and \"Paprika\" to the `append()` method below and run the cell."
   ]
  },
  {
   "cell_type": "code",
   "execution_count": 4,
   "id": "7236b052",
   "metadata": {},
   "outputs": [
    {
     "name": "stdout",
     "output_type": "stream",
     "text": [
      "\n",
      "Your Updated Grocery List:\n",
      "['Milk', 'Eggs', 'Bread', 'Apples', 'Bananas', 'Oranges', 'Grapes', 'Strawberries', 'Blueberries', 'Pineapple', 'Mango', 'Avocado', 'Tomato', 'Cucumber', 'Lettuce', 'Spinach', 'Broccoli', 'Carrots', 'Potatoes', 'Onions', 'Garlic', 'Ginger', 'Chicken', 'Beef', 'Pork', 'Salmon', 'Tuna', 'Rice', 'Pasta', 'Bread (whole wheat)', 'Cereal', 'Oatmeal', 'Yogurt', 'Milk (almond)', 'Cheese (cheddar)', 'Eggs (organic)', 'Butter', 'Olive oil', 'Salt', 'Pepper', 'Sugar', 'Coffee', 'Tea', 'Chocolate', 'Cookies', 'Chips', 'Ice cream', 'Pizza', 'Pasta sauce', 'Ketchup', 'Mustard', 'Kiwis', 'Raspberries', 'Condoms', 'Cinnamon', 'Paprika']\n"
     ]
    }
   ],
   "source": [
    "# Add \"Cinnamon\" and \"Paprika\" to the grocery list\n",
    "grocery_list.append(\"Cinnamon\") \n",
    "grocery_list.append(\"Paprika\") \n",
    "\n",
    "# Print the updated grocery list\n",
    "print(\"\\nYour Updated Grocery List:\")\n",
    "print(grocery_list)\n"
   ]
  },
  {
   "cell_type": "markdown",
   "id": "7a30b61d",
   "metadata": {},
   "source": [
    "Notice in the output above that you have now added several items to your grocery list in different ways. \n",
    "\n",
    "But you realize you already have something at home. How can you remove items from your `grocery_list`?\n",
    "\n",
    "For example, imagine you no longer need \"Eggs\" and \"Apples\". You can remove these items from the `grocery_list` using the `remove()` method.\n",
    "\n",
    "Add \"Eggs\" and \"Apples\" to the `remove()` method below and run the cell. \n"
   ]
  },
  {
   "cell_type": "code",
   "execution_count": 5,
   "id": "717b553d",
   "metadata": {},
   "outputs": [
    {
     "name": "stdout",
     "output_type": "stream",
     "text": [
      "\n",
      "Your Updated Grocery List (after removing items):\n",
      "['Milk', 'Bread', 'Bananas', 'Oranges', 'Grapes', 'Strawberries', 'Blueberries', 'Pineapple', 'Mango', 'Avocado', 'Tomato', 'Cucumber', 'Lettuce', 'Spinach', 'Broccoli', 'Carrots', 'Potatoes', 'Onions', 'Garlic', 'Ginger', 'Chicken', 'Beef', 'Pork', 'Salmon', 'Tuna', 'Rice', 'Pasta', 'Bread (whole wheat)', 'Cereal', 'Oatmeal', 'Yogurt', 'Milk (almond)', 'Cheese (cheddar)', 'Eggs (organic)', 'Butter', 'Olive oil', 'Salt', 'Pepper', 'Sugar', 'Coffee', 'Tea', 'Chocolate', 'Cookies', 'Chips', 'Ice cream', 'Pizza', 'Pasta sauce', 'Ketchup', 'Mustard', 'Kiwis', 'Raspberries', 'Condoms', 'Cinnamon', 'Paprika']\n"
     ]
    }
   ],
   "source": [
    "# Remove \"Eggs\" and \"Apples\" from the grocery list\n",
    "grocery_list.remove(\"Eggs\")\n",
    "grocery_list.remove(\"Apples\") \n",
    "\n",
    "# Print the updated grocery list\n",
    "print(\"\\nYour Updated Grocery List (after removing items):\")\n",
    "print(grocery_list)"
   ]
  },
  {
   "cell_type": "code",
   "execution_count": 6,
   "id": "d811aab9",
   "metadata": {},
   "outputs": [
    {
     "ename": "ValueError",
     "evalue": "list.remove(x): x not in list",
     "output_type": "error",
     "traceback": [
      "\u001b[31m---------------------------------------------------------------------------\u001b[39m",
      "\u001b[31mValueError\u001b[39m                                Traceback (most recent call last)",
      "\u001b[36mCell\u001b[39m\u001b[36m \u001b[39m\u001b[32mIn[6]\u001b[39m\u001b[32m, line 3\u001b[39m\n\u001b[32m      1\u001b[39m \u001b[38;5;66;03m### ERROR SI NO EXISTE ELEMNETO DE QUE QUITAR\u001b[39;00m\n\u001b[32m----> \u001b[39m\u001b[32m3\u001b[39m \u001b[43mgrocery_list\u001b[49m\u001b[43m.\u001b[49m\u001b[43mremove\u001b[49m\u001b[43m(\u001b[49m\u001b[33;43m\"\u001b[39;49m\u001b[33;43mPlátano\u001b[39;49m\u001b[33;43m\"\u001b[39;49m\u001b[43m)\u001b[49m\n\u001b[32m      4\u001b[39m grocery_list.remove(\u001b[33m\"\u001b[39m\u001b[33mApples\u001b[39m\u001b[33m\"\u001b[39m) \n\u001b[32m      6\u001b[39m \u001b[38;5;66;03m# Print the updated grocery list\u001b[39;00m\n",
      "\u001b[31mValueError\u001b[39m: list.remove(x): x not in list"
     ]
    }
   ],
   "source": [
    "### ERROR SI NO EXISTE ELEMNETO DE QUE QUITAR\n",
    "\n",
    "grocery_list.remove(\"Plátano\")\n",
    "grocery_list.remove(\"Apples\") \n",
    "\n",
    "# Print the updated grocery list\n",
    "print(\"\\nYour Updated Grocery List (after removing items):\")\n",
    "print(grocery_list)\n"
   ]
  },
  {
   "cell_type": "markdown",
   "id": "8e90e0ac",
   "metadata": {},
   "source": [
    "Notice that in the updated grocery list, \"Eggs\" and \"Apples\" are now removed. \n",
    "\n",
    "Nice work! Your python-powered grocery list is complete!\n",
    "\n",
    "## Activity Recap: Never Forget the Milk Again: Your Python-Powered Grocery List \n",
    "\n",
    "Congratulations on successfully building your digital grocery list using Python! Let's recap the key concepts you've learned:\n",
    "\n",
    "* **Creating and Managing Lists:** You've created an empty list and dynamically added items to it, showcasing the flexibility of lists in Python.\n",
    "* **Adding and Removing Items:** You've used the `append()` method to add items and the `remove()` method to remove items from the list, demonstrating how to keep your list up-to-date.\n",
    "* **List Manipulation:** You've practiced essential list manipulation techniques, empowering you to organize and manage data effectively.\n"
   ]
  }
 ],
 "metadata": {
  "kernelspec": {
   "display_name": "Python 3",
   "language": "python",
   "name": "python3"
  },
  "language_info": {
   "codemirror_mode": {
    "name": "ipython",
    "version": 3
   },
   "file_extension": ".py",
   "mimetype": "text/x-python",
   "name": "python",
   "nbconvert_exporter": "python",
   "pygments_lexer": "ipython3",
   "version": "3.13.7"
  }
 },
 "nbformat": 4,
 "nbformat_minor": 5
}
