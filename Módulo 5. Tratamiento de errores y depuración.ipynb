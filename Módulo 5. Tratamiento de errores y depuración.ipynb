{
 "cells": [
  {
   "cell_type": "markdown",
   "id": "2fca352a",
   "metadata": {},
   "source": [
    "# Módulo 5. Tratamiento de errores y depuración"
   ]
  },
  {
   "cell_type": "code",
   "execution_count": 1,
   "id": "30ba394f",
   "metadata": {},
   "outputs": [
    {
     "name": "stdout",
     "output_type": "stream",
     "text": [
      "Error: No se puede dividir entre cero.\n"
     ]
    }
   ],
   "source": [
    "# Bloque try: contiene el código que podría fallar.\n",
    "\n",
    "\n",
    "# Bloque except: red de seguridad, define cómo actuar si ocurre la excepción.\n",
    "\n",
    "\n",
    "# Se pueden tener varios except para tratar distintos errores con mensajes personalizados.\n",
    "\n",
    "\n",
    "# Ejemplo básico:\n",
    "try:\n",
    "    resultado = 10 / 0\n",
    "except ZeroDivisionError:\n",
    "    print(\"Error: No se puede dividir entre cero.\")"
   ]
  },
  {
   "cell_type": "code",
   "execution_count": 5,
   "id": "0ce9f953",
   "metadata": {},
   "outputs": [
    {
     "ename": "NameError",
     "evalue": "name 'local_var' is not defined",
     "output_type": "error",
     "traceback": [
      "\u001b[31m---------------------------------------------------------------------------\u001b[39m",
      "\u001b[31mNameError\u001b[39m                                 Traceback (most recent call last)",
      "\u001b[36mCell\u001b[39m\u001b[36m \u001b[39m\u001b[32mIn[5]\u001b[39m\u001b[32m, line 16\u001b[39m\n\u001b[32m     13\u001b[39m \u001b[38;5;28;01mdef\u001b[39;00m\u001b[38;5;250m \u001b[39m\u001b[34mmy_function\u001b[39m():\n\u001b[32m     14\u001b[39m     local_var = \u001b[32m10\u001b[39m\n\u001b[32m---> \u001b[39m\u001b[32m16\u001b[39m \u001b[38;5;28mprint\u001b[39m(\u001b[43mlocal_var\u001b[49m)  \n\u001b[32m     17\u001b[39m \u001b[38;5;66;03m# NameError: name 'local_var' is not defined\u001b[39;00m\n",
      "\u001b[31mNameError\u001b[39m: name 'local_var' is not defined"
     ]
    }
   ],
   "source": [
    "# 1. NameError\n",
    "# Se produce cuando se intenta usar una variable, función o módulo que no ha sido definido o importado.\n",
    "\n",
    "# Causas principales:\n",
    "# Errores tipográficos (Python distingue mayúsculas/minúsculas).\n",
    "\n",
    "# Problemas de alcance (scope): acceder a una variable fuera de su función.\n",
    "\n",
    "# Falta de importación de módulos.\n",
    "\n",
    "\n",
    "# Ejemplo de scope\n",
    "def my_function():\n",
    "    local_var = 10\n",
    "\n",
    "print(local_var)  \n",
    "# NameError: name 'local_var' is not defined"
   ]
  },
  {
   "cell_type": "code",
   "execution_count": 6,
   "id": "72798558",
   "metadata": {},
   "outputs": [
    {
     "ename": "NameError",
     "evalue": "name 'sqrt' is not defined",
     "output_type": "error",
     "traceback": [
      "\u001b[31m---------------------------------------------------------------------------\u001b[39m",
      "\u001b[31mNameError\u001b[39m                                 Traceback (most recent call last)",
      "\u001b[36mCell\u001b[39m\u001b[36m \u001b[39m\u001b[32mIn[6]\u001b[39m\u001b[32m, line 2\u001b[39m\n\u001b[32m      1\u001b[39m \u001b[38;5;66;03m# Ejemplo de importación faltante\u001b[39;00m\n\u001b[32m----> \u001b[39m\u001b[32m2\u001b[39m \u001b[38;5;28mprint\u001b[39m(\u001b[43msqrt\u001b[49m(\u001b[32m9\u001b[39m))  \n\u001b[32m      3\u001b[39m \u001b[38;5;66;03m# NameError: name 'sqrt' is not defined\u001b[39;00m\n",
      "\u001b[31mNameError\u001b[39m: name 'sqrt' is not defined"
     ]
    }
   ],
   "source": [
    "# Ejemplo de importación faltante\n",
    "print(sqrt(9))  \n",
    "# NameError: name 'sqrt' is not defined"
   ]
  },
  {
   "cell_type": "code",
   "execution_count": 7,
   "id": "ad38665d",
   "metadata": {},
   "outputs": [
    {
     "name": "stdout",
     "output_type": "stream",
     "text": [
      "3.0\n"
     ]
    }
   ],
   "source": [
    "# Soluciones\n",
    "# Revisar nombres cuidadosamente.\n",
    "\n",
    "# Entender las reglas de variables globales y locales.\n",
    "\n",
    "# Importar correctamente los módulos:\n",
    "\n",
    "import math\n",
    "print(math.sqrt(9))"
   ]
  },
  {
   "cell_type": "code",
   "execution_count": 8,
   "id": "d2b95125",
   "metadata": {},
   "outputs": [
    {
     "ename": "TypeError",
     "evalue": "can only concatenate str (not \"int\") to str",
     "output_type": "error",
     "traceback": [
      "\u001b[31m---------------------------------------------------------------------------\u001b[39m",
      "\u001b[31mTypeError\u001b[39m                                 Traceback (most recent call last)",
      "\u001b[36mCell\u001b[39m\u001b[36m \u001b[39m\u001b[32mIn[8]\u001b[39m\u001b[32m, line 13\u001b[39m\n\u001b[32m      1\u001b[39m \u001b[38;5;66;03m# 2. TypeError\u001b[39;00m\n\u001b[32m      2\u001b[39m \u001b[38;5;66;03m# Aparece al intentar combinar o manipular datos de tipos incompatibles.\u001b[39;00m\n\u001b[32m      3\u001b[39m \n\u001b[32m   (...)\u001b[39m\u001b[32m     11\u001b[39m \n\u001b[32m     12\u001b[39m \u001b[38;5;66;03m# Ejemplo de operación inválida\u001b[39;00m\n\u001b[32m---> \u001b[39m\u001b[32m13\u001b[39m \u001b[38;5;28mprint\u001b[39m(\u001b[33;43m\"\u001b[39;49m\u001b[33;43mhello\u001b[39;49m\u001b[33;43m\"\u001b[39;49m\u001b[43m \u001b[49m\u001b[43m+\u001b[49m\u001b[43m \u001b[49m\u001b[32;43m5\u001b[39;49m)  \n\u001b[32m     14\u001b[39m \u001b[38;5;66;03m# TypeError: can only concatenate str (not \"int\") to str\u001b[39;00m\n",
      "\u001b[31mTypeError\u001b[39m: can only concatenate str (not \"int\") to str"
     ]
    }
   ],
   "source": [
    "# 2. TypeError\n",
    "# Aparece al intentar combinar o manipular datos de tipos incompatibles.\n",
    "\n",
    "# Causas principales:\n",
    "# Operaciones inválidas (ej. sumar cadena + entero).\n",
    "\n",
    "# Argumentos de función incorrectos.\n",
    "\n",
    "# Problemas en herencia de clases (métodos incompatibles con la clase padre).\n",
    "\n",
    "\n",
    "# Ejemplo de operación inválida\n",
    "print(\"hello\" + 5)  \n",
    "# TypeError: can only concatenate str (not \"int\") to str"
   ]
  },
  {
   "cell_type": "code",
   "execution_count": 9,
   "id": "0df0bf80",
   "metadata": {},
   "outputs": [
    {
     "ename": "TypeError",
     "evalue": "object of type 'int' has no len()",
     "output_type": "error",
     "traceback": [
      "\u001b[31m---------------------------------------------------------------------------\u001b[39m",
      "\u001b[31mTypeError\u001b[39m                                 Traceback (most recent call last)",
      "\u001b[36mCell\u001b[39m\u001b[36m \u001b[39m\u001b[32mIn[9]\u001b[39m\u001b[32m, line 2\u001b[39m\n\u001b[32m      1\u001b[39m \u001b[38;5;66;03m# Ejemplo de argumentos incorrectos\u001b[39;00m\n\u001b[32m----> \u001b[39m\u001b[32m2\u001b[39m \u001b[38;5;28mprint\u001b[39m(\u001b[38;5;28;43mlen\u001b[39;49m\u001b[43m(\u001b[49m\u001b[32;43m123\u001b[39;49m\u001b[43m)\u001b[49m)  \n\u001b[32m      3\u001b[39m \u001b[38;5;66;03m# TypeError: object of type 'int' has no len()\u001b[39;00m\n",
      "\u001b[31mTypeError\u001b[39m: object of type 'int' has no len()"
     ]
    }
   ],
   "source": [
    "# Ejemplo de argumentos incorrectos\n",
    "print(len(123))  \n",
    "# TypeError: object of type 'int' has no len()"
   ]
  },
  {
   "cell_type": "code",
   "execution_count": 10,
   "id": "c69ec0cd",
   "metadata": {},
   "outputs": [
    {
     "ename": "TypeError",
     "evalue": "Length and width must be numbers.",
     "output_type": "error",
     "traceback": [
      "\u001b[31m---------------------------------------------------------------------------\u001b[39m",
      "\u001b[31mTypeError\u001b[39m                                 Traceback (most recent call last)",
      "\u001b[36mCell\u001b[39m\u001b[36m \u001b[39m\u001b[32mIn[10]\u001b[39m\u001b[32m, line 7\u001b[39m\n\u001b[32m      4\u001b[39m         \u001b[38;5;28;01mraise\u001b[39;00m \u001b[38;5;167;01mTypeError\u001b[39;00m(\u001b[33m\"\u001b[39m\u001b[33mLength and width must be numbers.\u001b[39m\u001b[33m\"\u001b[39m)\n\u001b[32m      5\u001b[39m     \u001b[38;5;28;01mreturn\u001b[39;00m length * width\n\u001b[32m----> \u001b[39m\u001b[32m7\u001b[39m \u001b[38;5;28mprint\u001b[39m(\u001b[43mcalculate_area\u001b[49m\u001b[43m(\u001b[49m\u001b[32;43m5\u001b[39;49m\u001b[43m,\u001b[49m\u001b[43m \u001b[49m\u001b[33;43m'\u001b[39;49m\u001b[33;43mthree\u001b[39;49m\u001b[33;43m'\u001b[39;49m\u001b[43m)\u001b[49m)\n\u001b[32m      8\u001b[39m \u001b[38;5;66;03m# TypeError: Length and width must be numbers.\u001b[39;00m\n",
      "\u001b[36mCell\u001b[39m\u001b[36m \u001b[39m\u001b[32mIn[10]\u001b[39m\u001b[32m, line 4\u001b[39m, in \u001b[36mcalculate_area\u001b[39m\u001b[34m(length, width)\u001b[39m\n\u001b[32m      2\u001b[39m \u001b[38;5;28;01mdef\u001b[39;00m\u001b[38;5;250m \u001b[39m\u001b[34mcalculate_area\u001b[39m(length, width):\n\u001b[32m      3\u001b[39m     \u001b[38;5;28;01mif\u001b[39;00m \u001b[38;5;129;01mnot\u001b[39;00m \u001b[38;5;28misinstance\u001b[39m(length, (\u001b[38;5;28mint\u001b[39m, \u001b[38;5;28mfloat\u001b[39m)) \u001b[38;5;129;01mor\u001b[39;00m \u001b[38;5;129;01mnot\u001b[39;00m \u001b[38;5;28misinstance\u001b[39m(width, (\u001b[38;5;28mint\u001b[39m, \u001b[38;5;28mfloat\u001b[39m)):\n\u001b[32m----> \u001b[39m\u001b[32m4\u001b[39m         \u001b[38;5;28;01mraise\u001b[39;00m \u001b[38;5;167;01mTypeError\u001b[39;00m(\u001b[33m\"\u001b[39m\u001b[33mLength and width must be numbers.\u001b[39m\u001b[33m\"\u001b[39m)\n\u001b[32m      5\u001b[39m     \u001b[38;5;28;01mreturn\u001b[39;00m length * width\n",
      "\u001b[31mTypeError\u001b[39m: Length and width must be numbers."
     ]
    }
   ],
   "source": [
    "# Ejemplo de verificación en función\n",
    "def calculate_area(length, width):\n",
    "    if not isinstance(length, (int, float)) or not isinstance(width, (int, float)):\n",
    "        raise TypeError(\"Length and width must be numbers.\")\n",
    "    return length * width\n",
    "\n",
    "print(calculate_area(5, 'three'))\n",
    "# TypeError: Length and width must be numbers."
   ]
  },
  {
   "cell_type": "code",
   "execution_count": 14,
   "id": "4c496d5c",
   "metadata": {},
   "outputs": [
    {
     "name": "stdout",
     "output_type": "stream",
     "text": [
      "5 apples\n"
     ]
    }
   ],
   "source": [
    "# Soluciones\n",
    "# Convertir datos al tipo correcto:\n",
    "\n",
    "print(str(5) + \" apples\")  # \"5 apples\"\n",
    "\n",
    "\n",
    "# Usar isinstance() para validar tipos antes de operar.\n",
    "\n",
    "\n",
    "# Diseñar bien jerarquías de clases, usando clases base abstractas si es necesario."
   ]
  },
  {
   "cell_type": "code",
   "execution_count": 15,
   "id": "b4b0224b",
   "metadata": {},
   "outputs": [
    {
     "ename": "IndexError",
     "evalue": "list index out of range",
     "output_type": "error",
     "traceback": [
      "\u001b[31m---------------------------------------------------------------------------\u001b[39m",
      "\u001b[31mIndexError\u001b[39m                                Traceback (most recent call last)",
      "\u001b[36mCell\u001b[39m\u001b[36m \u001b[39m\u001b[32mIn[15]\u001b[39m\u001b[32m, line 12\u001b[39m\n\u001b[32m      1\u001b[39m \u001b[38;5;66;03m# 3. IndexError: La confusión con los índices\u001b[39;00m\n\u001b[32m      2\u001b[39m \u001b[38;5;66;03m# Ocurre cuando se intenta acceder a una posición inválida en una lista, tupla o cadena.\u001b[39;00m\n\u001b[32m      3\u001b[39m \n\u001b[32m   (...)\u001b[39m\u001b[32m      9\u001b[39m \n\u001b[32m     10\u001b[39m \u001b[38;5;66;03m# Ejemplo de acceso fuera de rango\u001b[39;00m\n\u001b[32m     11\u001b[39m my_list = [\u001b[32m1\u001b[39m, \u001b[32m2\u001b[39m, \u001b[32m3\u001b[39m]\n\u001b[32m---> \u001b[39m\u001b[32m12\u001b[39m \u001b[38;5;28mprint\u001b[39m(\u001b[43mmy_list\u001b[49m\u001b[43m[\u001b[49m\u001b[32;43m3\u001b[39;49m\u001b[43m]\u001b[49m)  \n\u001b[32m     13\u001b[39m \u001b[38;5;66;03m# IndexError: list index out of range\u001b[39;00m\n",
      "\u001b[31mIndexError\u001b[39m: list index out of range"
     ]
    }
   ],
   "source": [
    "# 3. IndexError: La confusión con los índices\n",
    "# Ocurre cuando se intenta acceder a una posición inválida en una lista, tupla o cadena.\n",
    "\n",
    "# Causas principales\n",
    "# Acceder a un índice fuera de rango.\n",
    "\n",
    "# Intentar acceder a un índice en una secuencia vacía.\n",
    "\n",
    "\n",
    "# Ejemplo de acceso fuera de rango\n",
    "my_list = [1, 2, 3]\n",
    "print(my_list[3])  \n",
    "# IndexError: list index out of range"
   ]
  },
  {
   "cell_type": "code",
   "execution_count": 16,
   "id": "a41ab638",
   "metadata": {},
   "outputs": [
    {
     "name": "stdout",
     "output_type": "stream",
     "text": [
      "1\n",
      "2\n",
      "3\n"
     ]
    }
   ],
   "source": [
    "# Ejemplo de acceso seguro con bucle\n",
    "my_list = [1, 2, 3]\n",
    "for i in range(len(my_list)):\n",
    "    print(my_list[i])\n",
    "# 1\n",
    "# 2\n",
    "# 3"
   ]
  },
  {
   "cell_type": "code",
   "execution_count": 17,
   "id": "3bed1f28",
   "metadata": {},
   "outputs": [
    {
     "name": "stdout",
     "output_type": "stream",
     "text": [
      "The list is empty.\n"
     ]
    }
   ],
   "source": [
    "# Ejemplo con try-except para listas vacías\n",
    "my_list = []\n",
    "try:\n",
    "    print(my_list[0])\n",
    "except IndexError:\n",
    "    print(\"The list is empty.\")\n",
    "# The list is empty."
   ]
  },
  {
   "cell_type": "code",
   "execution_count": 18,
   "id": "90f5e082",
   "metadata": {},
   "outputs": [
    {
     "ename": "KeyError",
     "evalue": "'c'",
     "output_type": "error",
     "traceback": [
      "\u001b[31m---------------------------------------------------------------------------\u001b[39m",
      "\u001b[31mKeyError\u001b[39m                                  Traceback (most recent call last)",
      "\u001b[36mCell\u001b[39m\u001b[36m \u001b[39m\u001b[32mIn[18]\u001b[39m\u001b[32m, line 12\u001b[39m\n\u001b[32m      1\u001b[39m \u001b[38;5;66;03m# 4. KeyError: La confusión con las claves\u001b[39;00m\n\u001b[32m      2\u001b[39m \u001b[38;5;66;03m# Aparece al intentar acceder a un diccionario usando una clave inexistente.\u001b[39;00m\n\u001b[32m      3\u001b[39m \n\u001b[32m   (...)\u001b[39m\u001b[32m      9\u001b[39m \n\u001b[32m     10\u001b[39m \u001b[38;5;66;03m# Ejemplo de KeyError\u001b[39;00m\n\u001b[32m     11\u001b[39m my_dict = {\u001b[33m\"\u001b[39m\u001b[33ma\u001b[39m\u001b[33m\"\u001b[39m: \u001b[32m1\u001b[39m, \u001b[33m\"\u001b[39m\u001b[33mb\u001b[39m\u001b[33m\"\u001b[39m: \u001b[32m2\u001b[39m}\n\u001b[32m---> \u001b[39m\u001b[32m12\u001b[39m \u001b[38;5;28mprint\u001b[39m(\u001b[43mmy_dict\u001b[49m\u001b[43m[\u001b[49m\u001b[33;43m\"\u001b[39;49m\u001b[33;43mc\u001b[39;49m\u001b[33;43m\"\u001b[39;49m\u001b[43m]\u001b[49m)  \n\u001b[32m     13\u001b[39m \u001b[38;5;66;03m# KeyError: 'c'\u001b[39;00m\n",
      "\u001b[31mKeyError\u001b[39m: 'c'"
     ]
    }
   ],
   "source": [
    "# 4. KeyError: La confusión con las claves\n",
    "# Aparece al intentar acceder a un diccionario usando una clave inexistente.\n",
    "\n",
    "# Causas principales:\n",
    "# Usar una clave que no existe.\n",
    "\n",
    "# Creación dinámica de claves incorrectas.\n",
    "\n",
    "\n",
    "# Ejemplo de KeyError\n",
    "my_dict = {\"a\": 1, \"b\": 2}\n",
    "print(my_dict[\"c\"])  \n",
    "# KeyError: 'c'"
   ]
  },
  {
   "cell_type": "code",
   "execution_count": 19,
   "id": "1c6be12c",
   "metadata": {},
   "outputs": [
    {
     "name": "stdout",
     "output_type": "stream",
     "text": [
      "Key not found in dictionary.\n"
     ]
    }
   ],
   "source": [
    "# Ejemplo con try-except\n",
    "my_dict = {\"a\": 1, \"b\": 2}\n",
    "try:\n",
    "    print(my_dict[\"c\"])\n",
    "except KeyError:\n",
    "    print(\"Key not found in dictionary.\")\n",
    "# Key not found in dictionary."
   ]
  },
  {
   "cell_type": "code",
   "execution_count": 20,
   "id": "40527f91",
   "metadata": {},
   "outputs": [
    {
     "name": "stderr",
     "output_type": "stream",
     "text": [
      "ERROR:root:KeyError encountered: 'c'\n"
     ]
    }
   ],
   "source": [
    "# Ejemplo con logging para producción\n",
    "import logging\n",
    "\n",
    "my_dict = {\"a\": 1, \"b\": 2}\n",
    "try:\n",
    "    print(my_dict[\"c\"])\n",
    "except KeyError as e:\n",
    "    logging.error(f\"KeyError encountered: {e}\")\n",
    "    # Handle the error or provide a fallback mechanism"
   ]
  },
  {
   "cell_type": "code",
   "execution_count": 34,
   "id": "53c4e5be",
   "metadata": {},
   "outputs": [
    {
     "name": "stdout",
     "output_type": "stream",
     "text": [
      "'City \"Tampa\" not found in population data.'\n",
      "The population of New York is 8336817\n",
      "The population of New York is 8336817\n"
     ]
    }
   ],
   "source": [
    "# Reto de código funcional: Manejar una KeyError\n",
    "\n",
    "def get_city_population(populations, city):\n",
    "    try:\n",
    "        return populations[city]\n",
    "    except KeyError:\n",
    "        # Lanzamos un KeyError con un mensaje personalizado\n",
    "        raise KeyError(f'City \"{city}\" not found in population data.')\n",
    "\n",
    "\n",
    "# Ejemplo 1: Ciudad inexistente\n",
    "city_populations = {\"New York\": 8336817, \"Los Angeles\": 3979576, \"Chicago\": 2679044}\n",
    "city_name = \"Tampa\"\n",
    "\n",
    "try:\n",
    "    print(get_city_population(city_populations, city_name))\n",
    "except KeyError as e:\n",
    "    print(e)  \n",
    "#  Ciudad \"Tampa\" no encontrada en los datos de población.\n",
    "\n",
    "\n",
    "# Ejemplo 2: Ciudad existente\n",
    "city_name = \"New York\"\n",
    "print(f\"The population of {city_name} is {city_populations[\"New York\"]}\")  # accedemos por clave no por índice\n",
    "\n",
    "print(f\"The population of {city_name} is {get_city_population(city_populations, city_name)}\") #otra forma"
   ]
  },
  {
   "cell_type": "code",
   "execution_count": null,
   "id": "e0032186",
   "metadata": {},
   "outputs": [
    {
     "name": "stdout",
     "output_type": "stream",
     "text": [
      "2679044\n"
     ]
    }
   ],
   "source": [
    "# Entender la función\n",
    "def get_city_population(populations, city):\n",
    "    return populations[city]\n",
    "\n",
    "city_populations = {\"New York\": 8336817, \"Los Angeles\": 3979576, \"Chicago\": 2679044}\n",
    "city_name = \"Chicago\"\n",
    "\n",
    "print(get_city_population(city_populations, city_name))"
   ]
  },
  {
   "cell_type": "code",
   "execution_count": 5,
   "id": "c0112616",
   "metadata": {},
   "outputs": [
    {
     "name": "stdout",
     "output_type": "stream",
     "text": [
      "4.0\n"
     ]
    }
   ],
   "source": [
    "# Ejemplo inicial sin depuración:\n",
    "\n",
    "def calculate_average(numbers):\n",
    "    total = sum(numbers)\n",
    "    count = len(numbers)\n",
    "    return total / count\n",
    "\n",
    "print(calculate_average([2,3,4,5,6]))"
   ]
  },
  {
   "cell_type": "code",
   "execution_count": 6,
   "id": "36d446da",
   "metadata": {},
   "outputs": [
    {
     "name": "stdout",
     "output_type": "stream",
     "text": [
      "Input numbers: [2, 3, 4, 5, 6]\n",
      "Total: 20\n",
      "Count: 5\n",
      "Average: 4.0\n",
      "4.0\n"
     ]
    }
   ],
   "source": [
    "# Ejemplo con print() para depuración: Esto muestra los valores paso a paso y permite localizar errores fácilmente.\n",
    "\n",
    "def calculate_average(numbers):\n",
    "    print(\"Input numbers:\", numbers)\n",
    "    total = sum(numbers)\n",
    "    print(\"Total:\", total)\n",
    "    count = len(numbers)\n",
    "    print(\"Count:\", count)\n",
    "    average = total / count\n",
    "    print(\"Average:\", average)\n",
    "    return average\n",
    "\n",
    "print(calculate_average([2,3,4,5,6]))"
   ]
  },
  {
   "cell_type": "code",
   "execution_count": null,
   "id": "a421c241",
   "metadata": {},
   "outputs": [],
   "source": [
    "# Ejemplo con logging: El logging es ideal en sistemas complejos y para seguir el historial de eventos de una aplicación.\n",
    "\n",
    "import logging\n",
    "\n",
    "logging.basicConfig(filename='app.log', level=logging.DEBUG)\n",
    "logging.debug('This is a debug message')\n",
    "logging.info('This is an informational message')\n",
    "logging.warning('This is a warning message')\n",
    "logging.error('This is an error message')"
   ]
  },
  {
   "cell_type": "code",
   "execution_count": 9,
   "id": "873c3436",
   "metadata": {},
   "outputs": [
    {
     "ename": "AssertionError",
     "evalue": "Length must be positive",
     "output_type": "error",
     "traceback": [
      "\u001b[31m---------------------------------------------------------------------------\u001b[39m",
      "\u001b[31mAssertionError\u001b[39m                            Traceback (most recent call last)",
      "\u001b[36mCell\u001b[39m\u001b[36m \u001b[39m\u001b[32mIn[9]\u001b[39m\u001b[32m, line 10\u001b[39m\n\u001b[32m      7\u001b[39m     \u001b[38;5;28;01massert\u001b[39;00m width > \u001b[32m0\u001b[39m, \u001b[33m\"\u001b[39m\u001b[33mWidth must be positive\u001b[39m\u001b[33m\"\u001b[39m\n\u001b[32m      8\u001b[39m     \u001b[38;5;28;01mreturn\u001b[39;00m length * width\n\u001b[32m---> \u001b[39m\u001b[32m10\u001b[39m \u001b[38;5;28mprint\u001b[39m(\u001b[43mcalculate_area\u001b[49m\u001b[43m(\u001b[49m\u001b[43m-\u001b[49m\u001b[32;43m2\u001b[39;49m\u001b[43m,\u001b[49m\u001b[32;43m3\u001b[39;49m\u001b[43m)\u001b[49m)\n",
      "\u001b[36mCell\u001b[39m\u001b[36m \u001b[39m\u001b[32mIn[9]\u001b[39m\u001b[32m, line 6\u001b[39m, in \u001b[36mcalculate_area\u001b[39m\u001b[34m(length, width)\u001b[39m\n\u001b[32m      5\u001b[39m \u001b[38;5;28;01mdef\u001b[39;00m\u001b[38;5;250m \u001b[39m\u001b[34mcalculate_area\u001b[39m(length, width):\n\u001b[32m----> \u001b[39m\u001b[32m6\u001b[39m     \u001b[38;5;28;01massert\u001b[39;00m length > \u001b[32m0\u001b[39m, \u001b[33m\"\u001b[39m\u001b[33mLength must be positive\u001b[39m\u001b[33m\"\u001b[39m\n\u001b[32m      7\u001b[39m     \u001b[38;5;28;01massert\u001b[39;00m width > \u001b[32m0\u001b[39m, \u001b[33m\"\u001b[39m\u001b[33mWidth must be positive\u001b[39m\u001b[33m\"\u001b[39m\n\u001b[32m      8\u001b[39m     \u001b[38;5;28;01mreturn\u001b[39;00m length * width\n",
      "\u001b[31mAssertionError\u001b[39m: Length must be positive"
     ]
    }
   ],
   "source": [
    "# 1. Aserciones\n",
    "# Las aserciones son condiciones que se esperan cumplir en el código.\n",
    "# Si fallan, lanzan una excepción inmediatamente, ayudando a detectar errores tempranos.\n",
    "# Ejemplo:\n",
    "def calculate_area(length, width):\n",
    "    assert length > 0, \"Length must be positive\"\n",
    "    assert width > 0, \"Width must be positive\"\n",
    "    return length * width\n",
    "\n",
    "print(calculate_area(-2,3))"
   ]
  },
  {
   "cell_type": "markdown",
   "id": "3393c80b",
   "metadata": {},
   "source": [
    "### ACTIVIDAD: DEPURACIÓN DE CÓDIGO"
   ]
  },
  {
   "cell_type": "markdown",
   "id": "83355acd",
   "metadata": {},
   "source": [
    "## Scenario: Bug Squashing 101: Debugging Python Code\n",
    "\n",
    "You've just been hired as a data analyst at a renowned insect collection company. Your first task is to clean up their extensive insect database, which has unfortunately been plagued by some pesky data entry errors (and maybe a few actual bugs!).\n",
    "\n",
    "Through a series of interactive exercises, you'll learn how to identify and fix common data inconsistencies and errors using Python. You'll analyze error messages, strategically use print statements, and apply your Python skills to ensure the accuracy and integrity of the insect collection data. By the end of this activity, you'll be a bug-squashing champion, ready to tackle any messy dataset with confidence and precision!\n",
    "\n",
    "### Project Summary:\n",
    "You'll encounter and learn how to resolve common errors that can occur when working with data, such as:\n",
    "\n",
    "* FileNotFoundError: Troubleshoot issues related to missing or inaccessible data files, ensuring your scripts can locate and read the crucial insect collection records.\n",
    "\n",
    "* TypeError: Navigate through type-related errors, ensuring that you're performing operations on compatible data types (like numerical measurements and species names) and converting them when necessary.\n",
    "\n",
    "* IndexError: Master list indexing and avoid accessing insect records beyond their valid range, preventing unexpected crashes in your data cleaning scripts.\n",
    "\n",
    "* KeyError: Confidently work with insect data dictionaries, ensuring that you're accessing existing keys (like 'species' or 'leg count') and handling missing keys gracefully.\n",
    "\n",
    "* AttributeError: Understand the distinction between different data types and their available methods, avoiding attempts to use incompatible operations on insect data.\n",
    "\n",
    "* ZeroDivisionError: Prevent division by zero errors by implementing checks and providing alternative solutions when encountering such scenarios, especially when calculating ratios or proportions based on insect attributes."
   ]
  },
  {
   "cell_type": "markdown",
   "id": "473c6c8f",
   "metadata": {},
   "source": [
    "#### **The FileNotFoundError**\n",
    "\n",
    "You'll start with a common error you might encounter when working with files: the `FileNotFoundError`. This error occurs when Python can't find the file you're trying to access.\n",
    "\n",
    "***First, run the cell below and review the error.***\n",
    "\n",
    "##### **Debugging Tips**\n",
    "\n",
    "* **Understanding the Error:** The error message clearly states that the file `'insects.csv'` doesn't exist in the expected location. \n",
    "* Read the error message carefully: It often points directly to the problem.\n",
    "* Check file names and paths: Typos are common culprits.\n",
    "* Use print statements: Print the filename or path before trying to access it to confirm its correctness.\n",
    "* Verify file existence: Make sure the file is where you think it is.\n",
    "\n",
    "##### **Still Stuck?**\n",
    "* If you are still stuck, remove or comment out the code under `# Deliberate Error` and uncomment the code below the following line to resolve the error: `# Correct approach (commented out for reference)`. \n",
    "* Helpful Tip: You can comment and uncomment multiple lines of code at once by selecting them and pressing `Ctrl + /` on your keyboard."
   ]
  },
  {
   "cell_type": "code",
   "execution_count": 15,
   "id": "48a38657",
   "metadata": {},
   "outputs": [
    {
     "ename": "FileNotFoundError",
     "evalue": "[Errno 2] No such file or directory: 'insects.csv'",
     "output_type": "error",
     "traceback": [
      "\u001b[31m---------------------------------------------------------------------------\u001b[39m",
      "\u001b[31mFileNotFoundError\u001b[39m                         Traceback (most recent call last)",
      "\u001b[36mCell\u001b[39m\u001b[36m \u001b[39m\u001b[32mIn[15]\u001b[39m\u001b[32m, line 5\u001b[39m\n\u001b[32m      2\u001b[39m \u001b[38;5;28;01mimport\u001b[39;00m\u001b[38;5;250m \u001b[39m\u001b[34;01mpandas\u001b[39;00m\u001b[38;5;250m \u001b[39m\u001b[38;5;28;01mas\u001b[39;00m\u001b[38;5;250m \u001b[39m\u001b[34;01mpd\u001b[39;00m\n\u001b[32m      4\u001b[39m \u001b[38;5;66;03m# Deliberate Error: Incorrect filename\u001b[39;00m\n\u001b[32m----> \u001b[39m\u001b[32m5\u001b[39m insects_df = \u001b[43mpd\u001b[49m\u001b[43m.\u001b[49m\u001b[43mread_csv\u001b[49m\u001b[43m(\u001b[49m\u001b[33;43m'\u001b[39;49m\u001b[33;43minsects.csv\u001b[39;49m\u001b[33;43m'\u001b[39;49m\u001b[43m)\u001b[49m \n\u001b[32m      7\u001b[39m \u001b[38;5;66;03m# Correct approach (commented out for reference)\u001b[39;00m\n\u001b[32m      8\u001b[39m \u001b[38;5;66;03m# insects_df = pd.read_csv('insect_collection.csv') \u001b[39;00m\n",
      "\u001b[36mFile \u001b[39m\u001b[32mc:\\Users\\franc\\AppData\\Local\\Programs\\Python\\Python313\\Lib\\site-packages\\pandas\\io\\parsers\\readers.py:1026\u001b[39m, in \u001b[36mread_csv\u001b[39m\u001b[34m(filepath_or_buffer, sep, delimiter, header, names, index_col, usecols, dtype, engine, converters, true_values, false_values, skipinitialspace, skiprows, skipfooter, nrows, na_values, keep_default_na, na_filter, verbose, skip_blank_lines, parse_dates, infer_datetime_format, keep_date_col, date_parser, date_format, dayfirst, cache_dates, iterator, chunksize, compression, thousands, decimal, lineterminator, quotechar, quoting, doublequote, escapechar, comment, encoding, encoding_errors, dialect, on_bad_lines, delim_whitespace, low_memory, memory_map, float_precision, storage_options, dtype_backend)\u001b[39m\n\u001b[32m   1013\u001b[39m kwds_defaults = _refine_defaults_read(\n\u001b[32m   1014\u001b[39m     dialect,\n\u001b[32m   1015\u001b[39m     delimiter,\n\u001b[32m   (...)\u001b[39m\u001b[32m   1022\u001b[39m     dtype_backend=dtype_backend,\n\u001b[32m   1023\u001b[39m )\n\u001b[32m   1024\u001b[39m kwds.update(kwds_defaults)\n\u001b[32m-> \u001b[39m\u001b[32m1026\u001b[39m \u001b[38;5;28;01mreturn\u001b[39;00m \u001b[43m_read\u001b[49m\u001b[43m(\u001b[49m\u001b[43mfilepath_or_buffer\u001b[49m\u001b[43m,\u001b[49m\u001b[43m \u001b[49m\u001b[43mkwds\u001b[49m\u001b[43m)\u001b[49m\n",
      "\u001b[36mFile \u001b[39m\u001b[32mc:\\Users\\franc\\AppData\\Local\\Programs\\Python\\Python313\\Lib\\site-packages\\pandas\\io\\parsers\\readers.py:620\u001b[39m, in \u001b[36m_read\u001b[39m\u001b[34m(filepath_or_buffer, kwds)\u001b[39m\n\u001b[32m    617\u001b[39m _validate_names(kwds.get(\u001b[33m\"\u001b[39m\u001b[33mnames\u001b[39m\u001b[33m\"\u001b[39m, \u001b[38;5;28;01mNone\u001b[39;00m))\n\u001b[32m    619\u001b[39m \u001b[38;5;66;03m# Create the parser.\u001b[39;00m\n\u001b[32m--> \u001b[39m\u001b[32m620\u001b[39m parser = \u001b[43mTextFileReader\u001b[49m\u001b[43m(\u001b[49m\u001b[43mfilepath_or_buffer\u001b[49m\u001b[43m,\u001b[49m\u001b[43m \u001b[49m\u001b[43m*\u001b[49m\u001b[43m*\u001b[49m\u001b[43mkwds\u001b[49m\u001b[43m)\u001b[49m\n\u001b[32m    622\u001b[39m \u001b[38;5;28;01mif\u001b[39;00m chunksize \u001b[38;5;129;01mor\u001b[39;00m iterator:\n\u001b[32m    623\u001b[39m     \u001b[38;5;28;01mreturn\u001b[39;00m parser\n",
      "\u001b[36mFile \u001b[39m\u001b[32mc:\\Users\\franc\\AppData\\Local\\Programs\\Python\\Python313\\Lib\\site-packages\\pandas\\io\\parsers\\readers.py:1620\u001b[39m, in \u001b[36mTextFileReader.__init__\u001b[39m\u001b[34m(self, f, engine, **kwds)\u001b[39m\n\u001b[32m   1617\u001b[39m     \u001b[38;5;28mself\u001b[39m.options[\u001b[33m\"\u001b[39m\u001b[33mhas_index_names\u001b[39m\u001b[33m\"\u001b[39m] = kwds[\u001b[33m\"\u001b[39m\u001b[33mhas_index_names\u001b[39m\u001b[33m\"\u001b[39m]\n\u001b[32m   1619\u001b[39m \u001b[38;5;28mself\u001b[39m.handles: IOHandles | \u001b[38;5;28;01mNone\u001b[39;00m = \u001b[38;5;28;01mNone\u001b[39;00m\n\u001b[32m-> \u001b[39m\u001b[32m1620\u001b[39m \u001b[38;5;28mself\u001b[39m._engine = \u001b[38;5;28;43mself\u001b[39;49m\u001b[43m.\u001b[49m\u001b[43m_make_engine\u001b[49m\u001b[43m(\u001b[49m\u001b[43mf\u001b[49m\u001b[43m,\u001b[49m\u001b[43m \u001b[49m\u001b[38;5;28;43mself\u001b[39;49m\u001b[43m.\u001b[49m\u001b[43mengine\u001b[49m\u001b[43m)\u001b[49m\n",
      "\u001b[36mFile \u001b[39m\u001b[32mc:\\Users\\franc\\AppData\\Local\\Programs\\Python\\Python313\\Lib\\site-packages\\pandas\\io\\parsers\\readers.py:1880\u001b[39m, in \u001b[36mTextFileReader._make_engine\u001b[39m\u001b[34m(self, f, engine)\u001b[39m\n\u001b[32m   1878\u001b[39m     \u001b[38;5;28;01mif\u001b[39;00m \u001b[33m\"\u001b[39m\u001b[33mb\u001b[39m\u001b[33m\"\u001b[39m \u001b[38;5;129;01mnot\u001b[39;00m \u001b[38;5;129;01min\u001b[39;00m mode:\n\u001b[32m   1879\u001b[39m         mode += \u001b[33m\"\u001b[39m\u001b[33mb\u001b[39m\u001b[33m\"\u001b[39m\n\u001b[32m-> \u001b[39m\u001b[32m1880\u001b[39m \u001b[38;5;28mself\u001b[39m.handles = \u001b[43mget_handle\u001b[49m\u001b[43m(\u001b[49m\n\u001b[32m   1881\u001b[39m \u001b[43m    \u001b[49m\u001b[43mf\u001b[49m\u001b[43m,\u001b[49m\n\u001b[32m   1882\u001b[39m \u001b[43m    \u001b[49m\u001b[43mmode\u001b[49m\u001b[43m,\u001b[49m\n\u001b[32m   1883\u001b[39m \u001b[43m    \u001b[49m\u001b[43mencoding\u001b[49m\u001b[43m=\u001b[49m\u001b[38;5;28;43mself\u001b[39;49m\u001b[43m.\u001b[49m\u001b[43moptions\u001b[49m\u001b[43m.\u001b[49m\u001b[43mget\u001b[49m\u001b[43m(\u001b[49m\u001b[33;43m\"\u001b[39;49m\u001b[33;43mencoding\u001b[39;49m\u001b[33;43m\"\u001b[39;49m\u001b[43m,\u001b[49m\u001b[43m \u001b[49m\u001b[38;5;28;43;01mNone\u001b[39;49;00m\u001b[43m)\u001b[49m\u001b[43m,\u001b[49m\n\u001b[32m   1884\u001b[39m \u001b[43m    \u001b[49m\u001b[43mcompression\u001b[49m\u001b[43m=\u001b[49m\u001b[38;5;28;43mself\u001b[39;49m\u001b[43m.\u001b[49m\u001b[43moptions\u001b[49m\u001b[43m.\u001b[49m\u001b[43mget\u001b[49m\u001b[43m(\u001b[49m\u001b[33;43m\"\u001b[39;49m\u001b[33;43mcompression\u001b[39;49m\u001b[33;43m\"\u001b[39;49m\u001b[43m,\u001b[49m\u001b[43m \u001b[49m\u001b[38;5;28;43;01mNone\u001b[39;49;00m\u001b[43m)\u001b[49m\u001b[43m,\u001b[49m\n\u001b[32m   1885\u001b[39m \u001b[43m    \u001b[49m\u001b[43mmemory_map\u001b[49m\u001b[43m=\u001b[49m\u001b[38;5;28;43mself\u001b[39;49m\u001b[43m.\u001b[49m\u001b[43moptions\u001b[49m\u001b[43m.\u001b[49m\u001b[43mget\u001b[49m\u001b[43m(\u001b[49m\u001b[33;43m\"\u001b[39;49m\u001b[33;43mmemory_map\u001b[39;49m\u001b[33;43m\"\u001b[39;49m\u001b[43m,\u001b[49m\u001b[43m \u001b[49m\u001b[38;5;28;43;01mFalse\u001b[39;49;00m\u001b[43m)\u001b[49m\u001b[43m,\u001b[49m\n\u001b[32m   1886\u001b[39m \u001b[43m    \u001b[49m\u001b[43mis_text\u001b[49m\u001b[43m=\u001b[49m\u001b[43mis_text\u001b[49m\u001b[43m,\u001b[49m\n\u001b[32m   1887\u001b[39m \u001b[43m    \u001b[49m\u001b[43merrors\u001b[49m\u001b[43m=\u001b[49m\u001b[38;5;28;43mself\u001b[39;49m\u001b[43m.\u001b[49m\u001b[43moptions\u001b[49m\u001b[43m.\u001b[49m\u001b[43mget\u001b[49m\u001b[43m(\u001b[49m\u001b[33;43m\"\u001b[39;49m\u001b[33;43mencoding_errors\u001b[39;49m\u001b[33;43m\"\u001b[39;49m\u001b[43m,\u001b[49m\u001b[43m \u001b[49m\u001b[33;43m\"\u001b[39;49m\u001b[33;43mstrict\u001b[39;49m\u001b[33;43m\"\u001b[39;49m\u001b[43m)\u001b[49m\u001b[43m,\u001b[49m\n\u001b[32m   1888\u001b[39m \u001b[43m    \u001b[49m\u001b[43mstorage_options\u001b[49m\u001b[43m=\u001b[49m\u001b[38;5;28;43mself\u001b[39;49m\u001b[43m.\u001b[49m\u001b[43moptions\u001b[49m\u001b[43m.\u001b[49m\u001b[43mget\u001b[49m\u001b[43m(\u001b[49m\u001b[33;43m\"\u001b[39;49m\u001b[33;43mstorage_options\u001b[39;49m\u001b[33;43m\"\u001b[39;49m\u001b[43m,\u001b[49m\u001b[43m \u001b[49m\u001b[38;5;28;43;01mNone\u001b[39;49;00m\u001b[43m)\u001b[49m\u001b[43m,\u001b[49m\n\u001b[32m   1889\u001b[39m \u001b[43m\u001b[49m\u001b[43m)\u001b[49m\n\u001b[32m   1890\u001b[39m \u001b[38;5;28;01massert\u001b[39;00m \u001b[38;5;28mself\u001b[39m.handles \u001b[38;5;129;01mis\u001b[39;00m \u001b[38;5;129;01mnot\u001b[39;00m \u001b[38;5;28;01mNone\u001b[39;00m\n\u001b[32m   1891\u001b[39m f = \u001b[38;5;28mself\u001b[39m.handles.handle\n",
      "\u001b[36mFile \u001b[39m\u001b[32mc:\\Users\\franc\\AppData\\Local\\Programs\\Python\\Python313\\Lib\\site-packages\\pandas\\io\\common.py:873\u001b[39m, in \u001b[36mget_handle\u001b[39m\u001b[34m(path_or_buf, mode, encoding, compression, memory_map, is_text, errors, storage_options)\u001b[39m\n\u001b[32m    868\u001b[39m \u001b[38;5;28;01melif\u001b[39;00m \u001b[38;5;28misinstance\u001b[39m(handle, \u001b[38;5;28mstr\u001b[39m):\n\u001b[32m    869\u001b[39m     \u001b[38;5;66;03m# Check whether the filename is to be opened in binary mode.\u001b[39;00m\n\u001b[32m    870\u001b[39m     \u001b[38;5;66;03m# Binary mode does not support 'encoding' and 'newline'.\u001b[39;00m\n\u001b[32m    871\u001b[39m     \u001b[38;5;28;01mif\u001b[39;00m ioargs.encoding \u001b[38;5;129;01mand\u001b[39;00m \u001b[33m\"\u001b[39m\u001b[33mb\u001b[39m\u001b[33m\"\u001b[39m \u001b[38;5;129;01mnot\u001b[39;00m \u001b[38;5;129;01min\u001b[39;00m ioargs.mode:\n\u001b[32m    872\u001b[39m         \u001b[38;5;66;03m# Encoding\u001b[39;00m\n\u001b[32m--> \u001b[39m\u001b[32m873\u001b[39m         handle = \u001b[38;5;28;43mopen\u001b[39;49m\u001b[43m(\u001b[49m\n\u001b[32m    874\u001b[39m \u001b[43m            \u001b[49m\u001b[43mhandle\u001b[49m\u001b[43m,\u001b[49m\n\u001b[32m    875\u001b[39m \u001b[43m            \u001b[49m\u001b[43mioargs\u001b[49m\u001b[43m.\u001b[49m\u001b[43mmode\u001b[49m\u001b[43m,\u001b[49m\n\u001b[32m    876\u001b[39m \u001b[43m            \u001b[49m\u001b[43mencoding\u001b[49m\u001b[43m=\u001b[49m\u001b[43mioargs\u001b[49m\u001b[43m.\u001b[49m\u001b[43mencoding\u001b[49m\u001b[43m,\u001b[49m\n\u001b[32m    877\u001b[39m \u001b[43m            \u001b[49m\u001b[43merrors\u001b[49m\u001b[43m=\u001b[49m\u001b[43merrors\u001b[49m\u001b[43m,\u001b[49m\n\u001b[32m    878\u001b[39m \u001b[43m            \u001b[49m\u001b[43mnewline\u001b[49m\u001b[43m=\u001b[49m\u001b[33;43m\"\u001b[39;49m\u001b[33;43m\"\u001b[39;49m\u001b[43m,\u001b[49m\n\u001b[32m    879\u001b[39m \u001b[43m        \u001b[49m\u001b[43m)\u001b[49m\n\u001b[32m    880\u001b[39m     \u001b[38;5;28;01melse\u001b[39;00m:\n\u001b[32m    881\u001b[39m         \u001b[38;5;66;03m# Binary mode\u001b[39;00m\n\u001b[32m    882\u001b[39m         handle = \u001b[38;5;28mopen\u001b[39m(handle, ioargs.mode)\n",
      "\u001b[31mFileNotFoundError\u001b[39m: [Errno 2] No such file or directory: 'insects.csv'"
     ]
    }
   ],
   "source": [
    "# Import a powerful tool called \"pandas\" that you'll use to work with and organize data easily\n",
    "import pandas as pd\n",
    "\n",
    "# Deliberate Error: Incorrect filename\n",
    "insects_df = pd.read_csv('insects.csv') \n",
    "\n",
    "# Correct approach (commented out for reference)\n",
    "# insects_df = pd.read_csv('insect_collection.csv') "
   ]
  },
  {
   "cell_type": "code",
   "execution_count": 16,
   "id": "6b5e0bbc",
   "metadata": {},
   "outputs": [],
   "source": [
    "# Import a powerful tool called \"pandas\" that you'll use to work with and organize data easily\n",
    "import pandas as pd\n",
    "\n",
    "# Correct approach (commented out for reference)\n",
    "insects_df = pd.read_csv('insect_collection.csv') "
   ]
  },
  {
   "cell_type": "markdown",
   "id": "da0823f3",
   "metadata": {},
   "source": [
    "Great debugging skills!\n",
    "\n",
    "***In the next cell, there is no error.***\n",
    "\n",
    "Please run the cell, which reads the CSV file into a Pandas DataFrame, converts this DataFrame into a list of dictionaries named `all_insects_data` using the `to_dict()` method, and prints `all_insects_data`. \n",
    "\n",
    "Note that each dictionary in the list represents a row (an insect) from the CSV file, with the column names as keys and their corresponding values."
   ]
  },
  {
   "cell_type": "code",
   "execution_count": 17,
   "id": "5475c91b",
   "metadata": {},
   "outputs": [
    {
     "name": "stdout",
     "output_type": "stream",
     "text": [
      "[{'name': 'Butterfly', 'species': 'Lepidoptera', 'legs': 6, 'wings': 2}, {'name': 'Beetle', 'species': 'Coleoptera', 'legs': 4, 'wings': 2}, {'name': 'Ant', 'species': 'Hymenoptera', 'legs': 6, 'wings': 0}, {'name': 'Spider', 'species': 'Araneae', 'legs': 8, 'wings': 0}]\n"
     ]
    }
   ],
   "source": [
    "# Convert the DataFrame to a list of dictionaries\n",
    "all_insects_data = insects_df.to_dict(orient='records')\n",
    "\n",
    "# Print the list of dictionaries\n",
    "print(all_insects_data)"
   ]
  },
  {
   "cell_type": "markdown",
   "id": "856d7a17",
   "metadata": {},
   "source": [
    "#### **The TypeError - Integers**\n",
    "\n",
    "Next, you'll explore how to access specific information within your insect dictionaries. You'll try to retrieve the first digit of the number of legs an insect has. Remember, dictionaries use keys to access their values.\n",
    "\n",
    "***First, run the cell below and review the error.***\n",
    "\n",
    "##### **Debugging Tips**\n",
    "\n",
    "* **Understanding the Error:** The `TypeError` indicates you're trying to use the subscript operator [] (used for accessing elements within sequences like lists or strings) on an integer, which isn't allowed.\n",
    "* Check Data Types: Use the `type()` function to confirm the data type of a variable if you're unsure.\n",
    "* Think Logically: Integers represent single numerical values, so trying to access an \"element\" within them doesn't make sense.\n",
    "* Review Your Code: Carefully examine the line causing the error and consider what you're trying to achieve. Are you using the right approach for the data type you're working with?\n",
    "\n",
    "##### **Still Stuck?**\n",
    "* If you are still stuck, remove or comment out the code under `# Deliberate Error` and uncomment the code below the following line to resolve the error: `# Correct approach (commented out for reference)`. \n",
    "* Helpful Tip: You can comment and uncomment multiple lines of code at once by selecting them and pressing `Ctrl + /` on your keyboard."
   ]
  },
  {
   "cell_type": "code",
   "execution_count": 18,
   "id": "f067f6c7",
   "metadata": {},
   "outputs": [
    {
     "ename": "TypeError",
     "evalue": "'int' object is not subscriptable",
     "output_type": "error",
     "traceback": [
      "\u001b[31m---------------------------------------------------------------------------\u001b[39m",
      "\u001b[31mTypeError\u001b[39m                                 Traceback (most recent call last)",
      "\u001b[36mCell\u001b[39m\u001b[36m \u001b[39m\u001b[32mIn[18]\u001b[39m\u001b[32m, line 3\u001b[39m\n\u001b[32m      1\u001b[39m \u001b[38;5;66;03m# Deliberate Error: Trying to access an element within an integer\u001b[39;00m\n\u001b[32m      2\u001b[39m first_insect = all_insects_data[\u001b[32m0\u001b[39m]\n\u001b[32m----> \u001b[39m\u001b[32m3\u001b[39m first_digit_of_legs = \u001b[43mfirst_insect\u001b[49m\u001b[43m[\u001b[49m\u001b[33;43m'\u001b[39;49m\u001b[33;43mlegs\u001b[39;49m\u001b[33;43m'\u001b[39;49m\u001b[43m]\u001b[49m\u001b[43m[\u001b[49m\u001b[32;43m0\u001b[39;49m\u001b[43m]\u001b[49m \n\u001b[32m      5\u001b[39m \u001b[38;5;66;03m# Correct approach (commented out for reference)\u001b[39;00m\n\u001b[32m      6\u001b[39m \u001b[38;5;66;03m# first_digit_of_legs = str(first_insect['legs'])[0] \u001b[39;00m\n\u001b[32m      8\u001b[39m \u001b[38;5;28mprint\u001b[39m(\u001b[33mf\u001b[39m\u001b[33m\"\u001b[39m\u001b[33mThe first digit of the number of legs the \u001b[39m\u001b[38;5;132;01m{\u001b[39;00mfirst_insect[\u001b[33m'\u001b[39m\u001b[33mname\u001b[39m\u001b[33m'\u001b[39m]\u001b[38;5;132;01m}\u001b[39;00m\u001b[33m has is: \u001b[39m\u001b[38;5;132;01m{\u001b[39;00mfirst_digit_of_legs\u001b[38;5;132;01m}\u001b[39;00m\u001b[33m\"\u001b[39m)\n",
      "\u001b[31mTypeError\u001b[39m: 'int' object is not subscriptable"
     ]
    }
   ],
   "source": [
    "# Deliberate Error: Trying to access an element within an integer\n",
    "first_insect = all_insects_data[0]\n",
    "first_digit_of_legs = first_insect['legs'][0] \n",
    "\n",
    "# Correct approach (commented out for reference)\n",
    "# first_digit_of_legs = str(first_insect['legs'])[0] \n",
    "\n",
    "print(f\"The first digit of the number of legs the {first_insect['name']} has is: {first_digit_of_legs}\")"
   ]
  },
  {
   "cell_type": "code",
   "execution_count": null,
   "id": "dbf58ab7",
   "metadata": {},
   "outputs": [
    {
     "name": "stdout",
     "output_type": "stream",
     "text": [
      "The first digit of the number of legs the Butterfly has is: 6\n"
     ]
    }
   ],
   "source": [
    "# Deliberate Error: Trying to access an element within an integer\n",
    "first_insect = all_insects_data[0]\n",
    "\n",
    "\n",
    "# Correct approach (commented out for reference)\n",
    "first_digit_of_legs = str(first_insect['legs'])[0] # CON LA CADENA PUEDES TRABAJAR TODOS LOS DATOS\n",
    "\n",
    "print(f\"The first digit of the number of legs the {first_insect['name']} has is: {first_digit_of_legs}\")"
   ]
  },
  {
   "cell_type": "markdown",
   "id": "cb1ab07c",
   "metadata": {},
   "source": [
    "##### **Why the Correct Approach Works**\n",
    "\n",
    "The corrected approach works because it addresses the core issue of the TypeError. Here's a breakdown:\n",
    "\n",
    "* Type Conversion: We use str(first_insect['legs']) to convert the integer value representing the number of legs into a string. This is crucial because strings are sequences of characters, allowing us to access individual characters using indexing.\n",
    "\n",
    "* Indexing: Once we have a string representation of the number of legs, we can use [0] to access its first character, which corresponds to the first digit of the original number.\n",
    "\n",
    "In essence, we're leveraging the sequence-like nature of strings to extract the desired information from a numerical value.\n",
    "\n",
    "This technique is handy whenever you need to manipulate or analyze individual digits within a number. Remember, understanding data types and their capabilities is key to effective debugging and problem-solving in Python."
   ]
  },
  {
   "cell_type": "markdown",
   "id": "16a30466",
   "metadata": {},
   "source": [
    "#### **The TypeError - Strings**\n",
    "\n",
    "In this cell, you'll explore another kind of `TypeError` while working with strings.\n",
    "\n",
    "***First, run the cell below and review the error.***\n",
    "\n",
    "##### **Debugging Tips**\n",
    "\n",
    "* **Understanding the Error:** The `TypeError` says you're trying to combine (concatenate) a string and an integer directly using the + operator, which isn't allowed in Python.\n",
    "* Type Conversion: Convert the integer to a string using str() before concatenation.\n",
    "* f-strings: Consider using f-strings (formatted string literals) for a more concise and readable way to embed variables within strings.\n",
    "\n",
    "##### **Still Stuck?**\n",
    "* If you are still stuck, remove or comment out the code under `# Deliberate Error` and uncomment the code below the following line to resolve the error: `# Correct approach (commented out for reference)`. \n",
    "* Helpful Tip: You can comment and uncomment multiple lines of code at once by selecting them and pressing `Ctrl + /` on your keyboard."
   ]
  },
  {
   "cell_type": "code",
   "execution_count": 20,
   "id": "4c944113",
   "metadata": {},
   "outputs": [
    {
     "ename": "TypeError",
     "evalue": "can only concatenate str (not \"int\") to str",
     "output_type": "error",
     "traceback": [
      "\u001b[31m---------------------------------------------------------------------------\u001b[39m",
      "\u001b[31mTypeError\u001b[39m                                 Traceback (most recent call last)",
      "\u001b[36mCell\u001b[39m\u001b[36m \u001b[39m\u001b[32mIn[20]\u001b[39m\u001b[32m, line 3\u001b[39m\n\u001b[32m      1\u001b[39m \u001b[38;5;66;03m# Deliberate Error: Trying to concatenate a string and an integer directly\u001b[39;00m\n\u001b[32m      2\u001b[39m first_insect = all_insects_data[\u001b[32m0\u001b[39m]\n\u001b[32m----> \u001b[39m\u001b[32m3\u001b[39m sentence = \u001b[33;43m\"\u001b[39;49m\u001b[33;43mThe \u001b[39;49m\u001b[33;43m\"\u001b[39;49m\u001b[43m \u001b[49m\u001b[43m+\u001b[49m\u001b[43m \u001b[49m\u001b[43mfirst_insect\u001b[49m\u001b[43m[\u001b[49m\u001b[33;43m'\u001b[39;49m\u001b[33;43mname\u001b[39;49m\u001b[33;43m'\u001b[39;49m\u001b[43m]\u001b[49m\u001b[43m \u001b[49m\u001b[43m+\u001b[49m\u001b[43m \u001b[49m\u001b[33;43m\"\u001b[39;49m\u001b[33;43m has \u001b[39;49m\u001b[33;43m\"\u001b[39;49m\u001b[43m \u001b[49m\u001b[43m+\u001b[49m\u001b[43m \u001b[49m\u001b[43mfirst_insect\u001b[49m\u001b[43m[\u001b[49m\u001b[33;43m'\u001b[39;49m\u001b[33;43mlegs\u001b[39;49m\u001b[33;43m'\u001b[39;49m\u001b[43m]\u001b[49m + \u001b[33m\"\u001b[39m\u001b[33m legs.\u001b[39m\u001b[33m\"\u001b[39m \n\u001b[32m      5\u001b[39m \u001b[38;5;66;03m# Correct approach (commented out for reference)\u001b[39;00m\n\u001b[32m      6\u001b[39m \u001b[38;5;66;03m# sentence = f\"The {first_insect['name']} has {first_insect['legs']} legs.\"\u001b[39;00m\n\u001b[32m      8\u001b[39m \u001b[38;5;28mprint\u001b[39m(sentence)\n",
      "\u001b[31mTypeError\u001b[39m: can only concatenate str (not \"int\") to str"
     ]
    }
   ],
   "source": [
    "# Deliberate Error: Trying to concatenate a string and an integer directly\n",
    "first_insect = all_insects_data[0]\n",
    "sentence = \"The \" + first_insect['name'] + \" has \" + first_insect['legs'] + \" legs.\" \n",
    "\n",
    "# Correct approach (commented out for reference)\n",
    "# sentence = f\"The {first_insect['name']} has {first_insect['legs']} legs.\"\n",
    "\n",
    "print(sentence)"
   ]
  },
  {
   "cell_type": "code",
   "execution_count": 21,
   "id": "1a1883d0",
   "metadata": {},
   "outputs": [
    {
     "name": "stdout",
     "output_type": "stream",
     "text": [
      "The Butterfly has 6 legs.\n"
     ]
    }
   ],
   "source": [
    "# Deliberate Error: Trying to concatenate a string and an integer directly\n",
    "first_insect = all_insects_data[0]\n",
    "\n",
    "\n",
    "# Correct approach (commented out for reference)\n",
    "sentence = f\"The {first_insect['name']} has {first_insect['legs']} legs.\"\n",
    "\n",
    "print(sentence)"
   ]
  },
  {
   "cell_type": "markdown",
   "id": "2591de6b",
   "metadata": {},
   "source": [
    "##### **Why the Correct Approach Works**\n",
    "\n",
    "The corrected approach, `sentence = f\"The {first_insect['name']} has {first_insect['legs']} legs.\"`, works seamlessly because it leverages the power of f-strings (formatted string literals) in Python.\n",
    "\n",
    "* F-strings for Elegant String Formatting: F-strings provide a concise and readable way to embed variables directly within strings. By enclosing variables within curly braces {}, their values are automatically converted to strings and inserted into the final string.\n",
    "\n",
    "* Implicit Type Conversion: In our example, the integer value `first_insect['legs']` is implicitly converted to a string when included within the f-string. This eliminates the need for explicit type conversion using `str()`, making the code cleaner and less prone to errors."
   ]
  },
  {
   "cell_type": "markdown",
   "id": "aba59991",
   "metadata": {},
   "source": [
    "#### Accessing Elements in a List - The IndexError\n",
    "\n",
    "Next, you'll try to access information about an insect at a specific position (index) within your list of insect dictionaries `all_insects_data`. You'll deliberately try to access an index that is out of bounds.\n",
    "\n",
    "***First, run the cell below and review the error.***\n",
    "\n",
    "##### **Debugging Tips**\n",
    "* **Understanding the Error:** The `IndexError` indicates you're trying to access an element at an index that doesn't exist within the list.\n",
    "* Check List Length: Use the `len()` function to get the number of elements in a list. Remember, list indices start at 0, so the last valid index is `len(list) - 1`.\n",
    "* Use Conditional Statements: Before accessing an element at a specific index, check if the index is within the valid range using an if statement\n",
    "\n",
    "##### **Still Stuck?**\n",
    "* If you are still stuck, remove or comment out the code under `# Deliberate Error` and uncomment the code below the following line to resolve the error: `# Correct approach (commented out for reference)`. \n",
    "* Helpful Tip: You can comment and uncomment multiple lines of code at once by selecting them and pressing `Ctrl + /` on your keyboard."
   ]
  },
  {
   "cell_type": "code",
   "execution_count": 22,
   "id": "4daf4649",
   "metadata": {},
   "outputs": [
    {
     "ename": "IndexError",
     "evalue": "list index out of range",
     "output_type": "error",
     "traceback": [
      "\u001b[31m---------------------------------------------------------------------------\u001b[39m",
      "\u001b[31mIndexError\u001b[39m                                Traceback (most recent call last)",
      "\u001b[36mCell\u001b[39m\u001b[36m \u001b[39m\u001b[32mIn[22]\u001b[39m\u001b[32m, line 2\u001b[39m\n\u001b[32m      1\u001b[39m \u001b[38;5;66;03m# Deliberate Error: Accessing an index that's out of bounds\u001b[39;00m\n\u001b[32m----> \u001b[39m\u001b[32m2\u001b[39m tenth_insect = \u001b[43mall_insects_data\u001b[49m\u001b[43m[\u001b[49m\u001b[32;43m10\u001b[39;49m\u001b[43m]\u001b[49m \n\u001b[32m      3\u001b[39m \u001b[38;5;28mprint\u001b[39m(tenth_insect)\n\u001b[32m      5\u001b[39m \u001b[38;5;66;03m# Correct approach (commented out for reference)\u001b[39;00m\n\u001b[32m      6\u001b[39m \u001b[38;5;66;03m# if len(all_insects_data) > 9:  # Check if the 10th insect exists\u001b[39;00m\n\u001b[32m      7\u001b[39m \u001b[38;5;66;03m#     tenth_insect = all_insects_data[9]  # Access the 10th insect (index 9)\u001b[39;00m\n\u001b[32m      8\u001b[39m \u001b[38;5;66;03m# else:\u001b[39;00m\n\u001b[32m      9\u001b[39m \u001b[38;5;66;03m#     print(\"There are not enough insects in the collection.\")\u001b[39;00m\n",
      "\u001b[31mIndexError\u001b[39m: list index out of range"
     ]
    }
   ],
   "source": [
    "# Deliberate Error: Accessing an index that's out of bounds\n",
    "tenth_insect = all_insects_data[10] \n",
    "print(tenth_insect)\n",
    "\n",
    "# Correct approach (commented out for reference)\n",
    "# if len(all_insects_data) > 9:  # Check if the 10th insect exists\n",
    "#     tenth_insect = all_insects_data[9]  # Access the 10th insect (index 9)\n",
    "# else:\n",
    "#     print(\"There are not enough insects in the collection.\")"
   ]
  },
  {
   "cell_type": "code",
   "execution_count": 32,
   "id": "0b800aca",
   "metadata": {},
   "outputs": [
    {
     "name": "stdout",
     "output_type": "stream",
     "text": [
      "There are not enough insects in the collection.\n",
      "4\n"
     ]
    }
   ],
   "source": [
    "# Deliberate Error: Accessing an index that's out of bounds\n",
    "\n",
    "# Correct approach (commented out for reference)\n",
    "if len(all_insects_data) > 9:  # Check if the 10th insect exists\n",
    "    tenth_insect = all_insects_data[9]  # Access the 10th insect (index 9)\n",
    "else:\n",
    "    print(\"There are not enough insects in the collection.\")\n",
    "\n",
    "print(len(all_insects_data))"
   ]
  },
  {
   "cell_type": "markdown",
   "id": "4e5d165b",
   "metadata": {},
   "source": [
    "##### **Why the Correct Approach Works**\n",
    "\n",
    "The corrected approach, which includes an if condition to check the list length before accessing an element, prevents the IndexError by ensuring we only attempt to access elements within the valid range of the list.\n",
    "\n",
    "* `len()` for List Length: The `len(all_insects_data)` function returns the total number of elements (insect dictionaries) in the list.\n",
    "\n",
    "* Zero-Based Indexing: Python lists use zero-based indexing, meaning the first element is at index 0, the second at index 1, and so on. The last valid index is `len(list) - 1`.\n",
    "\n",
    "* Conditional Access: The if `len(all_insects_data) > 9` condition checks if there are at least 10 elements in the list. If so, it safely accesses the 10th element (at index 9). Otherwise, it prints an informative message indicating that the requested insect doesn't exist."
   ]
  },
  {
   "cell_type": "markdown",
   "id": "b0ecf90f",
   "metadata": {},
   "source": [
    "#### Accessing Dictionary Values - The KeyError\n",
    "\n",
    "In the following cell, you'll try to access the color of an insect, even though this information isn't present in your insect dictionaries.\n",
    "\n",
    "***First, run the cell below and review the error.***\n",
    "\n",
    "##### **Debugging Tips**\n",
    "\n",
    "* **Understand the Error:** The `KeyError` says you're trying to access a key that doesn't exist in the dictionary.\n",
    "* Check for Key Existence:\n",
    "    * Use the in operator: if 'key_name' in dictionary:\n",
    "    * Use the .get() method: value = dictionary.get('key_name', default_value) (returns default_value if the key doesn't exist)\n",
    "* Handle Missing Keys Gracefully: Provide informative messages or default values when keys are missing, instead of letting your code crash.\n",
    "\n",
    "##### **Still Stuck?**\n",
    "* If you are still stuck, remove or comment out the code under `# Deliberate Error` and uncomment the code below the following line to resolve the error: `# Correct approach (commented out for reference)`. \n",
    "* Helpful Tip: You can comment and uncomment multiple lines of code at once by selecting them and pressing `Ctrl + /` on your keyboard."
   ]
  },
  {
   "cell_type": "code",
   "execution_count": 26,
   "id": "39e1777f",
   "metadata": {},
   "outputs": [
    {
     "ename": "KeyError",
     "evalue": "'color'",
     "output_type": "error",
     "traceback": [
      "\u001b[31m---------------------------------------------------------------------------\u001b[39m",
      "\u001b[31mKeyError\u001b[39m                                  Traceback (most recent call last)",
      "\u001b[36mCell\u001b[39m\u001b[36m \u001b[39m\u001b[32mIn[26]\u001b[39m\u001b[32m, line 3\u001b[39m\n\u001b[32m      1\u001b[39m \u001b[38;5;66;03m# Deliberate Error: Accessing a non-existent key \u001b[39;00m\n\u001b[32m      2\u001b[39m first_insect = all_insects_data[\u001b[32m0\u001b[39m]\n\u001b[32m----> \u001b[39m\u001b[32m3\u001b[39m color = \u001b[43mfirst_insect\u001b[49m\u001b[43m[\u001b[49m\u001b[33;43m'\u001b[39;49m\u001b[33;43mcolor\u001b[39;49m\u001b[33;43m'\u001b[39;49m\u001b[43m]\u001b[49m\n\u001b[32m      4\u001b[39m \u001b[38;5;28mprint\u001b[39m(\u001b[33mf\u001b[39m\u001b[33m\"\u001b[39m\u001b[33mThe color of the \u001b[39m\u001b[38;5;132;01m{\u001b[39;00mfirst_insect[\u001b[33m'\u001b[39m\u001b[33mname\u001b[39m\u001b[33m'\u001b[39m]\u001b[38;5;132;01m}\u001b[39;00m\u001b[33m is: \u001b[39m\u001b[38;5;132;01m{\u001b[39;00mcolor\u001b[38;5;132;01m}\u001b[39;00m\u001b[33m\"\u001b[39m)\n\u001b[32m      6\u001b[39m \u001b[38;5;66;03m# Correct approach (commented out for reference)\u001b[39;00m\n\u001b[32m      7\u001b[39m \u001b[38;5;66;03m# if 'color' in first_insect:\u001b[39;00m\n\u001b[32m      8\u001b[39m \u001b[38;5;66;03m#     color = first_insect['color']\u001b[39;00m\n\u001b[32m      9\u001b[39m \u001b[38;5;66;03m# else:\u001b[39;00m\n\u001b[32m     10\u001b[39m \u001b[38;5;66;03m#     print(\"Color information is not available for this insect.\")\u001b[39;00m\n",
      "\u001b[31mKeyError\u001b[39m: 'color'"
     ]
    }
   ],
   "source": [
    "# Deliberate Error: Accessing a non-existent key \n",
    "first_insect = all_insects_data[0]\n",
    "color = first_insect['color']\n",
    "print(f\"The color of the {first_insect['name']} is: {color}\")\n",
    "\n",
    "# Correct approach (commented out for reference)\n",
    "# if 'color' in first_insect:\n",
    "#     color = first_insect['color']\n",
    "# else:\n",
    "#     print(\"Color information is not available for this insect.\")"
   ]
  },
  {
   "cell_type": "code",
   "execution_count": 28,
   "id": "520a6c12",
   "metadata": {},
   "outputs": [
    {
     "name": "stdout",
     "output_type": "stream",
     "text": [
      "Color information is not available for this insect.\n"
     ]
    }
   ],
   "source": [
    "# Deliberate Error: Accessing a non-existent key \n",
    "\n",
    "\n",
    "# Correct approach (commented out for reference)\n",
    "if 'color' in first_insect:\n",
    "    color = first_insect['color']\n",
    "else:\n",
    "    print(\"Color information is not available for this insect.\")"
   ]
  },
  {
   "cell_type": "markdown",
   "id": "3df992ed",
   "metadata": {},
   "source": [
    "##### **Why the Correct Approach Works**\n",
    "\n",
    "The corrected approach, using the in operator to check for key existence, prevents the `KeyError` by ensuring we only try to access the 'color' key if it's present in the `first_insect` dictionary.\n",
    "\n",
    "* `in` Operator for Key Membership: The expression 'color' in `first_insect` checks if the key 'color' exists within the `first_insect` dictionary. It returns `True` if the key is found, and `False` otherwise.\n",
    "\n",
    "* Conditional Access: The `if` 'color' in `first_insect` condition allows us to execute the code to access the 'color' value only if the key is present. If the key is missing, we print an informative message instead of encountering an error."
   ]
  },
  {
   "cell_type": "markdown",
   "id": "bc12b60f",
   "metadata": {},
   "source": [
    "#### Adding New Information - The AttributeError\n",
    "\n",
    "Next, you'll try to add the color 'brown' to your `first_insect` dictionary. You'll mistakenly try to use the `.append()` method, which is designed for lists, not dictionaries.\n",
    "\n",
    "***First, run the cell below and review the error.***\n",
    "\n",
    "##### **Debugging Tips**\n",
    "\n",
    "* **Understand the Error:** The `AttributeError` says you're trying to use a method (`.append()`) that doesn't exist for the dictionary data type\n",
    "* Know Your Data Structures:\n",
    "    * Dictionaries use key-value pairs. To add a new key-value pair, simply assign a value to a new key: `dictionary['new_key'] = new_value`\n",
    "    * Lists are ordered collections of items. To add an item to the end of a list, use the `.append()` method: `list.append(new_item)`\n",
    "    * Review Documentation: If you're unsure about the available methods for a particular data type, consult the official Python documentation\n",
    "    \n",
    "##### **Still Stuck?**\n",
    "* If you are still stuck, remove or comment out the code under `# Deliberate Error` and uncomment the code below the following line to resolve the error: `# Correct approach (commented out for reference)`. \n",
    "* Helpful Tip: You can comment and uncomment multiple lines of code at once by selecting them and pressing `Ctrl + /` on your keyboard."
   ]
  },
  {
   "cell_type": "code",
   "execution_count": 29,
   "id": "6660493b",
   "metadata": {},
   "outputs": [
    {
     "ename": "AttributeError",
     "evalue": "'dict' object has no attribute 'append'",
     "output_type": "error",
     "traceback": [
      "\u001b[31m---------------------------------------------------------------------------\u001b[39m",
      "\u001b[31mAttributeError\u001b[39m                            Traceback (most recent call last)",
      "\u001b[36mCell\u001b[39m\u001b[36m \u001b[39m\u001b[32mIn[29]\u001b[39m\u001b[32m, line 3\u001b[39m\n\u001b[32m      1\u001b[39m \u001b[38;5;66;03m# Deliberate Error: Trying to use .append() on a dictionary\u001b[39;00m\n\u001b[32m      2\u001b[39m first_insect = all_insects_data[\u001b[32m0\u001b[39m]\n\u001b[32m----> \u001b[39m\u001b[32m3\u001b[39m \u001b[43mfirst_insect\u001b[49m\u001b[43m.\u001b[49m\u001b[43mappend\u001b[49m(\u001b[33m'\u001b[39m\u001b[33mcolor\u001b[39m\u001b[33m'\u001b[39m, \u001b[33m'\u001b[39m\u001b[33mbrown\u001b[39m\u001b[33m'\u001b[39m) \n\u001b[32m      5\u001b[39m \u001b[38;5;66;03m# Correct approach (commented out for reference)\u001b[39;00m\n\u001b[32m      6\u001b[39m \u001b[38;5;66;03m# first_insect['color'] = 'brown'\u001b[39;00m\n\u001b[32m      8\u001b[39m \u001b[38;5;28mprint\u001b[39m(first_insect)\n",
      "\u001b[31mAttributeError\u001b[39m: 'dict' object has no attribute 'append'"
     ]
    }
   ],
   "source": [
    "# Deliberate Error: Trying to use .append() on a dictionary\n",
    "first_insect = all_insects_data[0]\n",
    "first_insect.append('color', 'brown') \n",
    "\n",
    "# Correct approach (commented out for reference)\n",
    "# first_insect['color'] = 'brown'\n",
    "\n",
    "print(first_insect)"
   ]
  },
  {
   "cell_type": "code",
   "execution_count": 31,
   "id": "37ff0343",
   "metadata": {},
   "outputs": [
    {
     "name": "stdout",
     "output_type": "stream",
     "text": [
      "{'name': 'Butterfly', 'species': 'Lepidoptera', 'legs': 6, 'wings': 2, 'color': 'brown'}\n"
     ]
    }
   ],
   "source": [
    "# Deliberate Error: Trying to use .append() on a dictionary\n",
    "\n",
    "# Correct approach (commented out for reference)\n",
    "first_insect['color'] = 'brown'\n",
    "\n",
    "print(first_insect)"
   ]
  },
  {
   "cell_type": "markdown",
   "id": "38ae8da6",
   "metadata": {},
   "source": [
    "##### **Why the Correct Approach Works**\n",
    "\n",
    "The corrected approach, `first_insect['color'] = 'brown'`, successfully adds the 'color' key with the value 'brown' to the `first_insect` dictionary because it uses the correct syntax for assigning values to dictionary keys.\n",
    "\n",
    "* Key-Value Assignment: In Python dictionaries, you can add a new key-value pair or update an existing one using the assignment operator `=`. The syntax is `dictionary[key] = value`.\n",
    "\n",
    "* Dynamic Nature of Dictionaries: Dictionaries are mutable, meaning you can modify them by adding, updating, or removing key-value pairs after they've been created."
   ]
  },
  {
   "cell_type": "markdown",
   "id": "e338beb2",
   "metadata": {},
   "source": [
    "#### Handling Division by Zero - The ZeroDivisionError\n",
    "\n",
    "Lastly, you'll calculate the ratio of legs to wings for each insect. You'll need to be careful about insects with zero wings to avoid division by zero errors.\n",
    "\n",
    "***First, run the cell below and review the error.***\n",
    "\n",
    "##### **Debugging Tips**\n",
    "* **Understand the Error:** The `ZeroDivisionError` occurs when you try to divide a number by zero.\n",
    "* Check for Zero Before Dividing: Use an `if` statement to ensure the divisor is not zero before performing the division\n",
    "* Handle the Zero Case Gracefully: Provide an appropriate message or alternative calculation when division by zero is encountered\n",
    "\n",
    "\n",
    "##### **Still Stuck?**\n",
    "* If you are still stuck, remove or comment out the code under `# Deliberate Error` and uncomment the code below the following line to resolve the error: `# Correct approach (commented out for reference)`. \n",
    "* Helpful Tip: You can comment and uncomment multiple lines of code at once by selecting them and pressing `Ctrl + /` on your keyboard."
   ]
  },
  {
   "cell_type": "code",
   "execution_count": 33,
   "id": "d9ae442b",
   "metadata": {},
   "outputs": [
    {
     "ename": "ZeroDivisionError",
     "evalue": "division by zero",
     "output_type": "error",
     "traceback": [
      "\u001b[31m---------------------------------------------------------------------------\u001b[39m",
      "\u001b[31mZeroDivisionError\u001b[39m                         Traceback (most recent call last)",
      "\u001b[36mCell\u001b[39m\u001b[36m \u001b[39m\u001b[32mIn[33]\u001b[39m\u001b[32m, line 3\u001b[39m\n\u001b[32m      1\u001b[39m \u001b[38;5;66;03m# Deliberate Error: Potential division by zero\u001b[39;00m\n\u001b[32m      2\u001b[39m \u001b[38;5;28;01mfor\u001b[39;00m insect \u001b[38;5;129;01min\u001b[39;00m all_insects_data:\n\u001b[32m----> \u001b[39m\u001b[32m3\u001b[39m     leg_to_wing_ratio = \u001b[43minsect\u001b[49m\u001b[43m[\u001b[49m\u001b[33;43m'\u001b[39;49m\u001b[33;43mlegs\u001b[39;49m\u001b[33;43m'\u001b[39;49m\u001b[43m]\u001b[49m\u001b[43m \u001b[49m\u001b[43m/\u001b[49m\u001b[43m \u001b[49m\u001b[43minsect\u001b[49m\u001b[43m[\u001b[49m\u001b[33;43m'\u001b[39;49m\u001b[33;43mwings\u001b[39;49m\u001b[33;43m'\u001b[39;49m\u001b[43m]\u001b[49m\n\u001b[32m      5\u001b[39m \u001b[38;5;66;03m# Correct approach (commented out for reference)\u001b[39;00m\n\u001b[32m      6\u001b[39m \u001b[38;5;66;03m# for insect in all_insects_data:\u001b[39;00m\n\u001b[32m      7\u001b[39m \u001b[38;5;66;03m#     if insect['wings'] != 0:\u001b[39;00m\n\u001b[32m   (...)\u001b[39m\u001b[32m     10\u001b[39m \u001b[38;5;66;03m#         leg_to_wing_ratio = \"N/A (Insect has no wings)\" \u001b[39;00m\n\u001b[32m     11\u001b[39m \u001b[38;5;66;03m#     print(f\"The leg-to-wing ratio for the {insect['name']} is: {leg_to_wing_ratio}\")\u001b[39;00m\n",
      "\u001b[31mZeroDivisionError\u001b[39m: division by zero"
     ]
    }
   ],
   "source": [
    "# Deliberate Error: Potential division by zero\n",
    "for insect in all_insects_data:\n",
    "    leg_to_wing_ratio = insect['legs'] / insect['wings']\n",
    "\n",
    "# Correct approach (commented out for reference)\n",
    "# for insect in all_insects_data:\n",
    "#     if insect['wings'] != 0:\n",
    "#         leg_to_wing_ratio = insect['legs'] / insect['wings']\n",
    "#     else:\n",
    "#         leg_to_wing_ratio = \"N/A (Insect has no wings)\" \n",
    "#     print(f\"The leg-to-wing ratio for the {insect['name']} is: {leg_to_wing_ratio}\")"
   ]
  },
  {
   "cell_type": "code",
   "execution_count": 35,
   "id": "ec02a9d4",
   "metadata": {},
   "outputs": [
    {
     "name": "stdout",
     "output_type": "stream",
     "text": [
      "The leg-to-wing ratio for the Butterfly is: 3.0\n",
      "The leg-to-wing ratio for the Beetle is: 2.0\n",
      "The leg-to-wing ratio for the Ant is: N/A (Insect has no wings)\n",
      "The leg-to-wing ratio for the Spider is: N/A (Insect has no wings)\n"
     ]
    }
   ],
   "source": [
    "# Deliberate Error: Potential division by zero\n",
    "\n",
    "# Correct approach (commented out for reference)\n",
    "for insect in all_insects_data:\n",
    "    if insect['wings'] != 0:\n",
    "        leg_to_wing_ratio = insect['legs'] / insect['wings']\n",
    "    else:\n",
    "        leg_to_wing_ratio = \"N/A (Insect has no wings)\" \n",
    "    print(f\"The leg-to-wing ratio for the {insect['name']} is: {leg_to_wing_ratio}\")"
   ]
  },
  {
   "cell_type": "markdown",
   "id": "7162ddad",
   "metadata": {},
   "source": [
    "##### **Why the Correct Approach Works**\n",
    "\n",
    "The corrected approach, which includes an `if` condition to check for zero wings, prevents the `ZeroDivisionError` by avoiding division by zero.\n",
    "\n",
    "* Zero Check: The condition `if insect['wings'] != 0` checks if the number of wings is not zero.\n",
    "\n",
    "* Conditional Calculation: If the number of wings is not zero, the leg-to-wing ratio is calculated and printed.\n",
    "\n",
    "* Handling Zero Wings: If the number of wings is zero, a message `\"N/A (Insect has no wings)\"` is printed instead of performing the division, gracefully handling the scenario where the calculation is not possible."
   ]
  },
  {
   "cell_type": "markdown",
   "id": "a53979c2",
   "metadata": {},
   "source": [
    "## Activity Recap: Cleaning the Insect Collection Database\n",
    "\n",
    "Congratulations on completing your first task as a data analyst at the insect collection company! You've successfully applied your Python debugging skills to identify and resolve various errors, ensuring the accuracy and integrity of the insect collection database. Let's recap what you've learned:\n",
    "\n",
    "* FileNotFoundError: You've learned how to troubleshoot issues related to missing or inaccessible data files, ensuring your scripts can locate and read the crucial insect collection records.\n",
    "\n",
    "* TypeError: You've navigated through type-related errors, ensuring that you're performing operations on compatible data types (like numerical measurements and species names) and converting them when necessary.\n",
    "\n",
    "* IndexError: You've mastered list indexing and learned how to avoid accessing insect records beyond their valid range, preventing unexpected crashes in your data cleaning scripts.\n",
    "\n",
    "* KeyError: You've gained confidence in working with insect data dictionaries, ensuring that you're accessing existing keys (like 'species' or 'leg count') and handling missing keys gracefully.\n",
    "\n",
    "* AttributeError: You now understand the distinction between different data types and their available methods, avoiding attempts to use incompatible operations on insect data.\n",
    "\n",
    "* ZeroDivisionError: You've learned how to prevent division by zero errors by implementing checks and providing alternative solutions when encountering such scenarios, especially when calculating ratios or proportions based on insect attributes.\n",
    "\n",
    "**Remember:**\n",
    "\n",
    "* Debugging is an essential part of programming. It's about systematically identifying and fixing errors in your code. Don't get discouraged if you encounter errors; it's a natural part of the learning process!"
   ]
  },
  {
   "cell_type": "code",
   "execution_count": null,
   "id": "b7f46bed",
   "metadata": {},
   "outputs": [
    {
     "name": "stdout",
     "output_type": "stream",
     "text": [
      "Error: File not found - sample.txt\n"
     ]
    }
   ],
   "source": [
    "# Ejemplo: lectura de archivo con manejo de error\n",
    "file_name = \"sample.txt\"\n",
    "try:\n",
    "    with open(file_name, 'r') as file:\n",
    "        contents = file.read()\n",
    "        print(contents)\n",
    "except FileNotFoundError:\n",
    "    print(\"Error: File not found -\", file_name)"
   ]
  },
  {
   "cell_type": "code",
   "execution_count": 37,
   "id": "17f31b1d",
   "metadata": {},
   "outputs": [
    {
     "name": "stdout",
     "output_type": "stream",
     "text": [
      "Error: Division by zero\n"
     ]
    }
   ],
   "source": [
    "# Ejemplo: manejo de múltiples excepciones\n",
    "try:\n",
    "    result = 10 / 0\n",
    "except ZeroDivisionError:\n",
    "    print(\"Error: Division by zero\")\n",
    "except TypeError:\n",
    "    print(\"Error: Invalid data types\")\n",
    "# Output: Error: Division by zero"
   ]
  },
  {
   "cell_type": "code",
   "execution_count": 43,
   "id": "bf65cac1",
   "metadata": {},
   "outputs": [],
   "source": [
    "# Ejemplo con logging\n",
    "import logging\n",
    "\n",
    "try:\n",
    "    # Your potentially error-prone code here\n",
    "    pass\n",
    "except Exception as e:\n",
    "    logging.error(f\"An error occurred: {e}\")"
   ]
  },
  {
   "cell_type": "code",
   "execution_count": null,
   "id": "342a8805",
   "metadata": {},
   "outputs": [],
   "source": [
    "# Excepciones personalizadas\n",
    "# Se pueden crear clases de error específicas para la aplicación.\n",
    "# Ejemplo\n",
    "class InvalidCredentialsError(Exception):\n",
    "    pass\n",
    "\n",
    "if not valid_credentials(username, password):\n",
    "    raise InvalidCredentialsError(\"Incorrect username or password\")"
   ]
  },
  {
   "cell_type": "code",
   "execution_count": 46,
   "id": "6495dcf4",
   "metadata": {},
   "outputs": [
    {
     "name": "stdout",
     "output_type": "stream",
     "text": [
      "An error occurred\n"
     ]
    }
   ],
   "source": [
    "# Evitar except demasiado genéricos\n",
    "# Capturar todas las excepciones oculta la causa real del error.\n",
    "# Ejemplo malo\n",
    "try:\n",
    "    result = some_function()\n",
    "except:\n",
    "    print(\"An error occurred\")  # Oculta la causa real"
   ]
  },
  {
   "cell_type": "code",
   "execution_count": 88,
   "id": "3e96eaab",
   "metadata": {},
   "outputs": [],
   "source": [
    "# Tipado de pato (duck typing) y manejo de errores\n",
    "# Python confía en el comportamiento de los objetos más que en su tipo estricto. Se deben manejar errores como AttributeError.\n",
    "# Ejemplo\n",
    "def calculate_area(shape):\n",
    "    try:\n",
    "        return shape.calculate_area()\n",
    "    except AttributeError:\n",
    "        raise TypeError(\"Object does not have a calculate_area method\")\n"
   ]
  },
  {
   "cell_type": "code",
   "execution_count": 9,
   "id": "d0bae735",
   "metadata": {},
   "outputs": [
    {
     "name": "stdout",
     "output_type": "stream",
     "text": [
      "Error: File not found - /Users/Example/Documents/my_file.txt\n"
     ]
    }
   ],
   "source": [
    "# Reto de código funcional: Lectura segura de archivos\n",
    "\n",
    "def read_file_contents(file_path):\n",
    "    try:\n",
    "        with open(file_path, 'r') as file:  # Intentamos abrir y leer el archivo\n",
    "            contents = file.read()\n",
    "            print(contents)\n",
    "    except FileNotFoundError:\n",
    "        print(\"Error: File not found -\", file_path)\n",
    "\n",
    "# Ejemplo de ruta\n",
    "read_file_contents(\"/Users/Example/Documents/my_file.txt\")"
   ]
  },
  {
   "cell_type": "code",
   "execution_count": 2,
   "id": "e341009c",
   "metadata": {},
   "outputs": [
    {
     "name": "stdout",
     "output_type": "stream",
     "text": [
      "Invalid discount percentage\n"
     ]
    }
   ],
   "source": [
    "# Ejemplo práctico: función de descuento\n",
    "# Versión inicial (incorrecta):\n",
    "\n",
    "def calculatediscount(price, percentage):\n",
    "    if percentage < 0 or percentage > 100:\n",
    "        return \"Invalid discount percentage\"  # Incorrect behavior\n",
    "    discountamount = price * (percentage / 100)\n",
    "    return price - discountamount\n",
    "\n",
    "print(calculatediscount(100, 150))  \n",
    "# Devuelve \"Invalid discount percentage\" como cadena en lugar de manejarlo como error.\n",
    "\n",
    "# Problema: la función devuelve un string en caso de error, lo cual no es la forma más robusta de señalizar una condición inválida."
   ]
  },
  {
   "cell_type": "code",
   "execution_count": 3,
   "id": "19e92eaf",
   "metadata": {},
   "outputs": [
    {
     "name": "stdout",
     "output_type": "stream",
     "text": [
      "Error: Discount percentage must be between 0 and 100\n"
     ]
    }
   ],
   "source": [
    "# 4. Solución mejorada: usar excepciones\n",
    "\n",
    "def calculate_discount(price, percentage):\n",
    "    if percentage < 0 or percentage > 100:\n",
    "        raise ValueError(\"Discount percentage must be between 0 and 100\")\n",
    "    discount_amount = price * (percentage / 100)\n",
    "    return price - discount_amount\n",
    "\n",
    "try:\n",
    "    print(calculate_discount(100, 150))\n",
    "except ValueError as e:\n",
    "    print(f\"Error: {e}\")\n",
    "\n",
    "# Salida:\n",
    "# Error: Discount percentage must be between 0 and 100"
   ]
  },
  {
   "cell_type": "code",
   "execution_count": 5,
   "id": "0be7997c",
   "metadata": {},
   "outputs": [],
   "source": [
    "# Ejemplo de código con logging:\n",
    "\n",
    "# Estructuras de registro (logging)\n",
    "# Alternativa más avanzada a print().\n",
    "\n",
    "\n",
    "# Permite clasificar mensajes según niveles de gravedad: DEBUG, INFO, WARNING, ERROR, CRITICAL.\n",
    "\n",
    "\n",
    "# Facilita priorizar y centralizar información en archivos o bases de datos.\n",
    "\n",
    "\n",
    "import logging\n",
    "\n",
    "logging.basicConfig(filename='myapp.log', level=logging.DEBUG)\n",
    "\n",
    "def divide(x, y):\n",
    "    try:\n",
    "        result = x / y\n",
    "        logging.info(f\"Successfully divided {x} by {y} to get {result}\")\n",
    "        return result\n",
    "    except ZeroDivisionError:\n",
    "        logging.error(\"Division by zero attempted!\")\n",
    "        return None\n",
    "\n",
    "\n",
    "# EJEMPLO DE USO\n",
    "# Salida en el archivo myapp.log:\n",
    "\n",
    "divide(10, 2) ## INFO: Successfully divided 10 by 2 to get 5.0\n",
    "divide(5, 0)  ## ERROR: Division by zero attempted!"
   ]
  },
  {
   "cell_type": "code",
   "execution_count": 8,
   "id": "49844a16",
   "metadata": {},
   "outputs": [
    {
     "name": "stdout",
     "output_type": "stream",
     "text": [
      "40.0\n"
     ]
    }
   ],
   "source": [
    "# Bloque de código funcional: Depuración de un cálculo defectuoso\n",
    "\n",
    "def calculate_discount(price, discount_percentage):\n",
    "  discount_amount = price * (discount_percentage / 100)\n",
    "  discounted_price = price - discount_amount\n",
    "  return discounted_price\n",
    "\n",
    "\n",
    "# Code to test your output\n",
    "price = 50\n",
    "discount_percentage = 20\n",
    "discounted_price = calculate_discount(price, discount_percentage)\n",
    "print(discounted_price)\n",
    "\n",
    "# Simplemente era cambiar de un + a un - en disconuted price"
   ]
  }
 ],
 "metadata": {
  "kernelspec": {
   "display_name": "Python 3",
   "language": "python",
   "name": "python3"
  },
  "language_info": {
   "codemirror_mode": {
    "name": "ipython",
    "version": 3
   },
   "file_extension": ".py",
   "mimetype": "text/x-python",
   "name": "python",
   "nbconvert_exporter": "python",
   "pygments_lexer": "ipython3",
   "version": "3.13.7"
  }
 },
 "nbformat": 4,
 "nbformat_minor": 5
}
