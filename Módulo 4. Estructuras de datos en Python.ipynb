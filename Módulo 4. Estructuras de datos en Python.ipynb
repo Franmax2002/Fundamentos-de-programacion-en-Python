{
 "cells": [
  {
   "cell_type": "markdown",
   "id": "4d2a0646",
   "metadata": {},
   "source": [
    "# Módulo 4. Estructuras de datos en Python"
   ]
  },
  {
   "cell_type": "code",
   "execution_count": null,
   "id": "e3dc9f67",
   "metadata": {},
   "outputs": [
    {
     "name": "stdout",
     "output_type": "stream",
     "text": [
      "1\n",
      "2.1\n",
      "[2.1, 'hello']\n",
      "['Take a nap', 'Go for a walk', 'Read a book']\n"
     ]
    }
   ],
   "source": [
    "### LISTAS\n",
    "\n",
    "# Ejemplos:\n",
    "# Crear una lista con distintos tipos de datos (CON CORCHETES)\n",
    "my_list = [1, 2.1, \"hello\", [3, 4]]\n",
    "\n",
    "# Acceso por índice\n",
    "print(my_list[0])   # 1\n",
    "print(my_list[1])   # 2.1\n",
    "\n",
    "# Slicing\n",
    "print(my_list[1:3])   # [2.1, \"hello\"]\n",
    "\n",
    "# Extender una lista\n",
    "tasks = [\"Take a nap\"]\n",
    "new_tasks = [\"Go for a walk\", \"Read a book\"]\n",
    "tasks.extend(new_tasks)   # [\"Take a nap\", \"Go for a walk\", \"Read a book\"]\n",
    "print(tasks)\n",
    "\n"
   ]
  },
  {
   "cell_type": "code",
   "execution_count": null,
   "id": "ccdbf9ee",
   "metadata": {},
   "outputs": [
    {
     "name": "stdout",
     "output_type": "stream",
     "text": [
      "['Buy groceries', 'Call Mom', 'Programar cita con el dentista']\n"
     ]
    }
   ],
   "source": [
    "# Aplicación práctica: lista de tareas\n",
    "tasks = [\"Buy groceries\", \"Finish report\", \"Call Mom\"]\n",
    "tasks.append(\"Programar cita con el dentista\")\n",
    "tasks.remove(\"Finish report\")\n",
    "tasks.sort() # reordena la lista\n",
    "print(tasks)  "
   ]
  },
  {
   "cell_type": "code",
   "execution_count": null,
   "id": "ba6f960c",
   "metadata": {},
   "outputs": [
    {
     "name": "stdout",
     "output_type": "stream",
     "text": [
      "python\n",
      "(10, 20)\n"
     ]
    }
   ],
   "source": [
    "# TUPLAS # no se pueden modificar como las listas\n",
    "\n",
    "# Crear una tupla\n",
    "my_tuple = (10, 20, \"python\") # (CON PARÉNTESIS)\n",
    "\n",
    "# Acceso por índice\n",
    "print(my_tuple[2])   # \"python\"\n",
    "\n",
    "# Slicing\n",
    "print(my_tuple[0:2])   # (10, 20)\n",
    "\n",
    "# Intentar modificar dará error\n",
    "# my_tuple[1] = 30  # ❌ Error\n",
    "# my_tuple.append(\"nuevo elemento\")  # ❌ Error\n",
    "\n",
    "# Aplicación práctica: coordenadas geográficas\n",
    "coordinates = (37.7749, -122.4194)  # Latitud y longitud de San Francisco # La inmutabilidad de la tupla garantiza que estas coordenadas permanezcan fijas y precisas,"
   ]
  },
  {
   "cell_type": "code",
   "execution_count": null,
   "id": "cb891202",
   "metadata": {},
   "outputs": [
    {
     "name": "stdout",
     "output_type": "stream",
     "text": [
      "{1, 2, 3}\n",
      "{1, 3, 4, 5, 6}\n",
      "{3}\n",
      "{1, 6}\n",
      "3\n"
     ]
    }
   ],
   "source": [
    "# CONJUNTOS\n",
    "\n",
    "# Ejemplo básico:\n",
    "# Creación de un conjunto con duplicados\n",
    "my_set = {1, 2, 3, 3} # CON LLAVES\n",
    "print(my_set)   # {1, 2, 3}  -> el duplicado se elimina\n",
    "\n",
    "# Operaciones con conjuntos\n",
    "a = {1, 2, 3}\n",
    "b = {3, 4, 5}\n",
    "\n",
    "a.add(6)               # Añadir elemento\n",
    "a.remove(2)            # Eliminar elemento\n",
    "print(a.union(b))      # {1, 3, 4, 5, 6}\n",
    "print(a.intersection(b))  # {3}\n",
    "print(a.difference(b))    # {1, 6}\n",
    "\n",
    "#Aplicación real: Seguimiento de likes en redes sociales\n",
    "liked_by = {12345, 67890, 98765}  # IDs únicos de usuarios\n",
    "print(len(liked_by))  # 3 usuarios únicos"
   ]
  },
  {
   "cell_type": "code",
   "execution_count": null,
   "id": "d3a9add5",
   "metadata": {},
   "outputs": [
    {
     "name": "stdout",
     "output_type": "stream",
     "text": [
      "30\n",
      "New York\n",
      "dict_keys(['name', 'age', 'city'])\n",
      "dict_values(['Alice', 30, 'New York'])\n",
      "dict_items([('name', 'Alice'), ('age', 30), ('city', 'New York')])\n",
      "31\n",
      "999.99\n"
     ]
    }
   ],
   "source": [
    "# DICCIONARIOS\n",
    "\n",
    "# Ejemplo básico:\n",
    "# Creación de un diccionario\n",
    "my_dict = {\"name\": \"Alice\", \"age\": 30, \"city\": \"New York\"} # ES COMO PONER VALORES A LAS CLAVES CON :\n",
    "\n",
    "# Acceso por clave\n",
    "print(my_dict[\"age\"])   # 30\n",
    "\n",
    "# Métodos útiles\n",
    "print(my_dict.get(\"city\"))   # \"New York\"\n",
    "print(my_dict.keys())        # dict_keys(['name', 'age', 'city'])\n",
    "print(my_dict.values())      # dict_values(['Alice', 30, 'New York'])\n",
    "print(my_dict.items())       # dict_items([('name','Alice'),('age',30),('city','New York')])\n",
    "\n",
    "# Modificación\n",
    "my_dict.update({\"age\": 31}) # AQUÍ SE PONE CON LLAVES\n",
    "print(my_dict[\"age\"])  # 31\n",
    "\n",
    "# Aplicación real: Catálogo de productos\n",
    "products = {\n",
    "    \"P101\": {\"name\": \"Laptop\", \"price\": 999.99},\n",
    "    \"P102\": {\"name\": \"Smartphone\", \"price\": 599.99}\n",
    "}\n",
    "\n",
    "# Acceso al precio de un producto\n",
    "print(products[\"P101\"][\"price\"])  # 999.99\n"
   ]
  },
  {
   "cell_type": "code",
   "execution_count": null,
   "id": "33c2e071",
   "metadata": {},
   "outputs": [
    {
     "name": "stdout",
     "output_type": "stream",
     "text": [
      "['bananas', 'milk', 'eggs']\n"
     ]
    }
   ],
   "source": [
    "# Listas (mutables)\n",
    "\n",
    "shopping_list = [\"apples\", \"bananas\", \"milk\"]\n",
    "\n",
    "# Añadir un ítem\n",
    "shopping_list.append(\"eggs\")\n",
    "\n",
    "# Eliminar un ítem\n",
    "shopping_list.remove(\"apples\")\n",
    "\n",
    "print(shopping_list)  \n",
    "# ['bananas', 'milk', 'eggs']"
   ]
  },
  {
   "cell_type": "code",
   "execution_count": 14,
   "id": "3570db99",
   "metadata": {},
   "outputs": [
    {
     "name": "stdout",
     "output_type": "stream",
     "text": [
      "{'bananas': 3, 'eggs': 12}\n"
     ]
    }
   ],
   "source": [
    "# Diccionarios (mutables)\n",
    "\n",
    "item_quantities = {\"apples\": 3, \"bananas\": 1}\n",
    "\n",
    "# Añadir un ítem con su cantidad\n",
    "item_quantities[\"eggs\"] = 12\n",
    "\n",
    "# Actualizar cantidad\n",
    "item_quantities[\"bananas\"] += 2\n",
    "\n",
    "# Eliminar un ítem\n",
    "del item_quantities[\"apples\"]\n",
    "\n",
    "print(item_quantities)  \n",
    "# {'bananas': 3, 'eggs': 12}"
   ]
  },
  {
   "cell_type": "code",
   "execution_count": 15,
   "id": "548067cf",
   "metadata": {},
   "outputs": [
    {
     "name": "stdout",
     "output_type": "stream",
     "text": [
      "['bananas', 'milk', 'eggs']\n",
      "{'bananas': 3, 'eggs': 12}\n"
     ]
    }
   ],
   "source": [
    "# Ejemplo práctico completo: App de compras (listas y diccionarios mutables)\n",
    "\n",
    "shopping_list = [\"apples\", \"bananas\", \"milk\"]  # Lista de ítems\n",
    "item_quantities = {\"apples\": 3, \"bananas\": 1}  # Diccionario con cantidades\n",
    "\n",
    "# Usuario añade un ítem\n",
    "shopping_list.append(\"eggs\")\n",
    "item_quantities[\"eggs\"] = 12\n",
    "\n",
    "# Usuario aumenta la cantidad de bananas\n",
    "item_quantities[\"bananas\"] += 2\n",
    "\n",
    "# Usuario elimina apples\n",
    "shopping_list.remove(\"apples\")\n",
    "del item_quantities[\"apples\"]\n",
    "\n",
    "# Resultados\n",
    "print(shopping_list)      # ['bananas', 'milk', 'eggs']\n",
    "print(item_quantities)    # {'bananas': 3, 'eggs': 12}"
   ]
  },
  {
   "cell_type": "code",
   "execution_count": 16,
   "id": "8e892bc0",
   "metadata": {},
   "outputs": [
    {
     "name": "stdout",
     "output_type": "stream",
     "text": [
      "37.7749\n",
      "12\n"
     ]
    }
   ],
   "source": [
    "# Tuplas (inmutables)\n",
    "\n",
    "# Tuplas: datos fijos\n",
    "coordinates = (37.7749, -122.4194)  # Latitud y longitud de San Francisco\n",
    "birth_date = (1990, 12, 25)        # Año, mes, día\n",
    "\n",
    "# Acceso a elementos\n",
    "print(coordinates[0])  # 37.7749\n",
    "print(birth_date[1])   # 12"
   ]
  },
  {
   "cell_type": "code",
   "execution_count": 17,
   "id": "990d4e78",
   "metadata": {},
   "outputs": [
    {
     "name": "stdout",
     "output_type": "stream",
     "text": [
      "{1, 2, 3, 4, 5}\n",
      "{1, 2, 3, 4, 5}\n",
      "{3}\n",
      "{1, 2}\n"
     ]
    }
   ],
   "source": [
    "# Conjuntos (mutables por defecto). frozenset es la excepción, es conjunto inmutable\n",
    "\n",
    "# Conjunto básico\n",
    "unique_colors = {\"red\", \"green\", \"blue\"}\n",
    "\n",
    "# Eliminar duplicados de una lista\n",
    "numbers = [1, 2, 2, 3, 4, 4, 5]\n",
    "unique_numbers = set(numbers)  \n",
    "\n",
    "print(unique_numbers)  # {1, 2, 3, 4, 5}\n",
    "\n",
    "# Operaciones de conjuntos\n",
    "A = {1, 2, 3}\n",
    "B = {3, 4, 5}\n",
    "print(A.union(B))        # {1, 2, 3, 4, 5}\n",
    "print(A.intersection(B)) # {3}\n",
    "print(A.difference(B))   # {1, 2}"
   ]
  },
  {
   "cell_type": "code",
   "execution_count": 18,
   "id": "417a0c47",
   "metadata": {},
   "outputs": [
    {
     "name": "stdout",
     "output_type": "stream",
     "text": [
      "['Buy groceries', 'Finish report', 'Call mom']\n",
      "{'AAPL': 180, 'GOOG': 2800}\n",
      "frozenset({1, 2, 3})\n",
      "grupo de números\n"
     ]
    }
   ],
   "source": [
    "# MUTABLE VS INMUTABLE\n",
    "\n",
    "# MUTABLE\n",
    "\n",
    "# Lista de tareas (mutable)\n",
    "tasks = [\"Buy groceries\", \"Finish report\"]\n",
    "tasks.append(\"Call mom\") \n",
    "print(tasks)  # ['Buy groceries', 'Finish report', 'Call mom']\n",
    "\n",
    "# Diccionario con datos actualizables\n",
    "stock_prices = {\"AAPL\": 175, \"GOOG\": 2800}\n",
    "stock_prices[\"AAPL\"] = 180  # actualizar valor\n",
    "print(stock_prices)  # {'AAPL': 180, 'GOOG': 2800}\n",
    "\n",
    "# INMUTABLE\n",
    "\n",
    "# frozenset inmutable\n",
    "fs = frozenset([1, 2, 3])\n",
    "print(fs)  # frozenset({1, 2, 3})\n",
    "\n",
    "# Se puede usar como clave en un diccionario\n",
    "data = {fs: \"grupo de números\"}\n",
    "print(data[fs])  # grupo de números"
   ]
  },
  {
   "cell_type": "code",
   "execution_count": null,
   "id": "5abc2dbe",
   "metadata": {},
   "outputs": [
    {
     "name": "stdout",
     "output_type": "stream",
     "text": [
      "Shopping Cart:\n",
      "apple\n",
      "banana\n",
      "milk\n"
     ]
    }
   ],
   "source": [
    "# Reto de programación: Carrito de la compra\n",
    "\n",
    "shopping_cart = []\n",
    "\n",
    "# Añadir elementos a la lista\n",
    "\n",
    "shopping_cart.append(\"apple\") # solo deja uno si quieres ponerlos todos en una misma linea se usa extend\n",
    "shopping_cart.append(\"banana\")\n",
    "shopping_cart.append(\"milk\")\n",
    "\n",
    "# Imprimimos Shopping Cart y recorremos con un for los item de la lista\n",
    "\n",
    "print(\"Shopping Cart:\")\n",
    "\n",
    "for item in shopping_cart:\n",
    "    print(item)"
   ]
  },
  {
   "cell_type": "code",
   "execution_count": 36,
   "id": "2f2bd41f",
   "metadata": {},
   "outputs": [],
   "source": [
    "# MÁS EJEMPLOS DE DICCIONARIOS \n",
    "\n",
    "# Escenarios reales de uso\n",
    "# Libro de calificaciones\n",
    "\n",
    "calificaciones = {\"Ana\": 95, \"Luis\": 88, \"María\": 76}\n",
    "# Permite consultar notas, calcular promedios o identificar mejores resultados.\n",
    "\n",
    "\n",
    "# Perfiles en redes sociales\n",
    "\n",
    "perfil = {\n",
    "    \"usuario\": \"juan23\",\n",
    "    \"nombre\": \"Juan Pérez\",\n",
    "    \"edad\": 25,\n",
    "    \"intereses\": [\"música\", \"programación\"],\n",
    "    \"amigos\": [\"ana99\", \"luis88\"]\n",
    "}\n",
    "# Representa información completa del usuario (datos, amigos, mensajes, configuración).\n",
    "\n",
    "\n",
    "# Catálogo de productos en una tienda online\n",
    "\n",
    "productos = {\n",
    "    \"P101\": {\"nombre\": \"Libro Python\", \"precio\": 29.99, \"stock\": 15},\n",
    "    \"P102\": {\"nombre\": \"Auriculares\", \"precio\": 59.99, \"stock\": 8}\n",
    "}\n",
    "# Facilita búsquedas, gestión de inventario y filtrado de artículos.\n",
    "\n",
    "\n",
    "# Traducción de idiomas\n",
    "\n",
    "traducciones = {\"hello\": \"hola\", \"goodbye\": \"adiós\"}\n",
    "# Base para apps de traducción.\n",
    "\n",
    "\n",
    "# Archivos de configuración\n",
    "\n",
    "configuracion = {\n",
    "    \"volumen\": 80,\n",
    "    \"resolucion\": \"1920x1080\",\n",
    "    \"dificultad\": \"media\"\n",
    "}\n",
    "# Guarda ajustes de usuario en juegos o aplicaciones.\n",
    "\n",
    "\n",
    "# Contar frecuencia de palabras en un texto\n",
    "\n",
    "texto = \"hola hola python\"\n",
    "frecuencia = {\"hola\": 2, \"python\": 1}\n",
    "# Muy útil en procesamiento de lenguaje natural."
   ]
  },
  {
   "cell_type": "code",
   "execution_count": 49,
   "id": "22fb2856",
   "metadata": {},
   "outputs": [
    {
     "name": "stdout",
     "output_type": "stream",
     "text": [
      "The price of Widget A is $19.99\n"
     ]
    }
   ],
   "source": [
    "# Reto de programación: Crear un diccionario Python\n",
    "\n",
    "product_catalog = {\n",
    "    \"SKU123\": {\"name\": \"Widget A\", \"price\": 19.99, \"quantity\": 50},\n",
    "    \"SKU456\": {\"name\": \"Gadget B\", \"price\": 34.95, \"quantity\": 25},\n",
    "    \"SKU789\": {\"name\": \"Gizmo C\", \"price\": 9.99, \"quantity\": 100},\n",
    "}\n",
    "\n",
    "# Vamos a imprimir el precio de cada producto\n",
    "\n",
    "sku_to_find = \"SKU123\"\n",
    "\n",
    "if sku_to_find == \"SKU123\":\n",
    "    print(f\"The price of {product_catalog[sku_to_find]['name']} is ${product_catalog[sku_to_find]['price']}\")"
   ]
  },
  {
   "cell_type": "code",
   "execution_count": 53,
   "id": "80c564bc",
   "metadata": {},
   "outputs": [
    {
     "name": "stdout",
     "output_type": "stream",
     "text": [
      "{1, 2, 3, 4, 5}\n",
      "{3}\n",
      "{1, 2, 3, 4}\n"
     ]
    }
   ],
   "source": [
    "## MÁS CONJUNTOS\n",
    "\n",
    "# Operaciones comunes con sets\n",
    "# Unión (union): Combina todos los elementos únicos de dos conjuntos.\n",
    "\n",
    "set1 = {1, 2, 3}\n",
    "set2 = {3, 4, 5}\n",
    "combined = set1.union(set2)  # {1, 2, 3, 4, 5}\n",
    "print(combined)\n",
    "\n",
    "# Intersección (intersection): Devuelve los elementos comunes a ambos conjuntos.\n",
    "\n",
    "common = set1.intersection(set2)  # {3}\n",
    "print(common)\n",
    "\n",
    "# Eliminar duplicados de una lista:\n",
    "\n",
    "numbers = [1, 2, 2, 3, 3, 4]\n",
    "unique_numbers = set(numbers)  # {1, 2, 3, 4}\n",
    "print(unique_numbers)"
   ]
  },
  {
   "cell_type": "code",
   "execution_count": null,
   "id": "e4b62e24",
   "metadata": {},
   "outputs": [
    {
     "name": "stdout",
     "output_type": "stream",
     "text": [
      "['tarea1.5', 'tarea3']\n",
      "[]\n"
     ]
    }
   ],
   "source": [
    "# Operaciones con listas\n",
    "\n",
    "my_list = [\"tarea1\", \"tarea2\", \"tarea3\"]\n",
    "\n",
    "my_list.append(\"tarea4\")      # Añade al final\n",
    "my_list.insert(1, \"tarea1.5\") # Inserta en posición específica\n",
    "my_list.pop()                 # Elimina y devuelve el último elemento. El método pop() puede eliminar y devolver el último elemento de la lista, o puede especificar el índice del invitado a eliminar.\n",
    "my_list.remove(\"tarea2\")      # Elimina la primera aparición de un elemento\n",
    "del my_list[0]                # Elimina un elemento por índice\n",
    "print(my_list)\n",
    "\n",
    "my_list.clear()               # Elimina todos los elementos de la lista\n",
    "                              \n",
    "                              # Faltaría my_list.sort() Para ordenar la lista (si es en números lo ordena de orden ascendente por defecto)\n",
    "\n",
    "print(my_list)"
   ]
  },
  {
   "cell_type": "code",
   "execution_count": 56,
   "id": "8be21c98",
   "metadata": {},
   "outputs": [
    {
     "name": "stdout",
     "output_type": "stream",
     "text": [
      "555-5678\n",
      "{'Bob': '555-5678', 'Carol': '555-2468', 'David': '555-4321'}\n"
     ]
    }
   ],
   "source": [
    "# Diccionarios\n",
    "\n",
    "# Ejemplo práctico: almacenar contactos:\n",
    "\n",
    "# Crear un diccionario\n",
    "contacts = {\"Alice\": \"555-1234\", \"Bob\": \"555-5678\", \"Carol\": \"555-9012\"}\n",
    "\n",
    "# Recuperar el número de Bob\n",
    "bobs_phone = contacts[\"Bob\"]\n",
    "print(bobs_phone)  # Output: 555-5678\n",
    "\n",
    "# Añadir un nuevo contacto\n",
    "contacts[\"David\"] = \"555-4321\"\n",
    "\n",
    "# Actualizar el número de Carol\n",
    "contacts[\"Carol\"] = \"555-2468\"\n",
    "\n",
    "# Eliminar el contacto de Alice\n",
    "del contacts[\"Alice\"]\n",
    "\n",
    "# Mostrar contactos actualizados\n",
    "print(contacts)\n",
    "# Output: {'Bob': '555-5678', 'Carol': '555-2468', 'David': '555-4321'}"
   ]
  },
  {
   "cell_type": "code",
   "execution_count": null,
   "id": "88dd80d0",
   "metadata": {},
   "outputs": [
    {
     "name": "stdout",
     "output_type": "stream",
     "text": [
      "{'C++', 'JavaScript', 'Python', 'Java'}\n",
      "{'JavaScript'}\n"
     ]
    }
   ],
   "source": [
    "# Más conjuntos\n",
    "\n",
    "# Operaciones comunes y ejemplo de código:\n",
    "# Crear un conjunto de lenguajes de programación favoritos\n",
    "languages = {\"Python\", \"JavaScript\", \"Java\"}\n",
    "\n",
    "# Añadir un nuevo lenguaje\n",
    "languages.add(\"C++\")\n",
    "\n",
    "# Intentar añadir \"Python\" nuevamente (no se añade porque ya existe)\n",
    "languages.add(\"Python\")\n",
    "print(languages)  \n",
    "# Output: {'Python', 'C++', 'JavaScript', 'Java'} (el orden puede variar)\n",
    "\n",
    "# Eliminar un elemento\n",
    "languages.remove(\"Java\")\n",
    "\n",
    "# Crear otro conjunto\n",
    "web_languages = {\"JavaScript\", \"HTML\", \"CSS\"}\n",
    "\n",
    "# Encontrar elementos comunes entre los conjuntos\n",
    "common_languages = languages.intersection(web_languages)\n",
    "print(common_languages)  # Output: {'JavaScript'}"
   ]
  },
  {
   "cell_type": "code",
   "execution_count": null,
   "id": "8efbf311",
   "metadata": {},
   "outputs": [
    {
     "name": "stdout",
     "output_type": "stream",
     "text": [
      "[1, 2, 3, 4, 5]\n"
     ]
    }
   ],
   "source": [
    "# Desafío de código: Hacer una lista\n",
    "\n",
    "# Values provided (do not change) \n",
    "array = [1, 2, 2, 3, 1, 4, 5, 3]\n",
    "\n",
    "# The following line will need to change to only store unique values (quitar duplicados)\n",
    "unique_set = set(array)\n",
    "\n",
    "# List conversion and print provided (do not change) (ordenarlo con una lista)\n",
    "unique_array = list(unique_set)\n",
    "print(unique_array)"
   ]
  },
  {
   "cell_type": "markdown",
   "id": "a215dede",
   "metadata": {},
   "source": [
    "## Ejercicios de estructura de los datos: La práctica hace al maestro. TRADUCCIÓN EN APUNTES ##"
   ]
  },
  {
   "cell_type": "markdown",
   "id": "150ab780",
   "metadata": {},
   "source": [
    "## How to Interact with this Jupyter Notebook\n",
    "\n",
    "In this activity, you will use a Jupyter Notebook, which integrates both text and code. The gray boxes contain executable code, which you will run in order to view its output. The text in between the code provides instructions.\n"
   ]
  },
  {
   "cell_type": "markdown",
   "id": "b963a1cd",
   "metadata": {},
   "source": [
    "## Scenario: The Furry Foodie\n",
    "\n",
    "Welcome to The Furry Foodie, where tails wag and purrs rumble! \n",
    "\n",
    "You're the new data analyst on the block, and it's your job to ensure our inventory management system runs smoothly. You'll be working with various data structures to track product IDs, monitor stock levels, analyze sales trends, and organize our wide selection of pet products. \n",
    "\n",
    "### Project Summary:\n",
    "\n",
    "* **Lists - Inventory Management:** Efficiently manage and update our inventory list using Python lists. We'll practice adding new items, removing out-of-stock products, and ensuring our inventory is always up-to-date.\n",
    "\n",
    "* **Tuples - Immutable Data:** Explore the concept of immutability with tuples and understand their suitability for storing fixed data, such as product IDs.\n",
    "\n",
    "* **Dictionaries - Inventory Lookup:** Utilize dictionaries to create a dynamic inventory database. We'll learn how to load inventory data from a CSV file, access and update stock levels, and handle item additions and removals.\n",
    "\n",
    "* **Iterating over a Dictionary:** Generate clear and informative inventory reports by iterating through the dictionary and extracting key-value pairs.\n"
   ]
  },
  {
   "cell_type": "markdown",
   "id": "c0d9926d",
   "metadata": {},
   "source": [
    "For this activity, you will have access to a CSV file named `inventory.csv` that has already been created for you and contains some initial items. However, it has not yet been loaded into the jupyter notebook.\n",
    "\n",
    "In the cell below, add `inventory.csv` within pd.read_csv() to load the inventory data from the CSV file. Then, run the cell, which will:\n",
    "* Extract the product names from the DataFrame and store them in a list named `inventory`.\n",
    "* Print the inventory list to view the data."
   ]
  },
  {
   "cell_type": "code",
   "execution_count": 1,
   "id": "622bb078",
   "metadata": {},
   "outputs": [
    {
     "name": "stdout",
     "output_type": "stream",
     "text": [
      "['Salmon Snacks', 'Cheesy Chompers', 'Peanut Butter Biscuits', 'Feathery Fun Sticks', 'Squeaky Sausages', 'Tuna Tidbits', 'Crunchy Carrots', 'Beef Jerky', 'Chicken Chunks', 'Duck Delights', 'Lamb Lovin', 'Turkey Tidbits', 'Fish Fingers', 'Dental Chews', 'Hip & Joint Treats', 'Skin & Coat Formula', 'Calming Chews', 'Training Treats', 'Catnip Mice', 'Feather Wand', 'Laser Pointer', 'Scratching Post', 'Cat Tree', 'Litter Box', 'Litter Scoop', 'Cat Food (dry)', 'Cat Food (wet)', 'Dog Food (dry)', 'Dog Food (wet)', 'Dog Leash', 'Dog Collar', 'Dog Harness', 'Dog Bed', 'Dog Toys', 'Cat Toys', 'Pet Shampoo', 'Pet Conditioner', 'Pet Toothbrush', 'Pet Toothpaste', 'Pet Nail Clippers', 'Pet Carrier', 'Pet Bowls', 'Pet Water Fountain', 'Pet First Aid Kit', 'Pet Grooming Brush', 'Pet Waste Bags', 'Pet Training Clicker', 'Pet Travel Bowl', 'Pet Cooling Mat', 'Pet Heating Pad']\n"
     ]
    }
   ],
   "source": [
    "# Import a powerful tool called \"pandas\" that you'll use to work with and organize data easily\n",
    "import pandas as pd\n",
    "\n",
    "# Load the inventory from the CSV file\n",
    "inventory_df = pd.read_csv('inventory.csv')\n",
    "\n",
    "# Extract the product names from the DataFrame and store them in a list\n",
    "inventory = inventory_df['product_name'].tolist()\n",
    "\n",
    "# Print the inventory list and inspect the output\n",
    "print(inventory) \n",
    "\n",
    "# para verlo todo como un dataframe usar: inventory_df"
   ]
  },
  {
   "cell_type": "markdown",
   "id": "e686107c",
   "metadata": {},
   "source": [
    "Notice that the output above is a list of inventory items at the Furry Foodie. \n",
    "\n",
    "It turns out that \"Cheesy Chompers\" is no longer a popular choice at The Furry Foodie and you've decided to discontinue them. You need to update the inventory list to reflect this change.\n",
    "\n",
    "The `remove()` method searches for the specified item in the list and removes its first occurrence. If the item is not found, it raises a ValueError.\n",
    "\n",
    "In the cell below:\n",
    "\n",
    "* Use the `remove()` method to remove the first occurrence of \"Cheesy Chompers\" from the `inventory` list.\n",
    "\n",
    "Then, run the cell to print the updated inventory and see the changes.\n"
   ]
  },
  {
   "cell_type": "code",
   "execution_count": 2,
   "id": "f7e173e8",
   "metadata": {},
   "outputs": [
    {
     "name": "stdout",
     "output_type": "stream",
     "text": [
      "\n",
      "Updated inventory:\n",
      "['Salmon Snacks', 'Peanut Butter Biscuits', 'Feathery Fun Sticks', 'Squeaky Sausages', 'Tuna Tidbits', 'Crunchy Carrots', 'Beef Jerky', 'Chicken Chunks', 'Duck Delights', 'Lamb Lovin', 'Turkey Tidbits', 'Fish Fingers', 'Dental Chews', 'Hip & Joint Treats', 'Skin & Coat Formula', 'Calming Chews', 'Training Treats', 'Catnip Mice', 'Feather Wand', 'Laser Pointer', 'Scratching Post', 'Cat Tree', 'Litter Box', 'Litter Scoop', 'Cat Food (dry)', 'Cat Food (wet)', 'Dog Food (dry)', 'Dog Food (wet)', 'Dog Leash', 'Dog Collar', 'Dog Harness', 'Dog Bed', 'Dog Toys', 'Cat Toys', 'Pet Shampoo', 'Pet Conditioner', 'Pet Toothbrush', 'Pet Toothpaste', 'Pet Nail Clippers', 'Pet Carrier', 'Pet Bowls', 'Pet Water Fountain', 'Pet First Aid Kit', 'Pet Grooming Brush', 'Pet Waste Bags', 'Pet Training Clicker', 'Pet Travel Bowl', 'Pet Cooling Mat', 'Pet Heating Pad']\n"
     ]
    }
   ],
   "source": [
    "# Remove the \"Cheesy Chompers\"\n",
    "inventory.remove(\"Cheesy Chompers\") \n",
    "\n",
    "print(\"\\nUpdated inventory:\")\n",
    "print(inventory)"
   ]
  },
  {
   "cell_type": "markdown",
   "id": "e47989d5",
   "metadata": {},
   "source": [
    "Great work! The updated inventory list no longer shows \"Cheesy Chompers\", which has been succesfully removed.\n",
    "\n",
    "However, a new shipment of delicious pet treats has just arrived. \n",
    "\n",
    "The `new_items_str` variable in the cell below contains a comma-separated string representing these new items. The provided code converts the `new_items_str` into a list of individual items using the `split()` method. \n",
    "\n",
    "The `split()` method breaks a string into a list of substrings based on a specified delimiter (in this case, a comma followed by a space).\n",
    "\n",
    "In the cell below: \n",
    "* Use the `extend()` method to add all the new items from the `new_items` list to the end of the existing inventory list by adding `new_items` to the `extend()` method. \n",
    "\n",
    "Lastly, run the cell to print the updated inventory and see your newly added items. "
   ]
  },
  {
   "cell_type": "code",
   "execution_count": 3,
   "id": "94e21ae6",
   "metadata": {},
   "outputs": [
    {
     "name": "stdout",
     "output_type": "stream",
     "text": [
      "A new shipment of gourmet goodies has arrived!\n",
      "\n",
      "Updated inventory:\n",
      "['Salmon Snacks', 'Peanut Butter Biscuits', 'Feathery Fun Sticks', 'Squeaky Sausages', 'Tuna Tidbits', 'Crunchy Carrots', 'Beef Jerky', 'Chicken Chunks', 'Duck Delights', 'Lamb Lovin', 'Turkey Tidbits', 'Fish Fingers', 'Dental Chews', 'Hip & Joint Treats', 'Skin & Coat Formula', 'Calming Chews', 'Training Treats', 'Catnip Mice', 'Feather Wand', 'Laser Pointer', 'Scratching Post', 'Cat Tree', 'Litter Box', 'Litter Scoop', 'Cat Food (dry)', 'Cat Food (wet)', 'Dog Food (dry)', 'Dog Food (wet)', 'Dog Leash', 'Dog Collar', 'Dog Harness', 'Dog Bed', 'Dog Toys', 'Cat Toys', 'Pet Shampoo', 'Pet Conditioner', 'Pet Toothbrush', 'Pet Toothpaste', 'Pet Nail Clippers', 'Pet Carrier', 'Pet Bowls', 'Pet Water Fountain', 'Pet First Aid Kit', 'Pet Grooming Brush', 'Pet Waste Bags', 'Pet Training Clicker', 'Pet Travel Bowl', 'Pet Cooling Mat', 'Pet Heating Pad', 'Squeaky Sausages', 'Tuna Tidbits', 'Crunchy Carrots']\n"
     ]
    }
   ],
   "source": [
    "print(\"A new shipment of gourmet goodies has arrived!\")\n",
    "\n",
    "# New shipment of goodies! (provided as a string)\n",
    "new_items_str = \"Squeaky Sausages, Tuna Tidbits, Crunchy Carrots\"\n",
    "\n",
    "# Convert the string to a list and stores them in the variable new_items\n",
    "new_items = new_items_str.split(\", \") \n",
    "\n",
    "# Update the inventory list by adding \"new_items\" to the extend() method\n",
    "inventory.extend(new_items) \n",
    "\n",
    "print(\"\\nUpdated inventory:\")\n",
    "print(inventory) "
   ]
  },
  {
   "cell_type": "markdown",
   "id": "65a34e07",
   "metadata": {},
   "source": [
    "Great job adding those new items!\n",
    "\n",
    "As the Furry Foodie grows, you're starting to see a lot of products with similar names. It's getting tricky to keep them organized, especially when processing orders or tracking sales. You need a way to assign unique identifiers to each product, something that won't accidentally get changed or mixed up.\n",
    "\n",
    "You will use tuples to represent unique product IDs. Tuples are ordered, immutable collections of items.  Immutability means that once a tuple is created, its elements cannot be changed. This makes tuples ideal for storing data that shouldn't be modified.\n",
    "\n",
    "Please note that you will run the cell below twice. \n",
    "\n",
    "First, run the cell now, which has a few simple product IDs using tuples that has already been created for you. When you run the cell, you will print the product IDs. Observe the output.\n",
    "\n",
    "Then, remove the `#` in front of the last line of code to uncomment it. This last line of code attempts to modify a tuple. \n",
    "\n",
    "Run the cell a second time and observe the `TypeError` that demonstrates the immutability of tuples."
   ]
  },
  {
   "cell_type": "code",
   "execution_count": 4,
   "id": "a67feb73",
   "metadata": {},
   "outputs": [
    {
     "name": "stdout",
     "output_type": "stream",
     "text": [
      "Product IDs:\n",
      "('Salmon Snacks', 'Small')\n",
      "('Cheesy Chompers', 'Medium')\n",
      "('Peanut Butter Biscuits', 'Large')\n"
     ]
    },
    {
     "ename": "TypeError",
     "evalue": "'tuple' object does not support item assignment",
     "output_type": "error",
     "traceback": [
      "\u001b[31m---------------------------------------------------------------------------\u001b[39m",
      "\u001b[31mTypeError\u001b[39m                                 Traceback (most recent call last)",
      "\u001b[36mCell\u001b[39m\u001b[36m \u001b[39m\u001b[32mIn[4]\u001b[39m\u001b[32m, line 13\u001b[39m\n\u001b[32m     10\u001b[39m \u001b[38;5;28mprint\u001b[39m(product_id3)\n\u001b[32m     12\u001b[39m \u001b[38;5;66;03m# Try to modify a tuple by removing the \"#\" in front of the line below (this will cause an error)\u001b[39;00m\n\u001b[32m---> \u001b[39m\u001b[32m13\u001b[39m \u001b[43mproduct_id1\u001b[49m\u001b[43m[\u001b[49m\u001b[32;43m0\u001b[39;49m\u001b[43m]\u001b[49m = \u001b[33m\"\u001b[39m\u001b[33mTuna Treats\u001b[39m\u001b[33m\"\u001b[39m  \u001b[38;5;66;03m# Uncomment this line to see the TypeError\u001b[39;00m\n",
      "\u001b[31mTypeError\u001b[39m: 'tuple' object does not support item assignment"
     ]
    }
   ],
   "source": [
    "# Create some product IDs as tuples\n",
    "product_id1 = (\"Salmon Snacks\", \"Small\")\n",
    "product_id2 = (\"Cheesy Chompers\", \"Medium\")\n",
    "product_id3 = (\"Peanut Butter Biscuits\", \"Large\")\n",
    "\n",
    "# Print the product IDs\n",
    "print(\"Product IDs:\")\n",
    "print(product_id1)\n",
    "print(product_id2)\n",
    "print(product_id3)\n",
    "\n",
    "# Try to modify a tuple by removing the \"#\" in front of the line below (this will cause an error)\n",
    "product_id1[0] = \"Tuna Treats\"  # Uncomment this line to see the TypeError"
   ]
  },
  {
   "cell_type": "markdown",
   "id": "124640b7",
   "metadata": {},
   "source": [
    "The previous sections focused on using lists and tuples for inventory management. While these data structures are useful, they have limitations when it comes to efficiently accessing and updating specific product information. \n",
    "\n",
    "Dictionaries offer a more organized and flexible approach, allowing you to store product names as keys and their corresponding stock levels as values. This key-value structure enables quick lookups and modifications, making dictionaries ideal for managing inventory data.\n",
    "\n",
    "Run the cell below, which uses the pandas library to load data from the CSV file and coverts it into a dictionary. Notice pandas' versatility here in handling different data structures."
   ]
  },
  {
   "cell_type": "code",
   "execution_count": 5,
   "id": "aff1dab8",
   "metadata": {},
   "outputs": [
    {
     "name": "stdout",
     "output_type": "stream",
     "text": [
      "Initial Inventory:\n",
      "{'Salmon Snacks': 25, 'Cheesy Chompers': 15, 'Peanut Butter Biscuits': 30, 'Feathery Fun Sticks': 34, 'Squeaky Sausages': 16, 'Tuna Tidbits': 13, 'Crunchy Carrots': 17, 'Beef Jerky': 16, 'Chicken Chunks': 46, 'Duck Delights': 23, 'Lamb Lovin': 22, 'Turkey Tidbits': 25, 'Fish Fingers': 13, 'Dental Chews': 45, 'Hip & Joint Treats': 33, 'Skin & Coat Formula': 33, 'Calming Chews': 48, 'Training Treats': 11, 'Catnip Mice': 23, 'Feather Wand': 40, 'Laser Pointer': 21, 'Scratching Post': 14, 'Cat Tree': 45, 'Litter Box': 48, 'Litter Scoop': 18, 'Cat Food (dry)': 15, 'Cat Food (wet)': 24, 'Dog Food (dry)': 28, 'Dog Food (wet)': 15, 'Dog Leash': 23, 'Dog Collar': 23, 'Dog Harness': 40, 'Dog Bed': 30, 'Dog Toys': 41, 'Cat Toys': 40, 'Pet Shampoo': 35, 'Pet Conditioner': 27, 'Pet Toothbrush': 38, 'Pet Toothpaste': 24, 'Pet Nail Clippers': 30, 'Pet Carrier': 30, 'Pet Bowls': 27, 'Pet Water Fountain': 12, 'Pet First Aid Kit': 40, 'Pet Grooming Brush': 48, 'Pet Waste Bags': 45, 'Pet Training Clicker': 47, 'Pet Travel Bowl': 17, 'Pet Cooling Mat': 34, 'Pet Heating Pad': 11}\n"
     ]
    }
   ],
   "source": [
    "import pandas as pd\n",
    "\n",
    "# Load inventory data from CSV\n",
    "inventory_df = pd.read_csv('inventory.csv')\n",
    "\n",
    "# Set the 'product_name' column as the index\n",
    "inventory_df.set_index('product_name', inplace=True)\n",
    "\n",
    "# Convert the DataFrame directly to a dictionary, selecting only the 'stock_level' column\n",
    "inventory_dict = inventory_df['stock_level'].to_dict()\n",
    "\n",
    "# Print the inventory\n",
    "print(\"Initial Inventory:\")\n",
    "print(inventory_dict)"
   ]
  },
  {
   "cell_type": "markdown",
   "id": "e0d97a5d",
   "metadata": {},
   "source": [
    "Notice that the output above is now a dictionary where the product names are the keys, and the stock levels are the corresponding values. \n",
    "\n",
    "For example, \"Salmon Snacks\" is the key and \"25\" is the value. \n",
    "\n",
    "This structure allows for efficient lookup and management of inventory information. \n",
    "\n",
    "Imagine that a new shipment of exciting pet products has arrived at The Furry Foodie and you need to update your `inventory_dict` dictionary to reflect these changes.\n",
    "\n",
    "In the cell below: \n",
    "\n",
    "* Add a new item, \"Puppy Snacks\", to the `inventory_dict` with a stock level of 40.\n",
    "* We also received additional stock of \"Cheesy Chompers\". Update the stock level of \"Cheesy Chompers\" in the `inventory_dict` to 20.\n",
    "\n",
    "Then, run the cell to print the updated `inventory_dict` and see the changes."
   ]
  },
  {
   "cell_type": "code",
   "execution_count": 6,
   "id": "bab47075",
   "metadata": {},
   "outputs": [
    {
     "name": "stdout",
     "output_type": "stream",
     "text": [
      "\n",
      "Updated Inventory:\n",
      "{'Salmon Snacks': 25, 'Cheesy Chompers': 20, 'Peanut Butter Biscuits': 30, 'Feathery Fun Sticks': 34, 'Squeaky Sausages': 16, 'Tuna Tidbits': 13, 'Crunchy Carrots': 17, 'Beef Jerky': 16, 'Chicken Chunks': 46, 'Duck Delights': 23, 'Lamb Lovin': 22, 'Turkey Tidbits': 25, 'Fish Fingers': 13, 'Dental Chews': 45, 'Hip & Joint Treats': 33, 'Skin & Coat Formula': 33, 'Calming Chews': 48, 'Training Treats': 11, 'Catnip Mice': 23, 'Feather Wand': 40, 'Laser Pointer': 21, 'Scratching Post': 14, 'Cat Tree': 45, 'Litter Box': 48, 'Litter Scoop': 18, 'Cat Food (dry)': 15, 'Cat Food (wet)': 24, 'Dog Food (dry)': 28, 'Dog Food (wet)': 15, 'Dog Leash': 23, 'Dog Collar': 23, 'Dog Harness': 40, 'Dog Bed': 30, 'Dog Toys': 41, 'Cat Toys': 40, 'Pet Shampoo': 35, 'Pet Conditioner': 27, 'Pet Toothbrush': 38, 'Pet Toothpaste': 24, 'Pet Nail Clippers': 30, 'Pet Carrier': 30, 'Pet Bowls': 27, 'Pet Water Fountain': 12, 'Pet First Aid Kit': 40, 'Pet Grooming Brush': 48, 'Pet Waste Bags': 45, 'Pet Training Clicker': 47, 'Pet Travel Bowl': 17, 'Pet Cooling Mat': 34, 'Pet Heating Pad': 11, 'Puppy Snacks': 40}\n"
     ]
    }
   ],
   "source": [
    "# Add \"Puppy Snacks\" to the inventory\n",
    "inventory_dict[\"Puppy Snacks\"] = 40\n",
    "\n",
    "# Update \"Cheesy Chompers\" in the inventory and assign it the value of 20\n",
    "inventory_dict[\"Cheesy Chompers\"] = 20\n",
    "\n",
    "print(\"\\nUpdated Inventory:\")\n",
    "print(inventory_dict)"
   ]
  },
  {
   "cell_type": "markdown",
   "id": "075ce82f",
   "metadata": {},
   "source": [
    "Notice the output above. Puppy Snacks with a stock level of 40 has been added to your dictionary! The stock level value of Cheesy Chompers has also been updated to 20! Great work.\n",
    "\n",
    "Unfortunately, you hear that \"Peanut Butter Biscuits\" has been discontinued at The Furry Foodie.\n",
    "\n",
    "You need to remove this item from your `inventory_dict` dictionary to keep the records up-to-date.\n",
    "\n",
    "In the cell below: \n",
    "\n",
    "* Use the `del` keyword to remove the \"Peanut Butter Biscuits\" entry from the `inventory_dict` dictionary. Add `del` to the front of the `inventory_dict` variable and fill in \"Peanut Butter Biscuits\".\n",
    "\n",
    "Then, run the cell to print the updated `inventory_dict` and see the changes."
   ]
  },
  {
   "cell_type": "code",
   "execution_count": 7,
   "id": "45d4029f",
   "metadata": {},
   "outputs": [
    {
     "name": "stdout",
     "output_type": "stream",
     "text": [
      "\n",
      "Updated Inventory after Discontinuation:\n",
      "{'Salmon Snacks': 25, 'Cheesy Chompers': 20, 'Feathery Fun Sticks': 34, 'Squeaky Sausages': 16, 'Tuna Tidbits': 13, 'Crunchy Carrots': 17, 'Beef Jerky': 16, 'Chicken Chunks': 46, 'Duck Delights': 23, 'Lamb Lovin': 22, 'Turkey Tidbits': 25, 'Fish Fingers': 13, 'Dental Chews': 45, 'Hip & Joint Treats': 33, 'Skin & Coat Formula': 33, 'Calming Chews': 48, 'Training Treats': 11, 'Catnip Mice': 23, 'Feather Wand': 40, 'Laser Pointer': 21, 'Scratching Post': 14, 'Cat Tree': 45, 'Litter Box': 48, 'Litter Scoop': 18, 'Cat Food (dry)': 15, 'Cat Food (wet)': 24, 'Dog Food (dry)': 28, 'Dog Food (wet)': 15, 'Dog Leash': 23, 'Dog Collar': 23, 'Dog Harness': 40, 'Dog Bed': 30, 'Dog Toys': 41, 'Cat Toys': 40, 'Pet Shampoo': 35, 'Pet Conditioner': 27, 'Pet Toothbrush': 38, 'Pet Toothpaste': 24, 'Pet Nail Clippers': 30, 'Pet Carrier': 30, 'Pet Bowls': 27, 'Pet Water Fountain': 12, 'Pet First Aid Kit': 40, 'Pet Grooming Brush': 48, 'Pet Waste Bags': 45, 'Pet Training Clicker': 47, 'Pet Travel Bowl': 17, 'Pet Cooling Mat': 34, 'Pet Heating Pad': 11, 'Puppy Snacks': 40}\n"
     ]
    }
   ],
   "source": [
    "# We've discontinued \"Peanut Butter Biscuits\". Remove it from the inventory\n",
    "\n",
    "# Remove item \n",
    "del inventory_dict[\"Peanut Butter Biscuits\"] \n",
    "\n",
    "print(\"\\nUpdated Inventory after Discontinuation:\")\n",
    "print(inventory_dict)"
   ]
  },
  {
   "cell_type": "markdown",
   "id": "3f2547a3",
   "metadata": {},
   "source": [
    "Great work! Now, run the cell below, which will generate a nicely formatted inventory report.\n",
    "\n",
    "Here's a breakdown of the final cell:\n",
    "\n",
    "* Print a header: It will start by printing a clear header \"Inventory Report:\" to visually separate the report from other output.\n",
    "\n",
    "* Iterate through the inventory: It uses a `for` loop to go through each item in the `inventory_dict` dictionary.  \n",
    "\n",
    "* Extract product and stock information: For each iteration of the loop, the `items()` method of the dictionary is used to get both the `product` (key) and its corresponding `stock` level (value).\n",
    "\n",
    "* Print formatted output: Using an f-string, it creates a nicely formatted line of text for each product, displaying its name and current stock level. This creates a clear and organized inventory report.\n",
    "\n",
    "Run the code and see the report!\n"
   ]
  },
  {
   "cell_type": "code",
   "execution_count": 8,
   "id": "72bcac80",
   "metadata": {},
   "outputs": [
    {
     "name": "stdout",
     "output_type": "stream",
     "text": [
      "\n",
      "Inventory Report:\n",
      "Product: Salmon Snacks, Stock: 25\n",
      "Product: Cheesy Chompers, Stock: 20\n",
      "Product: Feathery Fun Sticks, Stock: 34\n",
      "Product: Squeaky Sausages, Stock: 16\n",
      "Product: Tuna Tidbits, Stock: 13\n",
      "Product: Crunchy Carrots, Stock: 17\n",
      "Product: Beef Jerky, Stock: 16\n",
      "Product: Chicken Chunks, Stock: 46\n",
      "Product: Duck Delights, Stock: 23\n",
      "Product: Lamb Lovin, Stock: 22\n",
      "Product: Turkey Tidbits, Stock: 25\n",
      "Product: Fish Fingers, Stock: 13\n",
      "Product: Dental Chews, Stock: 45\n",
      "Product: Hip & Joint Treats, Stock: 33\n",
      "Product: Skin & Coat Formula, Stock: 33\n",
      "Product: Calming Chews, Stock: 48\n",
      "Product: Training Treats, Stock: 11\n",
      "Product: Catnip Mice, Stock: 23\n",
      "Product: Feather Wand, Stock: 40\n",
      "Product: Laser Pointer, Stock: 21\n",
      "Product: Scratching Post, Stock: 14\n",
      "Product: Cat Tree, Stock: 45\n",
      "Product: Litter Box, Stock: 48\n",
      "Product: Litter Scoop, Stock: 18\n",
      "Product: Cat Food (dry), Stock: 15\n",
      "Product: Cat Food (wet), Stock: 24\n",
      "Product: Dog Food (dry), Stock: 28\n",
      "Product: Dog Food (wet), Stock: 15\n",
      "Product: Dog Leash, Stock: 23\n",
      "Product: Dog Collar, Stock: 23\n",
      "Product: Dog Harness, Stock: 40\n",
      "Product: Dog Bed, Stock: 30\n",
      "Product: Dog Toys, Stock: 41\n",
      "Product: Cat Toys, Stock: 40\n",
      "Product: Pet Shampoo, Stock: 35\n",
      "Product: Pet Conditioner, Stock: 27\n",
      "Product: Pet Toothbrush, Stock: 38\n",
      "Product: Pet Toothpaste, Stock: 24\n",
      "Product: Pet Nail Clippers, Stock: 30\n",
      "Product: Pet Carrier, Stock: 30\n",
      "Product: Pet Bowls, Stock: 27\n",
      "Product: Pet Water Fountain, Stock: 12\n",
      "Product: Pet First Aid Kit, Stock: 40\n",
      "Product: Pet Grooming Brush, Stock: 48\n",
      "Product: Pet Waste Bags, Stock: 45\n",
      "Product: Pet Training Clicker, Stock: 47\n",
      "Product: Pet Travel Bowl, Stock: 17\n",
      "Product: Pet Cooling Mat, Stock: 34\n",
      "Product: Pet Heating Pad, Stock: 11\n",
      "Product: Puppy Snacks, Stock: 40\n"
     ]
    }
   ],
   "source": [
    "# It's time to generate a nicely formatted inventory report!\n",
    "\n",
    "print(\"\\nInventory Report:\")\n",
    "for product, stock in inventory_dict.items(): \n",
    "    print(f\"Product: {product}, Stock: {stock}\") \n"
   ]
  },
  {
   "cell_type": "markdown",
   "id": "0cdcb372",
   "metadata": {},
   "source": [
    "## Project Recap: Managing Inventory at The Furry Foodie with Python\n",
    "\n",
    "Congratulations on completing the Furry Foodie inventory management project! You've successfully applied your Python skills to keep our shelves stocked and our furry customers happy. Let's recap what you've learned:\n",
    "\n",
    "* **Lists:** You've mastered how to use lists to represent and manage inventory. You've added new items, removed out-of-stock products, and kept everything organized, ensuring we never run out of the treats our pets love.\n",
    "\n",
    "* **Tuples:** You've learned how to leverage the immutability of tuples to store crucial product identifiers, guaranteeing data integrity and preventing accidental modifications.\n",
    "\n",
    "* **Dictionaries:** You've harnessed the power of dictionaries to create a flexible and efficient inventory database. You've added new products, updated stock levels, checked for item availability, and even removed discontinued items from the inventory.\n",
    "\n",
    "* **Iterating over Dictionaries:** You've used loops to traverse dictionaries, extracting key-value pairs to generate clear and informative inventory reports, keeping both management and customers well-informed.\n",
    "\n",
    "* **Working with External Data:** You've learned how to load and process data from a CSV file using the pandas library, enabling you to interact with real-world datasets.\n"
   ]
  },
  {
   "cell_type": "markdown",
   "id": "a3284a31",
   "metadata": {},
   "source": [
    "## ACTIVIDAD: Encontrar lo que necesitas: TRADUCCIÓN EN APUNTES"
   ]
  },
  {
   "cell_type": "markdown",
   "id": "95cb2744",
   "metadata": {},
   "source": [
    "## Scenario: Taming the Book Stacks: Sorting and Searching in Python\n",
    "\n",
    "Imagine you're looking for a specific book in a large library.  The endless rows of shelves can be overwhelming, and finding that one title can feel like searching for a needle in a haystack.\n",
    "\n",
    "In this Jupyter Notebook, you'll learn how to use Python to make searching a digital library much easier and more efficient. You'll explore sorting algorithms, which organize book data in a logical way, just like arranging books on a shelf. Then, you'll dive into search algorithms - these are like having your own digital librarian to help you quickly find the exact book you're looking for.\n",
    "\n",
    "\n",
    "### Why Sorting and Searching Algorithms Matter:\n",
    "\n",
    "* **Efficient Navigation:** Sorting algorithms arrange book data in a logical order, making it easier for users (or librarians!) to browse and find what they need. Think of it like arranging books alphabetically on a shelf – it saves everyone time and frustration.\n",
    "\n",
    "* **Rapid Retrieval :** Search algorithms enable quick and precise book lookup. Whether you're searching by title, author, or other criteria, these algorithms act like a librarian's expert knowledge, pinpointing the desired book efficiently.\n",
    "\n",
    "\n",
    "* **Scalability :** As libraries grow (and digital collections can grow very large), sorting and searching algorithms become even more crucial. They ensure that the library system remains responsive and user-friendly, even with thousands or millions of books.\n",
    "\n",
    "* **Flexibility :** These algorithms aren't just for libraries. They are fundamental tools for organizing and accessing data in countless applications, from online stores to search engines. Understanding them equips you with valuable skills for working with data in any field.\n",
    "\n",
    "\n",
    "## Activity Summary:\n",
    "\n",
    "In this activity, you will:\n",
    "\n",
    "* **Sort Book Data:** Learn how to sort a list of book dictionaries, creating a well-organized digital catalog.\n",
    "* **Implement Linear Search:** Discover how to systematically search through your book collection, examining each item one by one.\n",
    "* **Implement Binary Search:** Explore a more efficient search method that leverages sorted data to quickly find specific books.\n",
    "* **Compare and Contrast:** Understand the tradeoffs between different search algorithms, empowering you to choose the best approach for various scenarios.\n"
   ]
  },
  {
   "cell_type": "markdown",
   "id": "9402beea",
   "metadata": {},
   "source": [
    "Begin by running the cell below, which imports the pandas library and loads the csv file named 'book_catalog_10.csv'."
   ]
  },
  {
   "cell_type": "code",
   "execution_count": 1,
   "id": "016dc2a9",
   "metadata": {},
   "outputs": [],
   "source": [
    "# Import a powerful tool called \"pandas\" that you'll use to work with and organize data easily\n",
    "import pandas as pd\n",
    "\n",
    "# Load the book catalog from the CSV file\n",
    "book_catalog_df = pd.read_csv('book_catalog_10.csv')"
   ]
  },
  {
   "cell_type": "markdown",
   "id": "7618772b",
   "metadata": {},
   "source": [
    "Notice that nothing has been output from the cell after you ran it. That's because we didn't print any of the results of the csv, we only loaded it in the cell above as a **DataFrame**.\n",
    "\n",
    "Think of a DataFrame like a super-organized table. It has rows and columns, just like a spreadsheet you might have used before. This structure makes it really easy to view, manage, and analyze our book data.  \n",
    "\n",
    "Run the cell below, which converts the DataFrame `book_catalog_df` above into a **dictionary** and then prints the results. \n",
    "\n",
    "Imagine a dictionary as a collection of labeled boxes. Each box has a label (called a \"key\") and something stored inside (called a \"value\").  In our case, each \"box\" represents a book, and the labels are things like \"title\", \"author\", and \"publication_year\".\n",
    "\n",
    "You're doing this conversion because it will make it easier to work with the book data."
   ]
  },
  {
   "cell_type": "code",
   "execution_count": 2,
   "id": "e4ce3542",
   "metadata": {},
   "outputs": [
    {
     "name": "stdout",
     "output_type": "stream",
     "text": [
      "[{'title': '1984', 'author': 'George Orwell', 'publication_year': 1949}, {'title': 'Pride and Prejudice', 'author': 'Jane Austen', 'publication_year': 1813}, {'title': 'The Catcher in the Rye', 'author': 'J.D. Salinger', 'publication_year': 1951}, {'title': 'The Great Gatsby', 'author': 'F. Scott Fitzgerald', 'publication_year': 1925}, {'title': 'To Kill a Mockingbird', 'author': 'Harper Lee', 'publication_year': 1960}, {'title': 'The Lord of the Rings', 'author': 'J.R.R. Tolkien', 'publication_year': 1954}, {'title': \"Harry Potter and the Philosopher's Stone\", 'author': 'J.K. Rowling', 'publication_year': 1997}, {'title': \"The Hitchhiker's Guide to the Galaxy\", 'author': 'Douglas Adams', 'publication_year': 1979}, {'title': 'The Da Vinci Code', 'author': 'Dan Brown', 'publication_year': 2003}, {'title': 'The Hunger Games', 'author': 'Suzanne Collins', 'publication_year': 2008}]\n"
     ]
    }
   ],
   "source": [
    "# Convert the DataFrame to a list of dictionaries\n",
    "book_catalog = book_catalog_df.to_dict(orient='records')\n",
    "\n",
    "# Print the list of dictionaries\n",
    "print(book_catalog)"
   ]
  },
  {
   "cell_type": "markdown",
   "id": "99ee8c17",
   "metadata": {},
   "source": [
    "Great! Now that you've printed the `book_catalog`, you can see that it is organized as a list of dictionaries.  \n",
    "\n",
    "Remember, each dictionary is like a labeled box holding information about one book. Inside each \"box,\" you'll find pairs of labels (called \"keys\") and the information associated with them (called \"values\"). \n",
    "\n",
    "For example, the key \"title\" is paired with the value \"1984\", telling us the name of the book.  \n",
    "\n",
    "Take a quick glance at the output above see if you can spot any familiar titles or authors within those curly brackets."
   ]
  },
  {
   "cell_type": "markdown",
   "id": "261204c2",
   "metadata": {},
   "source": [
    "Although you have the `book catalog` printed out, it is a bit jumbled, isn't it?  Imagine trying to find a specific book in a messy library – it would take forever!\n",
    "\n",
    "That's why you need to sort the `book catalog`.  Just like arranging books alphabetically on a shelf, sorting makes it much easier to browse and find what we're looking for. \n",
    "\n",
    "The code in the cell below does exactly that! Before you run it, let's break it down:\n",
    "\n",
    "* **Helper Functions:**  In programming, a helper function is simply a function that assists another function in completing its task.  Think of these like little librarian assistants.  They perform specific tasks to make the main job (sorting the catalog) easier.\n",
    "    * `get_title(book)`:  This helper simply plucks the title out of a book's dictionary, so we can focus on just that when sorting. \n",
    "    * `sort_catalog_by_title(catalog)`: This is the main librarian in charge of sorting.  It uses a special Python trick (`catalog.sort()`) to arrange all the books in alphabetical order by their titles. \n",
    "\n",
    "* **Putting It All Together:**\n",
    "    * We call the `sort_catalog_by_title` function to do the actual sorting. \n",
    "    * Finally, we print out the nicely organized catalog so you can see the results! \n",
    "\n",
    "**Ready to see it in action? Run the cell below!** "
   ]
  },
  {
   "cell_type": "code",
   "execution_count": 3,
   "id": "7c8d4393",
   "metadata": {},
   "outputs": [
    {
     "name": "stdout",
     "output_type": "stream",
     "text": [
      "Title: 1984, Author: George Orwell, Publication Year: 1949\n",
      "Title: Harry Potter and the Philosopher's Stone, Author: J.K. Rowling, Publication Year: 1997\n",
      "Title: Pride and Prejudice, Author: Jane Austen, Publication Year: 1813\n",
      "Title: The Catcher in the Rye, Author: J.D. Salinger, Publication Year: 1951\n",
      "Title: The Da Vinci Code, Author: Dan Brown, Publication Year: 2003\n",
      "Title: The Great Gatsby, Author: F. Scott Fitzgerald, Publication Year: 1925\n",
      "Title: The Hitchhiker's Guide to the Galaxy, Author: Douglas Adams, Publication Year: 1979\n",
      "Title: The Hunger Games, Author: Suzanne Collins, Publication Year: 2008\n",
      "Title: The Lord of the Rings, Author: J.R.R. Tolkien, Publication Year: 1954\n",
      "Title: To Kill a Mockingbird, Author: Harper Lee, Publication Year: 1960\n"
     ]
    }
   ],
   "source": [
    "# Helper function 1: \n",
    "def get_title(book): \n",
    "  \"\"\"Helper function to extract the title from a book dictionary.\"\"\"\n",
    "  return book['title']\n",
    "\n",
    "# Helper function 2: \n",
    "def sort_catalog_by_title(catalog): \n",
    "  \"\"\"Sorts the book catalog alphabetically by title.\"\"\"\n",
    "  catalog.sort(key=get_title)\n",
    "    \n",
    "# Sort the catalog\n",
    "sort_catalog_by_title(book_catalog)\n",
    "\n",
    "# Display the sorted catalog\n",
    "for book in book_catalog:\n",
    "  print(f\"Title: {book['title']}, Author: {book['author']}, Publication Year: {book['publication_year']}\")"
   ]
  },
  {
   "cell_type": "markdown",
   "id": "8ba15eea",
   "metadata": {},
   "source": [
    "Look at that! Your book catalog is now sorted alphabetically by title. \n",
    "\n",
    "It's much easier to find a specific book now, isn't it? This is the power of sorting algorithms – bringing order to data so we can navigate it more efficiently. \n",
    "\n",
    "But what if you want to find a book without scanning the entire list? That's where search algorithms come in handy.  They help you pinpoint specific items within a dataset, just like a librarian helps you find a book on the shelf. "
   ]
  },
  {
   "cell_type": "markdown",
   "id": "202f67f7",
   "metadata": {},
   "source": [
    "In the next cell, you'll explore one such algorithm called **linear search**.  It's like systematically checking each book on a shelf until we find the one we're looking for. But how does checking each book on a shelf one by one translate into Python code?\n",
    "\n",
    "Let's breakdown the code in the following cell before running it: \n",
    "\n",
    "The `search_books` function below does the following:\n",
    "\n",
    "1. **Takes Input:** It needs two things to work:\n",
    "    * The `catalog`:  This is our sorted list of book dictionaries.\n",
    "    * The `query`:  This is what we're searching for – it could be a book title or an author's name. \n",
    "\n",
    "\n",
    "2. **Sets up a List for Results:** It creates an empty list called `results` to store any books that match our search. \n",
    "\n",
    "3. **Checks Each Book:**  It goes through each `book` in the `catalog`:\n",
    "    * It converts both the `query` and the book's `title` and `author` to lowercase. This makes the search case-insensitive (so \"the great gatsby\" and \"The Great Gatsby\" are considered the same). \n",
    "    * It checks if the `query` is found within the book's `title` OR the book's `author`.\n",
    "    * If there's a match, it adds that `book` to the `results` list. \n",
    "\n",
    "\n",
    "4. **Returns the Results:**  Finally, it gives us back the `results` list, which contains all the books that matched our search (or an empty list if nothing was found).\n",
    "\n",
    "**In simpler terms, it's like going through each book on the shelf, checking if it's the one we want, and putting it aside if it is.**\n",
    "\n",
    "**Ready to see it in action? Run the cell below!** "
   ]
  },
  {
   "cell_type": "code",
   "execution_count": null,
   "id": "3c78bce9",
   "metadata": {},
   "outputs": [],
   "source": [
    "# Helper function: Linear Search\n",
    "def search_books(catalog, query):\n",
    "  \"\"\"Searches for books by title or author using linear search.\"\"\"\n",
    "  results = []\n",
    "  for book in catalog:\n",
    "    if query.lower() in book['title'].lower() or query.lower() in book['author'].lower(): # lo que te busca por título o por autor\n",
    "      results.append(book)\n",
    "  return results"
   ]
  },
  {
   "cell_type": "markdown",
   "id": "2321998e",
   "metadata": {},
   "source": [
    "Now that we have our `search_books` function ready, let's put it to the test!\n",
    "\n",
    "In the code cell below:\n",
    "\n",
    "1. **Fill in the Query:**  Replace the empty quotes (`\"\"`) in the `query` variable with the title **\"The Great Gatsby\"**.  This is the book we'll try to find in our catalog.\n",
    "\n",
    "2. **Run the Code:**  Execute the cell to see if our linear search can locate the book. \n",
    "\n",
    "If everything works correctly, you should see the details of \"The Great Gatsby\" printed out! "
   ]
  },
  {
   "cell_type": "code",
   "execution_count": 5,
   "id": "2c57f6d1",
   "metadata": {},
   "outputs": [
    {
     "name": "stdout",
     "output_type": "stream",
     "text": [
      "\n",
      "Search results:\n",
      "Title: The Great Gatsby, Author: F. Scott Fitzgerald, Publication Year: 1925\n"
     ]
    }
   ],
   "source": [
    "# Search for \"The Great Gatsby\" \n",
    "query = \"The Great Gatsby\" \n",
    "search_results = search_books(book_catalog, query)\n",
    "\n",
    "if search_results:\n",
    "  print(\"\\nSearch results:\")\n",
    "  for book in search_results:\n",
    "    print(f\"Title: {book['title']}, Author: {book['author']}, Publication Year: {book['publication_year']}\")\n",
    "else:\n",
    "  print(\"No books found matching your query.\")"
   ]
  },
  {
   "cell_type": "markdown",
   "id": "f5a06f8e",
   "metadata": {},
   "source": [
    "Great! Now try searching for \"Dune\" in the query. Replace the empty quotes (`\"\"`) in the `query` variable with the title **\"Dune\"** and run the cell.\n",
    "\n",
    "Notice the output."
   ]
  },
  {
   "cell_type": "code",
   "execution_count": 6,
   "id": "0ff3213b",
   "metadata": {},
   "outputs": [
    {
     "name": "stdout",
     "output_type": "stream",
     "text": [
      "No books found matching your query.\n"
     ]
    }
   ],
   "source": [
    "# Search for \"Dune\" \n",
    "query = \"Dune\" \n",
    "search_results = search_books(book_catalog, query)\n",
    "\n",
    "if search_results:\n",
    "  print(\"\\nSearch results:\")\n",
    "  for book in search_results:\n",
    "    print(f\"Title: {book['title']}, Author: {book['author']}, Publication Year: {book['publication_year']}\")\n",
    "else:\n",
    "  print(\"No books found matching your query.\")"
   ]
  },
  {
   "cell_type": "markdown",
   "id": "1d0ac1d2",
   "metadata": {},
   "source": [
    "Your `search_books` function is working well, but it is also versatile!  It can search for books by *either* title *or* author. \n",
    "\n",
    "Try searching for an author instead of a book.\n",
    "\n",
    "1. **Change the Query:** In the code cell below, replace the existing query with `\"J.K. Rowling\"`. \n",
    "\n",
    "2. **Run the Code:** Execute the cell and observe the results.\n",
    "\n",
    "**Think about it:** Even though we searched for an author's name, not a book title, we still got a result! Why do you think that is? Take a moment to review the `search_books` function code if you need a hint."
   ]
  },
  {
   "cell_type": "code",
   "execution_count": 7,
   "id": "4b47f2e2",
   "metadata": {},
   "outputs": [
    {
     "name": "stdout",
     "output_type": "stream",
     "text": [
      "\n",
      "Search results:\n",
      "Title: Harry Potter and the Philosopher's Stone, Author: J.K. Rowling, Publication Year: 1997\n"
     ]
    }
   ],
   "source": [
    "# Search for author\n",
    "query = \"J.K. Rowling\" \n",
    "search_results = search_books(book_catalog, query)\n",
    "\n",
    "if search_results:\n",
    "  print(\"\\nSearch results:\")\n",
    "  for book in search_results:\n",
    "    print(f\"Title: {book['title']}, Author: {book['author']}, Publication Year: {book['publication_year']}\")\n",
    "else:\n",
    "  print(\"No books found matching your query.\")"
   ]
  },
  {
   "cell_type": "markdown",
   "id": "d8e1bf30",
   "metadata": {},
   "source": [
    "You linear search algorithm is working well, but it can be a bit slow if you have a *huge* library.  Imagine searching for a book in a massive bookstore by checking every single title one by one – that would take ages! \n",
    "\n",
    "Luckily, there's a faster way when our catalog is sorted: **binary search**. It's like playing a guessing game where you keep halving the possibilities until you find what you're looking for. But how does this translate into Python code?\n",
    "\n",
    "Let's breakdown the code in the following cell before running it: \n",
    "\n",
    "Here is what the `binary_search_books` function does:\n",
    "\n",
    "1. **Takes Input:**  Just like linear search, it needs the `catalog` and the `query` (the book title we're searching for).\n",
    "\n",
    "2. **Sets Up Boundaries:**  It starts by marking the beginning (`low`) and the end (`high`) of the catalog.\n",
    "\n",
    "3. **The Guessing Game:**\n",
    "   * It calculates the middle point (`mid`) between `low` and `high`.\n",
    "   * It checks if the book at the `mid` point is the one we're looking for.\n",
    "   * If not, it compares the book's title at the `mid` point to our `query`:\n",
    "     * If the `mid` point title is \"less than\" our `query`, we know the book we want must be in the *higher* half of the catalog, so we adjust `low` to `mid + 1`.\n",
    "     * If the `mid` point title is \"greater than\" our `query`, we know the book we want must be in the *lower* half, so we adjust `high` to `mid - 1`.\n",
    "   * It keeps repeating this process, narrowing down the search area by half each time, until it finds the book or determines it's not there.\n",
    "\n",
    "\n",
    "4. **Returns the Result:**  If it finds the book, it returns the entire book dictionary. Otherwise, it returns `None` to indicate the book wasn't found.\n",
    "\n",
    "**Think of it like this:** You're looking for a word in a dictionary. Instead of starting from the beginning, you open it somewhere in the middle. If the word you want comes *after* the words on that page, you flip to the second half of the dictionary. If it comes *before*, you flip to the first half. You keep doing this until you find the exact page!\n",
    "\n",
    "**Ready to see it in action? Run the cell below!** "
   ]
  },
  {
   "cell_type": "code",
   "execution_count": 8,
   "id": "70d51958",
   "metadata": {},
   "outputs": [],
   "source": [
    "def binary_search_books(catalog, query):\n",
    "  \"\"\"Searches for books by title using binary search (assuming sorted catalog).\"\"\"\n",
    "  low = 0\n",
    "  high = len(catalog) - 1\n",
    "\n",
    "  while low <= high:\n",
    "    mid = (low + high) // 2\n",
    "    if catalog[mid]['title'].lower() == query.lower():\n",
    "      return catalog[mid]\n",
    "    elif catalog[mid]['title'].lower() < query.lower():\n",
    "      low = mid + 1\n",
    "    else:\n",
    "      high = mid - 1\n",
    "\n",
    "  return None  # Book not found"
   ]
  },
  {
   "cell_type": "markdown",
   "id": "805be2f2",
   "metadata": {},
   "source": [
    "In the cells above, you used linear search to find \"The Great Gatsby\", but can you find it even *faster*? \n",
    "\n",
    "Remember, binary search is super speedy when our data is sorted. It works by repeatedly dividing the search area in half, like a high-tech guessing game.\n",
    "\n",
    "The problem is that your `book_catalog_10.csv` dataset is much too small for you to observe the difference between these two search algorithms. In the code cells below, you will find that a much larger `big_book_catalog.csv` dataset has been loaded for you. \n",
    "\n",
    "It has around 271,380 rows!\n",
    "\n",
    "1. **Run the Following Two Cells:** The cells below each already have the query set to `\"The Great Gatsby\"`. Each cell also has uses the `time` module to measure the execution time of the `search_books` and `binary_search_books` functions by recording timestamps before and after the search and then calculating the difference. Note that the exact times will vary based on your system's power, but expect an extremely quick search in the binary search compared to the binary. Also note, Jupyter Notebooks may \"cache\" search results, so running the same query twice may end up with times that appear to be zero. You can have Jupyter \"Restart the kernel\" to get fresh results.\n",
    "\n",
    "2. **Observe the Output of Each Cell:** Why was the binary search faster than linear search?\n",
    "\n",
    "**Think about it:**  \n",
    "\n",
    "* How much faster do you think binary search would be if our catalog had 1,000,000 books?"
   ]
  },
  {
   "cell_type": "code",
   "execution_count": 10,
   "id": "0ca612ee",
   "metadata": {},
   "outputs": [
    {
     "name": "stdout",
     "output_type": "stream",
     "text": [
      "\n",
      "Linear search took 0.16016 seconds.\n",
      "\n",
      "Search results:\n",
      "Title: The Great Gatsby, Author: F. Scott Fitzgerald, Publication Year: 1999\n",
      "Title: The GREAT GATSBY (Scribner Classic), Author: F. Scott Fitzgerald, Publication Year: 1979\n",
      "Title: The GREAT GATSBY (Scribner Classic), Author: F. Scott Fritzgerald, Publication Year: 1920\n",
      "Title: The Great Gatsby, Author: F. Scott Fitzgerald, Publication Year: 1995\n",
      "Title: The GREAT GATSBY (A Scribner Classic), Author: F. Scott Fitzgerald, Publication Year: 1992\n",
      "Title: Notes on The Great Gatsby: Notes (York Notes), Author: Tang Soo Ping, Publication Year: 1980\n",
      "Title: The Great Gatsby (World's Classics), Author: F. Scott Fitzgerald, Publication Year: 1998\n",
      "Title: Der Grobe Gatsby/the Great Gatsby, Author: F. Scott Fitzgerald, Publication Year: 1994\n",
      "Title: The Great Gatsby (Everyman S.), Author: F.Scott Fitzgerald, Publication Year: 1993\n",
      "Title: F. Scott Fitzgerald's the Great Gatsby, Author: F. Scott Fitzgerald, Publication Year: 1976\n",
      "Title: The Great Gatsby (Scribner Classics), Author: F. Scott Fitzgerald, Publication Year: 1996\n",
      "Title: The Great Gatsby -- Penguin Critical Studies Guide, Author: F. Scott Fitzgerald, Publication Year: 1999\n",
      "Title: The Great Gatsby: The Limits of Wonder (Twayne's Masterwork Studies, No 36), Author: Richard Lehan, Publication Year: 1989\n",
      "Title: Fitzgerald's The Great Gatsby (Cliffs Notes), Author: P. Northman, Publication Year: 1976\n",
      "Title: F. Scott Fitzgerald's The Great Gatsby: A Literary Reference, Author: Matthew Bruccoli, Publication Year: 2002\n",
      "Title: The GREAT GATSBY (Great Gatsby Hre), Author: F. Scott Fitzgerald, Publication Year: 1981\n",
      "Title: Fitzgerald's The Great Gatsby (Cliffs Notes), Author: Cliffs Notes, Publication Year: 2000\n",
      "Title: The Great Gatsby (Audio Editions), Author: F. Scott Fitzgerald, Publication Year: 2002\n",
      "Title: The GREAT GATSBY (A Scribner Classic), Author: F. Scott Fitzgerald, Publication Year: 1920\n",
      "Title: The Great Gatsby CD, Author: F Scott Fitzgerald, Publication Year: 2002\n"
     ]
    }
   ],
   "source": [
    "# This is like using a stopwatch to see how long it takes to find the books. \n",
    "# We start the timer, do the search, then stop the timer and calculate how much time passed.\n",
    "import time\n",
    "\n",
    "# Loads the big_book_catalog which has which has ~271,380 rows!\n",
    "big_book_catalog_df = pd.read_csv('big_book_catalog.csv', low_memory=False)\n",
    "\n",
    "# Convert 'title' and 'author' to strings, handle NaN\n",
    "big_book_catalog_df['title'] = big_book_catalog_df['title'].fillna('').astype(str)\n",
    "big_book_catalog_df['author'] = big_book_catalog_df['author'].fillna('').astype(str)\n",
    "\n",
    "sorted_df = big_book_catalog_df.sort_values(by=['title'])\n",
    "big_book_catalog = big_book_catalog_df.to_dict(orient='records')\n",
    "\n",
    "# Search for \"The Great Gatsby\" using Linear Search\n",
    "query = \"The Great Gatsby\"  # Example query\n",
    "\n",
    "start_time = time.time()  # Record start time\n",
    "\n",
    "search_results = search_books(big_book_catalog, query)\n",
    "\n",
    "end_time = time.time()    # Record end time\n",
    "\n",
    "elapsed_time_linear = end_time - start_time\n",
    "print(f\"\\nLinear search took {elapsed_time_linear:.5f} seconds.\") \n",
    "\n",
    "if search_results:\n",
    "  print(\"\\nSearch results:\")\n",
    "  for book in search_results:\n",
    "    print(f\"Title: {book['title']}, Author: {book['author']}, Publication Year: {book['publication_year']}\")\n",
    "else:\n",
    "  print(\"No books found matching your query.\")"
   ]
  },
  {
   "cell_type": "code",
   "execution_count": null,
   "id": "60174cdd",
   "metadata": {},
   "outputs": [
    {
     "name": "stdout",
     "output_type": "stream",
     "text": [
      "\n",
      "Binary search took 0.00196 seconds.\n",
      "\n",
      "Binary Search Result for 'The Great Gatsby':\n",
      "Title: The Great Gatsby, Author: F. Scott Fitzgerald, Publication Year: 1995\n"
     ]
    }
   ],
   "source": [
    "# This is like using a stopwatch to see how long it takes to find the books. # MUCHO MEJOR LA BÚSQUEDA BINARIA EN TIEMPO DE EJECUCIÓN PORQUE TENEMOS UN CONJUNTO GRANDE DE DATOS\n",
    "# We start the timer, do the search, then stop the timer and calculate how much time passed.\n",
    "import time\n",
    "\n",
    "# Loads the big_book_catalog which has which has ~271,380 rows!\n",
    "big_book_catalog_df = pd.read_csv('big_book_catalog.csv', low_memory=False)\n",
    "\n",
    "# Convert 'title' and 'author' to strings, handle NaN\n",
    "big_book_catalog_df['title'] = big_book_catalog_df['title'].fillna('').astype(str)\n",
    "big_book_catalog_df['author'] = big_book_catalog_df['author'].fillna('').astype(str)\n",
    "\n",
    "sorted_df = big_book_catalog_df.sort_values(by=['title'])\n",
    "big_book_catalog = sorted_df.to_dict(orient='records')\n",
    "\n",
    "# Search for \"The Great Gatsby\" using Binary Search\n",
    "query = \"The Great Gatsby\"  # Example query\n",
    "\n",
    "start_time = time.time()\n",
    "\n",
    "search_results = binary_search_books(big_book_catalog, query)\n",
    "\n",
    "elapsed_time_binary = time.time() - start_time\n",
    "\n",
    "print(f\"\\nBinary search took {elapsed_time_binary:.5f} seconds.\")\n",
    "\n",
    "if search_results:\n",
    "  print(\"\\nBinary Search Result for 'The Great Gatsby':\")\n",
    "  print(f\"Title: {search_results['title']}, Author: {search_results['author']}, Publication Year: {search_results['publication_year']}\")\n",
    "else:\n",
    "  print(\"Binary Search: Book not found\")"
   ]
  },
  {
   "cell_type": "markdown",
   "id": "d7f9dd52",
   "metadata": {},
   "source": [
    "### Observing the Search Process\n",
    "\n",
    "While the output for both searches might look the same, the way they got there was quite different! \n",
    "\n",
    "* **Linear Search:**  Think back to how linear search works – it checks each book one by one until it reaches the end of the catalog. Since \"Dune\" isn't there, it had to go through the entire list before giving up. \n",
    "\n",
    "* **Binary Search:**  Binary search, on the other hand, is more strategic. It keeps dividing the catalog in half, eliminating large chunks with each step.  Even though our catalog is small, you might have noticed it didn't have to check every single book to know \"Dune\" wasn't there. \n",
    "\n",
    "**Key Takeaway:** Even with a small dataset, you can start to see the inherent difference in how these algorithms operate.  Imagine how much more pronounced this difference would be with a catalog containing thousands of books!"
   ]
  },
  {
   "cell_type": "markdown",
   "id": "8d3ea3ad",
   "metadata": {},
   "source": [
    "While the output for both searches might look the same, the way they got there was quite different! \n",
    "\n",
    "* **Linear Search:**  Think back to how linear search works – it checks each book one by one until it reaches the end of the catalog or finds the target book. If the target book isn't present, it has to go through the entire list before giving up. \n",
    "\n",
    "* **Binary Search:**  Binary search, on the other hand, is more strategic. It requires the catalog to be sorted. It keeps dividing the catalog in half, eliminating large chunks with each step.  Even with a large catalog, it only needs to check a small fraction of the books to determine if the target book is present or not. \n",
    "\n",
    "**Key Takeaway:** With the significantly larger dataset (`big_book_catalog.csv`), you should observe a much more pronounced difference in search times. The linear search, having to potentially check every single book, will likely take a noticeable amount of time. In contrast, the binary search, with its divide-and-conquer strategy, should be considerably faster. This efficiency gain becomes even more crucial as the size of the catalog grows.\n",
    "\n",
    "**Think about it:**  \n",
    "\n",
    "* If the catalog had 1,000,000 books, the linear search could potentially take 10 times longer than it did with the current dataset. However, the binary search's time would only increase slightly due to its logarithmic time complexity. It's safe to say that binary search would be dramatically faster in such a scenario, highlighting its superiority for large datasets."
   ]
  },
  {
   "cell_type": "code",
   "execution_count": null,
   "id": "22630794",
   "metadata": {},
   "outputs": [],
   "source": [
    "# Ejemplo 1: Algoritmo de ordenación simple\n",
    "# Este método encuentra la carta más baja y la aparta repetidamente. Es fácil de entender, pero lento para listas grandes.\n",
    "\n",
    "def simple_sort(cards):\n",
    "    sorted_cards = []\n",
    "    while cards:\n",
    "        lowest_card = min(cards)  \n",
    "        sorted_cards.append(lowest_card)\n",
    "        cards.remove(lowest_card)\n",
    "    return sorted_cards"
   ]
  },
  {
   "cell_type": "code",
   "execution_count": 13,
   "id": "b3a26b0c",
   "metadata": {},
   "outputs": [],
   "source": [
    "# Ejemplo 2: Quicksort (ordenación rápida)\n",
    "# Mucho más eficiente para listas grandes. Utiliza un pivote y divide los elementos en menores y mayores, aplicando recursión.\n",
    "\n",
    "def quicksort(cards):\n",
    "    if len(cards) < 2:\n",
    "        return cards  # Caso base: ya está ordenado si hay 0 o 1 elemento\n",
    "    else:\n",
    "        pivot = cards[0]  # Elegir el primer elemento como pivote\n",
    "        less = [i for i in cards[1:] if i <= pivot]\n",
    "        greater = [i for i in cards[1:] if i > pivot]\n",
    "        return quicksort(less) + [pivot] + quicksort(greater)"
   ]
  },
  {
   "cell_type": "code",
   "execution_count": 14,
   "id": "19de3185",
   "metadata": {},
   "outputs": [
    {
     "name": "stdout",
     "output_type": "stream",
     "text": [
      "List lookup time: 1.1799383000470698\n",
      "Dictionary lookup time: 8.099991828203201e-05\n"
     ]
    }
   ],
   "source": [
    "# Comparación de búsqueda en listas y diccionarios\n",
    "# Se muestra cómo la búsqueda en diccionarios es mucho más rápida que en listas, especialmente para grandes conjuntos de datos:\n",
    "\n",
    "import timeit\n",
    "\n",
    "# Búsqueda en lista\n",
    "list_data = list(range(100000))\n",
    "lookup_value = 99999\n",
    "list_time = timeit.timeit(lambda: lookup_value in list_data, number=1000)\n",
    "\n",
    "# Búsqueda en diccionario\n",
    "dict_data = {i: i for i in range(100000)}\n",
    "dict_time = timeit.timeit(lambda: lookup_value in dict_data, number=1000)\n",
    "\n",
    "print(\"List lookup time:\", list_time)\n",
    "print(\"Dictionary lookup time:\", dict_time)\n"
   ]
  },
  {
   "cell_type": "code",
   "execution_count": null,
   "id": "e1cd114e",
   "metadata": {},
   "outputs": [
    {
     "name": "stdout",
     "output_type": "stream",
     "text": [
      "task1\n"
     ]
    }
   ],
   "source": [
    "# Estructuras de datos especializadas en Python\n",
    "\n",
    "# Deque (cola de doble extremo)\n",
    "# Permite añadir o eliminar elementos eficientemente desde ambos extremos. Ideal para colas, pilas, simulaciones de líneas o funcionalidad de deshacer/rehacer.\n",
    "\n",
    "\n",
    "from collections import deque\n",
    "\n",
    "queue = deque()\n",
    "queue.append(\"task1\")\n",
    "queue.append(\"task2\")\n",
    "print(queue.popleft())  # Output: task1 #el primer valor es el que se va ((como las de un parque de atracciones que se añanden gente al final de la fila y se montan los primeros de la fila))"
   ]
  },
  {
   "cell_type": "code",
   "execution_count": 4,
   "id": "322154ed",
   "metadata": {},
   "outputs": [
    {
     "name": "stdout",
     "output_type": "stream",
     "text": [
      "Counter({'words': 2, 'This': 1, 'is': 1, 'a': 1, 'sample': 1, 'text': 1, 'with': 1, 'some': 1, 'repeated': 1})\n"
     ]
    }
   ],
   "source": [
    "# collections.Counter\n",
    "# Cuenta la frecuencia de elementos en un iterable. Perfecto para analizar palabras, contar elementos de listas, o identificar los más comunes.\n",
    "\n",
    "\n",
    "from collections import Counter\n",
    "\n",
    "text = \"This is a sample text with some repeated words words\"\n",
    "word_counts = Counter(text.split())\n",
    "print(word_counts)\n",
    "# Output: Counter({'words': 2, 'This': 1, 'is': 1, 'a': 1, 'sample': 1, 'text': 1, 'with': 1, 'some': 1, 'repeated': 1})"
   ]
  }
 ],
 "metadata": {
  "kernelspec": {
   "display_name": "Python 3",
   "language": "python",
   "name": "python3"
  },
  "language_info": {
   "codemirror_mode": {
    "name": "ipython",
    "version": 3
   },
   "file_extension": ".py",
   "mimetype": "text/x-python",
   "name": "python",
   "nbconvert_exporter": "python",
   "pygments_lexer": "ipython3",
   "version": "3.13.7"
  }
 },
 "nbformat": 4,
 "nbformat_minor": 5
}
