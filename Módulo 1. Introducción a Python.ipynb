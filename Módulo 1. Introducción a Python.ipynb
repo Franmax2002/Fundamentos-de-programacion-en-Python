{
 "cells": [
  {
   "cell_type": "markdown",
   "id": "39533a5a",
   "metadata": {},
   "source": [
    "# Módulo 1. Introducción a Python"
   ]
  },
  {
   "cell_type": "code",
   "execution_count": 1,
   "id": "2a8512bc",
   "metadata": {},
   "outputs": [
    {
     "name": "stdout",
     "output_type": "stream",
     "text": [
      "hola mundo\n",
      "4\n"
     ]
    }
   ],
   "source": [
    "print ('hola mundo')\n",
    "print (2+2)"
   ]
  },
  {
   "cell_type": "code",
   "execution_count": 7,
   "id": "1a393c52",
   "metadata": {},
   "outputs": [
    {
     "name": "stdout",
     "output_type": "stream",
     "text": [
      "The area of the rectangle is: 50\n"
     ]
    }
   ],
   "source": [
    "### Áreas\n",
    "\n",
    "length = 10\n",
    "width = 5\n",
    "area = length * width\n",
    "print(\"The area of the rectangle is:\", area)\n"
   ]
  },
  {
   "cell_type": "code",
   "execution_count": 8,
   "id": "84354ed4",
   "metadata": {},
   "outputs": [
    {
     "name": "stdout",
     "output_type": "stream",
     "text": [
      "The area of the rectangle is: 8\n",
      "The area of the rectangle is: 15\n"
     ]
    }
   ],
   "source": [
    "### Actividad 1\n",
    "\n",
    "# The Code\n",
    "\n",
    "length = 5\n",
    "width = 3\n",
    "\n",
    "# Calculate the area\n",
    "area = length + width # Modify this line of code\n",
    "\n",
    "# Print the result\n",
    "print(\"The area of the rectangle is:\", area)\n",
    "\n",
    "### Código corregido\n",
    "\n",
    "length = 5\n",
    "width = 3\n",
    "\n",
    "# Calculate the area\n",
    "area = length * width # Modify this line of code\n",
    "\n",
    "# Print the result\n",
    "print(\"The area of the rectangle is:\", area)\n"
   ]
  },
  {
   "cell_type": "markdown",
   "id": "e05020d5",
   "metadata": {},
   "source": [
    "# Error en sangrías"
   ]
  },
  {
   "cell_type": "code",
   "execution_count": null,
   "id": "512a6eb8",
   "metadata": {},
   "outputs": [
    {
     "ename": "IndentationError",
     "evalue": "unexpected indent (1724661998.py, line 2)",
     "output_type": "error",
     "traceback": [
      "  \u001b[36mCell\u001b[39m\u001b[36m \u001b[39m\u001b[32mIn[9]\u001b[39m\u001b[32m, line 2\u001b[39m\n\u001b[31m    \u001b[39m\u001b[31mprint(name)\u001b[39m\n    ^\n\u001b[31mIndentationError\u001b[39m\u001b[31m:\u001b[39m unexpected indent\n"
     ]
    }
   ],
   "source": [
    "name = 'elias'\n",
    "     print(name)\n",
    "# da error por la sangría"
   ]
  }
 ],
 "metadata": {
  "kernelspec": {
   "display_name": "Python 3",
   "language": "python",
   "name": "python3"
  },
  "language_info": {
   "codemirror_mode": {
    "name": "ipython",
    "version": 3
   },
   "file_extension": ".py",
   "mimetype": "text/x-python",
   "name": "python",
   "nbconvert_exporter": "python",
   "pygments_lexer": "ipython3",
   "version": "3.13.7"
  }
 },
 "nbformat": 4,
 "nbformat_minor": 5
}
