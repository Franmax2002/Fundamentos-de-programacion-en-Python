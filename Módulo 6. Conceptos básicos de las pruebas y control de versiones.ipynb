{
 "cells": [
  {
   "cell_type": "markdown",
   "id": "e1cf2467",
   "metadata": {},
   "source": [
    "# Módulo 6. Conceptos básicos de las pruebas y control de versiones"
   ]
  },
  {
   "cell_type": "code",
   "execution_count": 1,
   "id": "8a03eb96",
   "metadata": {},
   "outputs": [],
   "source": [
    "# Ejemplo práctico en Python con pytest\n",
    "# Código para probar una función que calcula un descuento:\n",
    "\n",
    "import pytest\n",
    "\n",
    "def calculate_discount(price, percentage):\n",
    "    return price - (price * percentage / 100)\n",
    "\n",
    "class TestDiscountCalculation: # una clase con dos métodos\n",
    "    def test_ten_percent_discount(self):\n",
    "        result = calculate_discount(100, 10)\n",
    "        assert result == 90  # Assertion: se espera 90\n",
    "\n",
    "    def test_invalid_input(self):\n",
    "        with pytest.raises(TypeError):\n",
    "            calculate_discount(\"100\", 10)  # Entrada incorrecta\n"
   ]
  },
  {
   "cell_type": "markdown",
   "id": "c8d313d3",
   "metadata": {},
   "source": [
    "# Instalación y uso básico\n",
    "### Instalar:\n",
    "\n",
    "pip install pytest\n",
    "\n",
    "\n",
    "### Crear función en este archivo del calculator.py:"
   ]
  },
  {
   "cell_type": "code",
   "execution_count": null,
   "id": "44ce1e60",
   "metadata": {},
   "outputs": [],
   "source": [
    "def add(a, b):\n",
    "    return a + b"
   ]
  },
  {
   "cell_type": "markdown",
   "id": "3e047cd0",
   "metadata": {},
   "source": [
    "### Crear prueba en test_sample.py:"
   ]
  },
  {
   "cell_type": "code",
   "execution_count": null,
   "id": "2bb172dc",
   "metadata": {},
   "outputs": [],
   "source": [
    "import pytest\n",
    "from calculator import add\n",
    "\n",
    "def test_add():\n",
    "    assert add(2, 3) == 5 #assert es como el resultado esperado"
   ]
  },
  {
   "cell_type": "markdown",
   "id": "abbf1f87",
   "metadata": {},
   "source": [
    "### Ejecutar pruebas desde la terminal(pytest test_sample):\n",
    "\n",
    "### Debería de salir que ha pasado la prueba. Si cambiamos en calculator.py a a-b ,test_sample nos dará error, es decir, si la función es incorrecta, pytest muestra el error y la causa exacta.\n",
    "\n",
    "### MUY IMPORTANTE PARA QUE SALGA BIEN LOS ARCHIVOS TIENEN QUE ESTAR EN DIRECTORIOS SEPARADOS NO JUNTOS"
   ]
  },
  {
   "cell_type": "code",
   "execution_count": null,
   "id": "61097858",
   "metadata": {},
   "outputs": [],
   "source": [
    "# Accesorios (Fixtures)\n",
    "# Son funciones reutilizables que preparan datos o estados para las pruebas.\n",
    "\n",
    "# Se definen con @pytest.fixture.\n",
    "\n",
    "# Se pueden usar en varias pruebas, y su alcance puede ajustarse:\n",
    "\n",
    "# función (default) → se ejecuta en cada prueba.\n",
    "\n",
    "# módulo, clase o sesión → permanece disponible más tiempo.\n",
    "\n",
    "\n",
    "# Ejemplo simple de fixture:\n",
    "import pytest\n",
    "\n",
    "@pytest.fixture\n",
    "def sample_data():\n",
    "    return [10, 20, 30, 40]\n",
    "\n",
    "def test_sum(sample_data):\n",
    "    assert sum(sample_data) == 100\n",
    "\n",
    "def test_max(sample_data):\n",
    "    assert max(sample_data) == 40\n",
    "\n",
    "# Ejemplo avanzado: un fixture que transforma datos y muestra mensajes de inicialización para depuración.\n",
    "\n",
    "# LO VEREMOS MEJOR EN ACTIVIDADES"
   ]
  },
  {
   "cell_type": "code",
   "execution_count": null,
   "id": "6cbe3575",
   "metadata": {},
   "outputs": [],
   "source": [
    "# Código de ejemplo:\n",
    "\n",
    "import pytest\n",
    "from your_flask_app import app  # Import your Flask app\n",
    "\n",
    "@pytest.fixture\n",
    "def client():\n",
    "    \"\"\"Create a test client for interacting with the Flask app.\"\"\"\n",
    "    app.config['TESTING'] = True  # Enable testing mode\n",
    "    with app.test_client() as client:\n",
    "        yield client\n",
    "\n",
    "def test_user_registration(client):\n",
    "    \"\"\"Simulate a user registration and check the response.\"\"\"\n",
    "    data = {'username': 'testuser', 'email': 'testuser@example.com', 'password': 'testpassword'}\n",
    "    response = client.post('/register', data=data)\n",
    "\n",
    "    assert response.status_code == 302  # Expect a redirect after successful registration\n",
    "    # Further checks on database or session data can be added here\n",
    "\n",
    "def test_login(client):\n",
    "    \"\"\"Simulate a user login and verify the response.\"\"\"\n",
    "    data = {'username': 'existinguser', 'password': 'correctpassword'}\n",
    "    response = client.post('/login', data=data)\n",
    "\n",
    "    assert response.status_code == 200  # Expect a successful login\n",
    "    assert b'Welcome, existinguser' in response.data  # Check if welcome message is present"
   ]
  },
  {
   "cell_type": "code",
   "execution_count": null,
   "id": "78b5983a",
   "metadata": {},
   "outputs": [],
   "source": [
    "# Código de ejemplo:\n",
    "import pytest\n",
    "import pandas as pd\n",
    "from your_data_science_project import clean_data, train_model, predict\n",
    "\n",
    "# Sample test data\n",
    "@pytest.fixture\n",
    "def test_data():\n",
    "    data = {'feature1': [1, 2, 3, None], 'feature2': ['A', 'B', 'C', 'D']}\n",
    "    return pd.DataFrame(data)\n",
    "\n",
    "def test_data_cleaning(test_data):\n",
    "    \"\"\"Verify if data cleaning handles missing values correctly.\"\"\"\n",
    "    cleaned_data = clean_data(test_data)\n",
    "    assert cleaned_data['feature1'].isnull().sum() == 0  # Check if missing values are filled\n",
    "\n",
    "def test_model_predictions():\n",
    "    \"\"\"Check if model predictions match expected outcomes.\"\"\"\n",
    "    X_test = ...  # Load your test data\n",
    "    y_test = ...  # Load corresponding ground truth labels\n",
    "    model = train_model(...) \n",
    "    predictions = predict(model, X_test)\n",
    "    accuracy = (predictions == y_test).mean()\n",
    "    assert accuracy > 0.8  # Set your desired accuracy threshold\n",
    "\n",
    "def test_model_performance():\n",
    "    \"\"\"Evaluate model performance using relevant metrics.\"\"\"\n",
    "    # ... Load your evaluation data and calculate metrics (e.g., precision, recall, F1-score)\n",
    "    # Assert that the metrics meet your expectations."
   ]
  },
  {
   "cell_type": "code",
   "execution_count": null,
   "id": "8f44ea8b",
   "metadata": {},
   "outputs": [],
   "source": [
    "# Reto de codificación: Comprobación simple de la pertenencia a una lista\n",
    "\n",
    "import pytest\n",
    "\n",
    "def test_contains_five():\n",
    "    \"\"\"\n",
    "    Tests the 'contains_five' function.\n",
    "    \"\"\"\n",
    "    # Example list for testing\n",
    "    my_list = [1, 3, 5, 7, 9]\n",
    "    assert contains_five(my_list) == True # nos quiere decir si el 5 esta en la lista"
   ]
  },
  {
   "cell_type": "code",
   "execution_count": 7,
   "id": "022f9850",
   "metadata": {},
   "outputs": [],
   "source": [
    "# Ejemplo en código:\n",
    "\n",
    "import pytest\n",
    "\n",
    "class Calculator:\n",
    "    def add(self, x, y):\n",
    "        return x + y\n",
    "\n",
    "    def subtract(self, x, y):\n",
    "        return x - y\n",
    "\n",
    "    def multiply(self, x, y):\n",
    "        return x * y\n",
    "\n",
    "    def divide(self, x, y):\n",
    "        if y == 0:\n",
    "            raise ValueError(\"Division by zero!\")\n",
    "        return x / y\n",
    "\n",
    "class CalculatorTest:\n",
    "    @pytest.fixture\n",
    "    def calculator(self):\n",
    "        from calculator import Calculator\n",
    "        return Calculator()\n",
    "\n",
    "    def test_add(self, calculator):\n",
    "        result = calculator.add(2, 3)\n",
    "        assert result == 5\n",
    "\n",
    "    def test_subtract(self, calculator):\n",
    "        result = calculator.subtract(5, 2)\n",
    "        assert result == 3\n",
    "\n",
    "    def test_multiply(self, calculator):\n",
    "        result = calculator.multiply(4, 3)\n",
    "        assert result == 12\n",
    "\n",
    "    def test_divide(self, calculator):\n",
    "        result = self.calculator.divide(10, 2)\n",
    "        assert result == 5\n",
    "\n",
    "    def test_divide_by_zero(self, calculator):\n",
    "        with pytest.raises(ValueError):\n",
    "            calculator.divide(5, 0)"
   ]
  },
  {
   "cell_type": "markdown",
   "id": "8503acb4",
   "metadata": {},
   "source": [
    "# Funciones críticas probadas\n",
    "## Productos y carrito\n",
    "\n",
    "\n",
    "    test_add_to_cart_successful: verifica que los productos se agreguen correctamente.\n",
    "\n",
    "\n",
    "    test_calculate_total_price_accuracy: comprueba cálculo de precios totales con impuestos y envío.\n",
    "\n",
    "\n",
    "    test_apply_discount_correctly: asegura aplicación correcta de descuentos.\n",
    "\n",
    "\n",
    "    test_checkout_successful_payment: simula proceso de pago con pasarela mockeada.\n",
    "\n",
    "\n",
    "## Interacciones con usuarios\n",
    "\n",
    "\n",
    "    test_create_new_user_account_valid_data: valida creación de cuentas con datos correctos.\n",
    "\n",
    "\n",
    "    test_login_successful_credentials: verifica login exitoso con credenciales válidas.\n",
    "\n",
    "\n",
    "    test_update_user_information_changes_saved: confirma que los cambios en el perfil se guardan."
   ]
  },
  {
   "cell_type": "code",
   "execution_count": null,
   "id": "9a412989",
   "metadata": {},
   "outputs": [],
   "source": [
    "# Código de ejemplo simplificado\n",
    "import pytest\n",
    "\n",
    "class Product:\n",
    "    def __init__(self, name, price, quantity=1):\n",
    "        self.name = name\n",
    "        self.price = price\n",
    "        self.quantity = quantity\n",
    "\n",
    "class Cart:\n",
    "    def __init__(self):\n",
    "        self.items = []\n",
    "\n",
    "    def add_to_cart(self, product):\n",
    "        self.items.append(product)\n",
    "\n",
    "    def calculate_total_price(self, tax_rate=0.0, shipping_fee=0.0):\n",
    "        subtotal = sum(item.price * item.quantity for item in self.items)\n",
    "        tax = subtotal * tax_rate\n",
    "        total = subtotal + tax + shipping_fee\n",
    "        return total\n",
    "\n",
    "    def apply_discount(self, discount_percentage):\n",
    "        for item in self.items:\n",
    "            item.price *= (1 - discount_percentage / 100)\n",
    "\n",
    "    def checkout(self, payment_gateway):\n",
    "        total_price = self.calculate_total_price()\n",
    "        if payment_gateway.process_payment(total_price):\n",
    "            return True\n",
    "        else:\n",
    "            return False\n",
    "\n",
    "class TestProductFunctions: # EJEMPLOS DE USO\n",
    "    def test_add_to_cart_successful(self):\n",
    "        cart = Cart()\n",
    "        product = Product(\"Widget\", 10.0)\n",
    "        cart.add_to_cart(product)\n",
    "        assert len(cart.items) == 1\n",
    "        assert cart.items[0] == product\n",
    "\n",
    "    def test_calculate_total_price_accuracy(self):\n",
    "        cart = Cart()\n",
    "        cart.add_to_cart(Product(\"Widget A\", 15.0))\n",
    "        cart.add_to_cart(Product(\"Widget B\", 20.0, 2))  # 2 unidades\n",
    "        total = cart.calculate_total_price(tax_rate=0.07, shipping_fee=5.0)\n",
    "        expected_total = (15.0 + 20.0 * 2) * 1.07 + 5.0\n",
    "        assert total == expected_total\n",
    "\n",
    "    def test_apply_discount_correctly(self):\n",
    "        cart = Cart()\n",
    "        cart.add_to_cart(Product(\"Discounted Item\", 50.0))\n",
    "        cart.apply_discount(20)  # 20% descuento\n",
    "        assert cart.items[0].price == 40\n",
    "\n",
    "    def test_checkout_successful_payment(self, mocker):\n",
    "        mock_payment_gateway = mocker.Mock()\n",
    "        mock_payment_gateway.process_payment.return_value = True\n",
    "\n",
    "        cart = Cart()\n",
    "        cart.add_to_cart(Product(\"Something\", 100.0))\n",
    "        result = cart.checkout(mock_payment_gateway)\n",
    "        assert result is True"
   ]
  },
  {
   "cell_type": "markdown",
   "id": "d67ab5fe",
   "metadata": {},
   "source": [
    "# LABORATORIO: TAREA DE PROGRAMACIÓN FINAL"
   ]
  },
  {
   "cell_type": "markdown",
   "id": "328381b4",
   "metadata": {},
   "source": [
    "### Information about grading and troubleshooting\n",
    "- To receive a grade, click Submit assignment at the top of the page.\n",
    "- If you encounter problems and want to start over, you can use the ? icon on the top of the page and click Get latest version. If that doesn't work, you can submit the incomplete assignment and start a new submission.\n",
    "\n",
    "### Tips for completing this lab\n",
    "As you navigate this lab, keep the following tips in mind:\n",
    "- ```### YOUR CODE HERE ###``` indicates where you should write code. Be sure to replace this with your own code before running the code cell.\n",
    "- Feel free to open the hints for additional guidance as you work on each task.\n",
    "- You can save your work manually by clicking File and then Save in the menu bar at the top of the notebook.\n",
    "- You can download your work locally by clicking File and then Download and then specifying your preferred file format in the menu bar at the top of the notebook.\n",
    "- For any print statements, make sure your capitalization matches the requirements. Remember, Python considers \"Discount\" and \"discount\" as not equal.\n",
    "\n",
    "### Activity 1: Making Decisions with Conditional Statements\n",
    "#### Introduction\n",
    "As a data analyst for an online book store, you're tasked with analyzing customer purchasing patterns. The marketing team wants to send special discount codes to customers based on the number of books they’ve purchased. If a customer has purchased enough books, they’ll receive a discount. If they’ve purchased more, they might qualify for an even better discount.\n",
    "#### Task 1: Define a Discount Function\n",
    "You need to write a function that helps the marketing team decide which customers should receive a discount.\n",
    "\n",
    "Define a function called ```send_discount``` that accepts two arguments:\n",
    "- ```books_purchased```: The number of books a customer has purchased.\n",
    "- ```discount_threshold```: The minimum number of books a customer needs to purchase to receive a discount.\n",
    "\n",
    "The function must print either of the two possible messages, as shown below. Be careful not to miss the punctuation in your print statement.\n",
    "- ```Discount applied!``` if the customer qualifies for a discount.\n",
    "- ```No discount.``` if the customer does not qualify.\n",
    "\n",
    "#### Example:\n",
    "\n",
    "```python\n",
    "send_discount(books_purchased=3, discount_threshold=5)\n",
    "# Output: No discount.\n",
    "\n",
    "send_discount(books_purchased=7, discount_threshold=5)\n",
    "# Output: Discount applied!\n",
    "\n",
    "```\n",
    "\n",
    "#### Code Template:"
   ]
  },
  {
   "cell_type": "code",
   "execution_count": 5,
   "id": "f34b0cc4",
   "metadata": {},
   "outputs": [],
   "source": [
    "def send_discount(books_purchased, discount_threshold):\n",
    "    if books_purchased <= discount_threshold:\n",
    "        print(\"No discount.\")\n",
    "    else:\n",
    "        print(\"Discount applied!\")\n",
    "    pass"
   ]
  },
  {
   "cell_type": "markdown",
   "id": "fbc91780",
   "metadata": {},
   "source": [
    "#### Hints:\n",
    "<details>\n",
    "<summary>Hint 1</summary>\n",
    "\n",
    "- Use an `if` statement to check if `books_purchased` meets or exceeds the `discount_threshold`.\n",
    "</details>\n",
    "\n",
    "<details>\n",
    "<summary>Hint 2</summary>\n",
    "\n",
    "- Use a `print` statement to display the correct message.\n",
    "</details>\n",
    "\n",
    "#### Test Your Function:"
   ]
  },
  {
   "cell_type": "code",
   "execution_count": 6,
   "id": "c1f8b02f",
   "metadata": {},
   "outputs": [
    {
     "name": "stdout",
     "output_type": "stream",
     "text": [
      "No discount.\n",
      "Discount applied!\n"
     ]
    }
   ],
   "source": [
    "# Checking your results \n",
    "send_discount(3, 5)  # Should print No discount.\n",
    "send_discount(7, 5)  # Should print Discount applied!"
   ]
  },
  {
   "cell_type": "markdown",
   "id": "bfca9888",
   "metadata": {},
   "source": [
    "#### Task 2: Add Logical Branching for Multiple Discount Levels\n",
    "The store offers an additional promotion: If a customer purchases more than a certain number of books, they’ll receive an even bigger discount. Update your function to include this second level of discounts.\n",
    "\n",
    "Add an additional argument, `bonus_threshold`, which represents the number of books needed to receive the better discount.\n",
    "\n",
    "The function must print one of three possible messages, as shown below. Be careful not to miss the punctuation in your print statement.\n",
    "- `Big discount applied!` if the customer qualifies for the higher discount.\n",
    "- `Discount applied!` if the customer qualifies for the regular discount.\n",
    "- `No discount.` if they do not qualify for any discount.\n",
    "\n",
    "#### Example:\n",
    "\n",
    "```python\n",
    "send_discount(books_purchased=3, discount_threshold=5, bonus_threshold=10)\n",
    "# Output: No discount.\n",
    "\n",
    "send_discount(books_purchased=7, discount_threshold=5, bonus_threshold=10)\n",
    "# Output: Discount applied!\n",
    "\n",
    "send_discount(books_purchased=12, discount_threshold=5, bonus_threshold=10)\n",
    "# Output: Big discount applied!\n",
    "```\n",
    "\n",
    "#### Code Template:"
   ]
  },
  {
   "cell_type": "code",
   "execution_count": 9,
   "id": "ea603335",
   "metadata": {},
   "outputs": [],
   "source": [
    "def send_discount(books_purchased, discount_threshold, bonus_threshold):\n",
    "    if books_purchased <= discount_threshold and books_purchased < bonus_threshold:\n",
    "        print(\"No discount.\")\n",
    "    elif books_purchased >= discount_threshold and books_purchased < bonus_threshold:\n",
    "        print(\"Discount applied!\")\n",
    "    else:\n",
    "        print(\"Big discount applied!\")\n",
    "    pass"
   ]
  },
  {
   "cell_type": "markdown",
   "id": "c1758a7c",
   "metadata": {},
   "source": [
    "#### Hints:\n",
    "\n",
    "<details>\n",
    "<summary>Hint 1</summary>\n",
    "    \n",
    "- Start by checking if the customer qualifies for the **big discount** using an `if` statement.\n",
    "</details>\n",
    "\n",
    "<details>\n",
    "<summary>Hint 2</summary>\n",
    "    \n",
    "- Use an `elif` to check if they qualify for the regular discount.\n",
    "</details>\n",
    "\n",
    "<details>\n",
    "<summary>Hint 3</summary>\n",
    "    \n",
    "- Use an `else` statement to handle cases where they don't qualify for any discount.\n",
    "</details>\n",
    "\n",
    "#### Test Your Function:"
   ]
  },
  {
   "cell_type": "markdown",
   "id": "b0044d26",
   "metadata": {},
   "source": []
  },
  {
   "cell_type": "code",
   "execution_count": 10,
   "id": "f0b44fd3",
   "metadata": {},
   "outputs": [
    {
     "name": "stdout",
     "output_type": "stream",
     "text": [
      "No discount.\n",
      "Discount applied!\n",
      "Big discount applied!\n"
     ]
    }
   ],
   "source": [
    "# Checking your results \n",
    "send_discount(3, 5, 10)   # Should print No discount.\n",
    "send_discount(7, 5, 10)   # Should print Discount applied!\n",
    "send_discount(12, 5, 10)  # Should print Big discount applied!"
   ]
  },
  {
   "cell_type": "markdown",
   "id": "74b14471",
   "metadata": {},
   "source": [
    "### Activity 2: Using Loops for Repetitive Tasks\n",
    "#### Introduction\n",
    "You are a product manager at a technology startup. Customers have been providing ratings for the company's latest app. The marketing team wants to categorize this feedback into three categories: \"Low\", \"Medium\", and \"High\" ratings. You will use Python's iteration techniques to process customer ratings efficiently.\n",
    "#### Task 1: Categorize Customer Ratings\n",
    "Define a function called `categorize_ratings` that takes a list of customer ratings as input. Each rating is a whole number between 1 and 10.\n",
    "\n",
    "Your function will categorize the ratings as:\n",
    "- **Low** (1-4)\n",
    "- **Medium** (5-7)\n",
    "- **High** (8-10)\n",
    "\n",
    "The output must print three statements, one for each category, in the following order (Low, then Medium, then High):\n",
    "<br>`Low: {number_of_low_ratings}`<br>\n",
    "`Medium: {number_of_medium_ratings}`<br>\n",
    "`High: {number_of_high_ratings}`<br>\n",
    "\n",
    "#### Example:\n",
    "```python\n",
    "# There are two ratings in the range 1-4, two ratings in the range of 5-7 and two ratings in the range 8-10\n",
    "categorize_ratings([1, 3, 5, 7, 8, 9])\n",
    "```\n",
    "**Output:**\n",
    "<br>`Low: 2`<br>\n",
    "`Medium: 2`<br>\n",
    "`High: 2`<br>\n",
    "#### Code Template:"
   ]
  },
  {
   "cell_type": "code",
   "execution_count": 11,
   "id": "a5e3f92c",
   "metadata": {},
   "outputs": [],
   "source": [
    "def categorize_ratings(rating_list):\n",
    "    for numbers in rating_list:\n",
    "        if numbers>=1 and numbers<=4:\n",
    "            return numbers\n",
    "        elif numbers>=5 and numbers<=7:\n",
    "            return numbers\n",
    "        else:\n",
    "            return numbers\n",
    "    pass"
   ]
  },
  {
   "cell_type": "markdown",
   "id": "597867f3",
   "metadata": {},
   "source": [
    "#### Hints:\n",
    "<details>\n",
    "<summary>Hint 1</summary>\n",
    "    \n",
    "- Use a `for` loop to iterate through the `rating_list`.\n",
    "</details>\n",
    "\n",
    "<details>\n",
    "<summary>Hint 2</summary>\n",
    "    \n",
    "- Keep a counter for each category: low, medium, and high.\n",
    "</details>\n",
    "\n",
    "<details>\n",
    "<summary>Hint 3</summary>\n",
    "    \n",
    "- Use `if`, `elif`, and `else` to decide which category each rating falls into.\n",
    "</details>\n",
    "\n",
    "#### Test Your Function:"
   ]
  },
  {
   "cell_type": "code",
   "execution_count": 12,
   "id": "1e48475e",
   "metadata": {},
   "outputs": [
    {
     "name": "stdout",
     "output_type": "stream",
     "text": [
      "Expected Output:\n",
      "Low: 2\n",
      "Medium: 2\n",
      "High: 2\n"
     ]
    }
   ],
   "source": [
    "# Checking your results \n",
    "# Calling categorize_ratings([1, 3, 5, 7, 8, 9])\n",
    "categorize_ratings([1, 3, 5, 7, 8, 9])\n",
    "print(\"Expected Output:\\nLow: 2\\nMedium: 2\\nHigh: 2\")"
   ]
  },
  {
   "cell_type": "markdown",
   "id": "2110cd5a",
   "metadata": {},
   "source": [
    "### Activity 3: Sorting Test Scores with Error Handling\n",
    "#### Introduction\n",
    "You are a coder working with test scores, focusing on sorting techniques and error handling in Python. You’ll use common sorting algorithms and write robust functions that account for possible errors.\n",
    "\n",
    "#### Task 1: Creating and Sorting Test Scores\n",
    "You have a list of students and their corresponding test scores. Your task is to organize and analyze the scores using sorting algorithms and Python's error-handling mechanisms.\n",
    "#### Step 1: Create the List of Students\n",
    "Create a list called `students` that contains the following student names: John, Lisa, Mary, Chris, Linda, Matt"
   ]
  },
  {
   "cell_type": "code",
   "execution_count": 27,
   "id": "3b5f4ae1",
   "metadata": {},
   "outputs": [
    {
     "name": "stdout",
     "output_type": "stream",
     "text": [
      "['John', 'Lisa', 'Mary', 'Chris', 'Linda', 'Matt']\n"
     ]
    }
   ],
   "source": [
    "students = [\"John\", \"Lisa\", \"Mary\", \"Chris\", \"Linda\", \"Matt\"]\n",
    "print(students)"
   ]
  },
  {
   "cell_type": "markdown",
   "id": "0e1cf00e",
   "metadata": {},
   "source": [
    "#### Step 2: Create a Dictionary of Test Scores\n",
    "Create a dictionary called `test_performance` and assign the following scores to each student as follows:\n",
    "- John: 87\n",
    "- Lisa: 90\n",
    "- Mary: 75\n",
    "- Chris: 100\n",
    "- Linda: 100\n",
    "- Matt: 70"
   ]
  },
  {
   "cell_type": "code",
   "execution_count": 28,
   "id": "f3af6ff8",
   "metadata": {},
   "outputs": [
    {
     "name": "stdout",
     "output_type": "stream",
     "text": [
      "{'John': 87, 'Lisa': 90, 'Mary': 75, 'Chris': 100, 'Linda': 100, 'Matt': 70}\n"
     ]
    }
   ],
   "source": [
    "test_performance = {\"John\": 87, \"Lisa\": 90, \"Mary\": 75, \"Chris\": 100, \"Linda\": 100, \"Matt\": 70}\n",
    "print(test_performance)"
   ]
  },
  {
   "cell_type": "markdown",
   "id": "41be1b4f",
   "metadata": {},
   "source": [
    "#### Step 3: Extract the Scores from the Dictionary \n",
    "Create a list called `scores` and extract each student's score using a `for` loop."
   ]
  },
  {
   "cell_type": "code",
   "execution_count": null,
   "id": "e78ae719",
   "metadata": {},
   "outputs": [
    {
     "name": "stdout",
     "output_type": "stream",
     "text": [
      "[87, 90, 75, 100, 100, 70]\n"
     ]
    }
   ],
   "source": [
    "scores = []\n",
    "for student in test_performance:\n",
    "    scores.append(test_performance[student])\n",
    "\n",
    "print(scores)\n"
   ]
  },
  {
   "cell_type": "code",
   "execution_count": 47,
   "id": "6c9f8e24",
   "metadata": {},
   "outputs": [
    {
     "name": "stdout",
     "output_type": "stream",
     "text": [
      "[87, 90, 75, 100, 100, 70]\n"
     ]
    }
   ],
   "source": [
    "scores = [test_performance[student] for student in students]\n",
    "\n",
    "print(scores)"
   ]
  },
  {
   "cell_type": "markdown",
   "id": "dd115d8c",
   "metadata": {},
   "source": [
    "#### Step 4: Sorting the Scores with a Custom Function \n",
    "Define a function called `bubble_sort` that sorts the list of scores in ascending order."
   ]
  },
  {
   "cell_type": "code",
   "execution_count": 39,
   "id": "c40ca90b",
   "metadata": {},
   "outputs": [],
   "source": [
    "def bubble_sort(scores):\n",
    "    \"\"\"\n",
    "    Ordena una lista de puntuaciones en orden ascendente usando el método sort() interno de Python.\n",
    "    \"\"\"\n",
    "    # Creamos una copia para no modificar la lista original si se desea\n",
    "\n",
    "    scores.sort()\n",
    "    return scores"
   ]
  },
  {
   "cell_type": "markdown",
   "id": "30796853",
   "metadata": {},
   "source": [
    "#### Step 5: Assign the Sorted Scores to `sorted_scores`\n",
    "Call the `bubble_sort` function you defined above and assign the return value to `sorted_scores`."
   ]
  },
  {
   "cell_type": "code",
   "execution_count": 42,
   "id": "741a9c8f",
   "metadata": {},
   "outputs": [],
   "source": [
    "# Ejemplo de uso\n",
    "sorted_scores = bubble_sort(scores)"
   ]
  },
  {
   "cell_type": "markdown",
   "id": "d5978239",
   "metadata": {},
   "source": [
    "#### Hints for Activity 3 - Task 1:\n",
    "\n",
    "<details>\n",
    "<summary>Hint 1</summary>\n",
    "    \n",
    "- **Sorting:** For the `bubble_sort` function, focus on comparing and swapping elements.\n",
    "</details>\n",
    "\n",
    "#### Test Your Results:"
   ]
  },
  {
   "cell_type": "code",
   "execution_count": 41,
   "id": "c41ab8ab",
   "metadata": {},
   "outputs": [
    {
     "name": "stdout",
     "output_type": "stream",
     "text": [
      "[70, 75, 87, 90, 100, 100]\n"
     ]
    }
   ],
   "source": [
    "# Checking your results \n",
    "print(sorted_scores)"
   ]
  },
  {
   "cell_type": "markdown",
   "id": "b48248ff",
   "metadata": {},
   "source": [
    "#### Task 2: Calculating and Handling Errors\n",
    "#### Step 1: Calculate the Highest and Lowest Scores\n",
    "Use the `sorted_scores` list you defined above to assign the correct values to `highest_score` and `lowest_score` below."
   ]
  },
  {
   "cell_type": "code",
   "execution_count": 45,
   "id": "e066a8e0",
   "metadata": {},
   "outputs": [
    {
     "name": "stdout",
     "output_type": "stream",
     "text": [
      "100\n",
      "70\n"
     ]
    }
   ],
   "source": [
    "highest_score = max(sorted_scores)\n",
    "lowest_score = min(sorted_scores)\n",
    "\n",
    "print(highest_score)\n",
    "print(lowest_score)"
   ]
  },
  {
   "cell_type": "markdown",
   "id": "4f3f63dd",
   "metadata": {},
   "source": [
    "#### Step 2: Define a Function to Calculate the Class Average \n",
    "Define a function called `average_class_score` to calculate the average score. Add error handling for cases when the student list is empty."
   ]
  },
  {
   "cell_type": "code",
   "execution_count": 62,
   "id": "a407e07d",
   "metadata": {},
   "outputs": [],
   "source": [
    "def average_class_score(students, scores):\n",
    "    \"\"\"\n",
    "    Calcula el promedio de las puntuaciones de una clase.\n",
    "    Maneja el caso de listas vacías.\n",
    "    \"\"\"\n",
    "    if not students or not scores:  # Verifica si alguna lista está vacía\n",
    "        print(\"Error: La lista de clases o puntuaciones está vacía.\")\n",
    "        return None\n",
    "    \n",
    "    try:\n",
    "        total = sum(scores)\n",
    "        count = len(scores)\n",
    "        average = total / count\n",
    "        return average\n",
    "    except ZeroDivisionError:\n",
    "        print(\"Error: División por cero.\")\n",
    "        return None"
   ]
  },
  {
   "cell_type": "markdown",
   "id": "db703701",
   "metadata": {},
   "source": [
    "#### Step 3: Calculate the Average Score\n",
    "Use the `average_class_score` function you defined above to assign the average score to `average_score` below."
   ]
  },
  {
   "cell_type": "code",
   "execution_count": 65,
   "id": "17f292e5",
   "metadata": {},
   "outputs": [
    {
     "name": "stdout",
     "output_type": "stream",
     "text": [
      "87.0\n"
     ]
    }
   ],
   "source": [
    "average_score = average_class_score(students, scores)\n",
    "print(average_score)"
   ]
  },
  {
   "cell_type": "markdown",
   "id": "5e5f7514",
   "metadata": {},
   "source": [
    "#### Step 4: Handle the Case of an Empty Class\n",
    "Check that the `average_class_score` function can handle an empty class list by running the following code."
   ]
  },
  {
   "cell_type": "code",
   "execution_count": 66,
   "id": "3cf9becc",
   "metadata": {},
   "outputs": [
    {
     "name": "stdout",
     "output_type": "stream",
     "text": [
      "Error: La lista de clases o puntuaciones está vacía.\n"
     ]
    }
   ],
   "source": [
    "empty_class = []\n",
    "empty_scores = []\n",
    "error_average = average_class_score(empty_class, empty_scores)"
   ]
  },
  {
   "cell_type": "markdown",
   "id": "e69678d4",
   "metadata": {},
   "source": [
    "#### Hints for Activity 3 - Task 2:\n",
    "<details>\n",
    "<summary>Hint 1</summary>\n",
    "    \n",
    "- **Error Handling:** Use `try-except` blocks to handle division by zero when calculating the average score.\n",
    "</details>\n",
    "\n",
    "#### Test Your Results: "
   ]
  },
  {
   "cell_type": "code",
   "execution_count": 67,
   "id": "72384a79",
   "metadata": {},
   "outputs": [
    {
     "name": "stdout",
     "output_type": "stream",
     "text": [
      "Highest Score: 100\n",
      "Lowest Score: 70\n",
      "Average Score: 87.0\n"
     ]
    }
   ],
   "source": [
    "# Checking your results \n",
    "print(f\"Highest Score: {highest_score}\")\n",
    "print(f\"Lowest Score: {lowest_score}\")\n",
    "\n",
    "print(f\"Average Score: {average_score}\")"
   ]
  },
  {
   "cell_type": "markdown",
   "id": "85b0fb83",
   "metadata": {},
   "source": [
    "#### End of Lab\n",
    "By completing this lab, you’ve gained experience in writing Python functions, applying conditional logic, iterating through lists, sorting data, and handling errors. These foundational skills are essential for solving more complex real-world problems in data analysis and beyond!"
   ]
  }
 ],
 "metadata": {
  "kernelspec": {
   "display_name": "Python 3",
   "language": "python",
   "name": "python3"
  },
  "language_info": {
   "codemirror_mode": {
    "name": "ipython",
    "version": 3
   },
   "file_extension": ".py",
   "mimetype": "text/x-python",
   "name": "python",
   "nbconvert_exporter": "python",
   "pygments_lexer": "ipython3",
   "version": "3.13.7"
  }
 },
 "nbformat": 4,
 "nbformat_minor": 5
}
