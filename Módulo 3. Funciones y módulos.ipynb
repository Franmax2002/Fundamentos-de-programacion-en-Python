{
 "cells": [
  {
   "cell_type": "markdown",
   "id": "f1e45d02",
   "metadata": {},
   "source": [
    "# Módulo 3. Funciones y módulos"
   ]
  },
  {
   "cell_type": "markdown",
   "id": "87c6386b",
   "metadata": {},
   "source": [
    "##### def: palabra clave para definir la función.\n",
    "\n",
    "\n",
    "##### nombre_funcion: identificador descriptivo.\n",
    "\n",
    "\n",
    "##### parámetros: valores de entrada opcionales.\n",
    "\n",
    "\n",
    "##### docstring: texto explicativo de la función.\n",
    "\n",
    "\n",
    "##### return: envía un valor de salida al programa."
   ]
  },
  {
   "cell_type": "code",
   "execution_count": null,
   "id": "f5c29044",
   "metadata": {},
   "outputs": [
    {
     "name": "stdout",
     "output_type": "stream",
     "text": [
      "Área del rectángulo: 15\n"
     ]
    }
   ],
   "source": [
    "## diálogo (función que nos calcula el área un rectángulo) IMPORTANTE LAS 3 DOBLES COMILLAS para el docstring\n",
    "def area_rectangulo(base, altura):\n",
    "    \"\"\"\n",
    "    Calcula el área de un rectángulo.\n",
    "    \n",
    "    Parámetros:\n",
    "    base (float): La base del rectángulo.\n",
    "    altura (float): La altura del rectángulo.\n",
    "    \n",
    "    Retorna:\n",
    "    float: El área del rectángulo.\n",
    "    \"\"\"\n",
    "    return base * altura\n",
    "\n",
    "# Ejemplo de uso\n",
    "print(\"Área del rectángulo:\", area_rectangulo(5, 3))\n"
   ]
  },
  {
   "cell_type": "code",
   "execution_count": null,
   "id": "575e9bc2",
   "metadata": {},
   "outputs": [
    {
     "name": "stdout",
     "output_type": "stream",
     "text": [
      "The area of the rectangle is: 15\n"
     ]
    }
   ],
   "source": [
    "### Otra función parecida\n",
    "\n",
    "def calculate_area(length, width): ## lo de dentro de la función son los argumentos\n",
    "    \"\"\"\n",
    "    Calcula el área de un rectángulo.\n",
    "    Parámetros:\n",
    "    length (float): largo del rectángulo\n",
    "    width (float): ancho del rectángulo\n",
    "    Retorna:\n",
    "    float: área del rectángulo\n",
    "    \"\"\"\n",
    "    area = length * width\n",
    "    return area\n",
    "\n",
    "# Ejemplo de uso\n",
    "length = 5\n",
    "width = 3\n",
    "rectangle_area = calculate_area(length, width)  # Llamada a la función con entradas\n",
    "print(f\"The area of the rectangle is: {rectangle_area}\")  # Usando la salida # poner la f cuidad cuando va entre corchetes"
   ]
  },
  {
   "cell_type": "code",
   "execution_count": 2,
   "id": "91d8dd6b",
   "metadata": {},
   "outputs": [
    {
     "name": "stdout",
     "output_type": "stream",
     "text": [
      "Hola, mundo!\n",
      "Número de frutas: 3\n",
      "Hola, Fran\n",
      "<class 'int'>\n",
      "42 <class 'int'>\n",
      "3.14 <class 'float'>\n",
      "100 <class 'str'>\n"
     ]
    }
   ],
   "source": [
    "### Funciones integradas\n",
    "\n",
    "# 1. print(): mostrar resultados en la consola\n",
    "print(\"Hola, mundo!\")  \n",
    "# Salida: Hola, mundo!\n",
    "\n",
    "\n",
    "# 2. len(): contar elementos en una secuencia\n",
    "frutas = [\"manzana\", \"pera\", \"plátano\"]\n",
    "print(\"Número de frutas:\", len(frutas))  \n",
    "# Salida: Número de frutas: 3\n",
    "\n",
    "\n",
    "# 3. input(): solicitar datos al usuario (si lo pruebas, debes escribir algo)\n",
    "nombre = input(\"Escribe tu nombre: \")\n",
    "print(\"Hola,\", nombre)\n",
    "# Entrada: Juan\n",
    "# Salida: Hola, Juan\n",
    "\n",
    "\n",
    "# 4. type(): verificar el tipo de dato\n",
    "edad = 25\n",
    "print(type(edad))  \n",
    "# Salida: <class 'int'>\n",
    "\n",
    "\n",
    "# 5. int(): convertir a entero\n",
    "numero_texto = \"42\"\n",
    "numero_entero = int(numero_texto)\n",
    "print(numero_entero, type(numero_entero))\n",
    "# Salida: 42 <class 'int'>\n",
    "\n",
    "\n",
    "# 6. float(): convertir a número decimal\n",
    "numero_texto = \"3.14\"\n",
    "numero_decimal = float(numero_texto)\n",
    "print(numero_decimal, type(numero_decimal))\n",
    "# Salida: 3.14 <class 'float'>\n",
    "\n",
    "\n",
    "# 7. str(): convertir a cadena\n",
    "numero = 100\n",
    "texto = str(numero)\n",
    "print(texto, type(texto))\n",
    "# Salida: 100 <class 'str'>"
   ]
  },
  {
   "cell_type": "code",
   "execution_count": null,
   "id": "f0900ece",
   "metadata": {},
   "outputs": [
    {
     "name": "stdout",
     "output_type": "stream",
     "text": [
      "Resultado: 9.0\n"
     ]
    }
   ],
   "source": [
    "### ACTIVIDADES PRACTICAS SUGERIDAS\n",
    "\n",
    "### Calculadora sencilla con input(), operadores y print()\n",
    "\n",
    "num1 = float(input(\"Ingresa el primer número: \")) \n",
    "operador = input(\"Ingresa el operador (+, -, *, /): \")\n",
    "num2 = float(input(\"Ingresa el segundo número: \"))\n",
    "\n",
    "if operador == \"+\":\n",
    "    resultado = num1 + num2\n",
    "elif operador == \"-\":\n",
    "    resultado = num1 - num2\n",
    "elif operador == \"*\":\n",
    "    resultado = num1 * num2\n",
    "elif operador == \"/\":\n",
    "    if num2 != 0:\n",
    "        resultado = num1 / num2\n",
    "    else:\n",
    "        resultado = \"Error: División por cero\"\n",
    "else:\n",
    "    resultado = \"Operador no válido\"\n",
    "\n",
    "print(\"Resultado:\", resultado)\n",
    "\n",
    "## la salida es 9.0 porque los números son decimales con float"
   ]
  },
  {
   "cell_type": "code",
   "execution_count": 6,
   "id": "7002bdf5",
   "metadata": {},
   "outputs": [
    {
     "name": "stdout",
     "output_type": "stream",
     "text": [
      "Contraseña válida.\n"
     ]
    }
   ],
   "source": [
    "# Validación de contraseñas usando len() y type()\n",
    "# Validar contraseña\n",
    "\n",
    "password = input(\"Ingresa tu contraseña: \")\n",
    "\n",
    "if type(password) == str and len(password) >= 8: ## se pone como cadena str para que puedas poner números y letras\n",
    "    print(\"Contraseña válida.\")\n",
    "else:\n",
    "    print(\"Contraseña inválida. Debe tener al menos 8 caracteres.\")"
   ]
  },
  {
   "cell_type": "code",
   "execution_count": null,
   "id": "d97c5ee0",
   "metadata": {},
   "outputs": [
    {
     "name": "stdout",
     "output_type": "stream",
     "text": [
      "Edad al doble: 46\n",
      "Altura en cm: 166.0\n",
      "Hola Fran, tienes 23 años.\n"
     ]
    }
   ],
   "source": [
    "# Pedir datos, convertirlos y realizar operaciones\n",
    "# Solicitar datos y convertir\n",
    "\n",
    "edad = int(input(\"Ingresa tu edad: \"))      # Convertir a entero\n",
    "altura = float(input(\"Ingresa tu altura en metros: \"))  # Convertir a float\n",
    "nombre = str(input(\"Ingresa tu nombre: \"))  # Convertir a string (aunque input ya devuelve string)\n",
    "\n",
    "# Operaciones\n",
    "edad_doble = edad * 2\n",
    "altura_cm = altura * 100\n",
    "mensaje = \"Hola \" + nombre + \", tienes \" + str(edad) + \" años.\" # solo se puede cadena\n",
    "\n",
    "# Mostrar resultados\n",
    "print(\"Edad al doble:\", edad_doble)\n",
    "print(\"Altura en cm:\", altura_cm)\n",
    "print(mensaje)"
   ]
  },
  {
   "cell_type": "code",
   "execution_count": 15,
   "id": "83bac76b",
   "metadata": {},
   "outputs": [
    {
     "name": "stdout",
     "output_type": "stream",
     "text": [
      "Highest temperature: -23.8 °C\n",
      "Lowest temperature: -29.2 °C\n",
      "Average temperature: -26.4 °C\n",
      "The coldest temperature was 29.2 °C below freezing.\n"
     ]
    }
   ],
   "source": [
    "### ACTIVIDAD DE FUNCIONES INTEGRADAS\n",
    "\n",
    "## Temperaturas árticas: Diversión con las Funciones matemáticas integradas en Python\n",
    "## Ejercicio Matemático 1: Análisis de las Temperaturas Antárticas \n",
    "\n",
    "antarctic_temperatures = [-25.5, -28.0, -26.3, -23.8, -27.1, -24.9, -29.2]\n",
    "\n",
    "\n",
    "# Find the highest and lowest temperatures\n",
    "highest_temp = max(antarctic_temperatures)\n",
    "lowest_temp = min(antarctic_temperatures)\n",
    "print(\"Highest temperature:\", highest_temp, \"°C\")\n",
    "print(\"Lowest temperature:\", lowest_temp, \"°C\")\n",
    "\n",
    "\n",
    "# Calculate the average temperature\n",
    "average_temp = round(sum(antarctic_temperatures)/len(antarctic_temperatures), 1) ## redondear a un decimal\n",
    "print(\"Average temperature:\", average_temp, \"°C\")\n",
    "\n",
    "\n",
    "# Find the absolute value of the coldest temperature\n",
    "coldest_temp_abs = abs(lowest_temp) \n",
    "print(\"The coldest temperature was\", coldest_temp_abs, \"°C below freezing.\")\n"
   ]
  },
  {
   "cell_type": "code",
   "execution_count": 9,
   "id": "66f9f78c",
   "metadata": {},
   "outputs": [
    {
     "name": "stdout",
     "output_type": "stream",
     "text": [
      "float_value type: <class 'float'>\n",
      "Integer addition: Adding text_value_as_int (33) to int_value (15): 48\n",
      "Text addition: Adding text_value (33) to int_value_as_text (15): 3315\n"
     ]
    }
   ],
   "source": [
    "## Conversiones de texto: Funciones integradas de conversión en Python\n",
    "\n",
    "int_value = 15\n",
    "float_value = 4.1\n",
    "text_value = \"33\"\n",
    "\n",
    "\n",
    "type_of_float_value = type(float_value)\n",
    "\n",
    "\n",
    "# Convert text_value to an integer\n",
    "text_value_as_int = int(text_value)\n",
    "\n",
    "\n",
    "# Convert int_value to text\n",
    "int_value_as_text = str(int_value)\n",
    "\n",
    "\n",
    "# DO NOT CHANGE LINES BELOW\n",
    "# Print the type of float_value\n",
    "print(\"float_value type:\", type_of_float_value)\n",
    "\n",
    "\n",
    "# Adding text_value_as_int to int_value\n",
    "print(\"Integer addition: Adding text_value_as_int (33) to int_value (15):\", text_value_as_int + int_value)\n",
    "\n",
    "\n",
    "# Adding (concatenating) text values\n",
    "print(\"Text addition: Adding text_value (33) to int_value_as_text (15):\", text_value + int_value_as_text)"
   ]
  },
  {
   "cell_type": "code",
   "execution_count": 21,
   "id": "d6ce2d5a",
   "metadata": {},
   "outputs": [
    {
     "name": "stdout",
     "output_type": "stream",
     "text": [
      "3.0\n"
     ]
    }
   ],
   "source": [
    "### Ámbito local: variables con alcance limitado\n",
    "\n",
    "def calculate_average(numbers):\n",
    "    \n",
    "    total = 0           # Variable local\n",
    "    count = len(numbers) # Variable local\n",
    "    \n",
    "    for num in numbers:\n",
    "        total += num   ## total = total + num\n",
    "    average = total / count\n",
    "    return average\n",
    "\n",
    "print(calculate_average([2, 5, 4, 1]))\n"
   ]
  },
  {
   "cell_type": "code",
   "execution_count": 22,
   "id": "6cd4f55b",
   "metadata": {},
   "outputs": [
    {
     "name": "stdout",
     "output_type": "stream",
     "text": [
      "Welcome to GLOBAL TECH SOLUTIONS\n",
      "Contact Global Tech Solutions at info@globaltechsolutions.com\n"
     ]
    }
   ],
   "source": [
    "### Ámbito global: variables con acceso universal\n",
    "\n",
    "# Variable global\n",
    "COMPANY_NAME = \"Global Tech Solutions\"\n",
    "\n",
    "def print_welcome_message():\n",
    "    print(\"Welcome to\", COMPANY_NAME.upper()) ## con .upper() trasformas Global Tech Solutions en mayúsculas\n",
    "\n",
    "def print_contact_info():\n",
    "    print(\"Contact\", COMPANY_NAME, \"at info@globaltechsolutions.com\") \n",
    "\n",
    "print_welcome_message()\n",
    "print_contact_info()\n"
   ]
  },
  {
   "cell_type": "code",
   "execution_count": null,
   "id": "ac75badd",
   "metadata": {},
   "outputs": [
    {
     "name": "stdout",
     "output_type": "stream",
     "text": [
      "Hello from the outer function!\n"
     ]
    }
   ],
   "source": [
    "### Ámbitos anidados y ámbitos envolventes (enclosing)\n",
    "\n",
    "def outer_function():\n",
    "    outer_var = \"Hello from the outer function!\"\n",
    "    def inner_function():\n",
    "        print(outer_var)  # Accesible desde el ámbito envolvente (desde la segunda función puedes acceder a outer_var (aunque no sea global) de la primera porque la segunda función está dentro de la primera \n",
    "    inner_function()\n",
    "\n",
    "outer_function()"
   ]
  },
  {
   "cell_type": "code",
   "execution_count": 27,
   "id": "8215e635",
   "metadata": {},
   "outputs": [
    {
     "name": "stdout",
     "output_type": "stream",
     "text": [
      "1\n"
     ]
    }
   ],
   "source": [
    "## Modificación de variables globales con precaución (antes counter era 0 y ahora es 1)\n",
    "\n",
    "counter = 0 # variable global\n",
    "\n",
    "def increment():\n",
    "    global counter\n",
    "    counter += 1\n",
    "\n",
    "increment()\n",
    "print(counter)  # 1"
   ]
  },
  {
   "cell_type": "markdown",
   "id": "5acae5f0",
   "metadata": {},
   "source": [
    "CONSIDERACIONES IMPORTANTES EN LO QUE VIENE AHORA: PONER f en print y return cuando hay self.algo"
   ]
  },
  {
   "cell_type": "code",
   "execution_count": null,
   "id": "02059a08",
   "metadata": {},
   "outputs": [
    {
     "name": "stdout",
     "output_type": "stream",
     "text": [
      "Héroe 100\n",
      "Villano 25\n"
     ]
    }
   ],
   "source": [
    "### IMPORTANCIA DE LAS CLASES EN PYTHON \n",
    "\n",
    "### 1. Organización\n",
    "\n",
    "class Character: ## definir la clase\n",
    "    def __init__(self, name, health, strength, speed): ## construir los atributos de los personajes con def __init__ (self importante porque será los atributos del objeto en concreto) se usa el self para acceder a atributos.\n",
    "        self.name = name\n",
    "        self.health = health\n",
    "        self.strength = strength\n",
    "        self.speed = speed\n",
    "\n",
    "# Crear personajes (objetos)\n",
    "hero = Character(\"Héroe\", 100, 20, 10)\n",
    "villain = Character(\"Villano\", 120, 25, 8)\n",
    "\n",
    "print(hero.name, hero.health)\n",
    "print(villain.name, villain.strength)\n",
    "\n"
   ]
  },
  {
   "cell_type": "code",
   "execution_count": null,
   "id": "328c7b77",
   "metadata": {},
   "outputs": [
    {
     "name": "stdout",
     "output_type": "stream",
     "text": [
      "700\n"
     ]
    }
   ],
   "source": [
    "### 2. Reutilización (Una clase permite crear múltiples objetos sin reescribir código.)\n",
    "\n",
    "#  Ejemplo: cuentas de banco.\n",
    "\n",
    "class BankAccount:\n",
    "    def __init__(self, owner, balance=0):\n",
    "        self.owner = owner\n",
    "        self.balance = balance\n",
    "\n",
    "    def deposit(self, amount): ## métodos (comportamientos)\n",
    "        self.balance += amount\n",
    "\n",
    "    def withdraw(self, amount): ## métodos (comportamientos)\n",
    "        self.balance -= amount\n",
    "\n",
    "# Crear instancias\n",
    "my_account = BankAccount(\"Alice\", 500) #owner y balance\n",
    "your_account = BankAccount(\"Bob\", 300)\n",
    "\n",
    "my_account.deposit(200) # amount en depósito\n",
    "\n",
    "print(my_account.balance)  # 700 = 500 de balance + 200 del depósito\n"
   ]
  },
  {
   "cell_type": "code",
   "execution_count": null,
   "id": "b2d20fc1",
   "metadata": {},
   "outputs": [
    {
     "name": "stdout",
     "output_type": "stream",
     "text": [
      "1500\n"
     ]
    }
   ],
   "source": [
    "### 3. Encapsulación (Se usa un guion bajo _ para indicar atributos privados, protegidos contra modificaciones directas.)\n",
    "\n",
    "class BankAccount:\n",
    "    def __init__(self, balance):\n",
    "        self._balance = balance  # atributo privado\n",
    "\n",
    "    def deposit(self, amount):\n",
    "        self._balance += amount\n",
    "\n",
    "    def get_balance(self):\n",
    "        return self._balance\n",
    "\n",
    "account = BankAccount(1000) # 1000 de balance\n",
    "account.deposit(500) # 500 de deposit\n",
    "print(account.get_balance())  # 1500 # te da el return\n",
    "\n",
    "# (Acceder directamente con account._balance es posible, pero rompe la encapsulación.)\n"
   ]
  },
  {
   "cell_type": "code",
   "execution_count": null,
   "id": "02e8fc33",
   "metadata": {},
   "outputs": [
    {
     "name": "stdout",
     "output_type": "stream",
     "text": [
      "Bark!\n"
     ]
    }
   ],
   "source": [
    "### 4. 4. Abstracción\n",
    "# Permite centrarse en qué hace un objeto y no en cómo lo hace.\n",
    "# Se implementa con clases abstractas (módulo abc).\n",
    "\n",
    "from abc import ABC, abstractmethod\n",
    "\n",
    "class Animal(ABC):  # Clase abstracta\n",
    "    @abstractmethod\n",
    "    def make_sound(self):\n",
    "        pass\n",
    "\n",
    "class Dog(Animal):  # Subclase concreta\n",
    "    def make_sound(self):\n",
    "        return \"Bark!\"\n",
    "\n",
    "dog = Dog()\n",
    "print(dog.make_sound())  # Bark!  #te devuleve en morado el return\n",
    "\n"
   ]
  },
  {
   "cell_type": "code",
   "execution_count": null,
   "id": "14bda233",
   "metadata": {},
   "outputs": [
    {
     "name": "stdout",
     "output_type": "stream",
     "text": [
      "The 2020 Toyota Corolla's engine roars to life!\n",
      "The blue Toyota Corolla picks up speed! Fuel: 95%\n",
      "The Toyota Corolla slows down.\n",
      "Refueled to 100%\n"
     ]
    }
   ],
   "source": [
    "# Ejemplo completo (clase Car funcional)\n",
    "\n",
    "class Car:\n",
    "    def __init__(self, make, model, year, color):\n",
    "        self.make = make\n",
    "        self.model = model\n",
    "        self.year = year\n",
    "        self.color = color\n",
    "        self.fuel_level = 100\n",
    "\n",
    "    def start_engine(self):\n",
    "        print(f\"The {self.year} {self.make} {self.model}'s engine roars to life!\") # PONER f en print y return cuando hay self.algo\n",
    "\n",
    "    def accelerate(self):\n",
    "        if self.fuel_level > 0:\n",
    "            self.fuel_level -= 5 ## 100 - 5\n",
    "            print(f\"The {self.color} {self.make} {self.model} picks up speed! Fuel: {self.fuel_level}%\")\n",
    "        else:\n",
    "            print(\"Cannot accelerate: no fuel!\")\n",
    "\n",
    "    def brake(self):\n",
    "        print(f\"The {self.make} {self.model} slows down.\")\n",
    "\n",
    "    def refuel(self, amount):\n",
    "        self.fuel_level = min(100, self.fuel_level + amount)\n",
    "        print(f\"Refueled to {self.fuel_level}%\")\n",
    "\n",
    "# Uso\n",
    "mi_coche = Car(\"Toyota\", \"Corolla\", 2020, \"blue\")\n",
    "mi_coche.start_engine()\n",
    "mi_coche.accelerate()\n",
    "mi_coche.brake()\n",
    "mi_coche.refuel(30)\n",
    "\n"
   ]
  },
  {
   "cell_type": "code",
   "execution_count": null,
   "id": "49106ea0",
   "metadata": {},
   "outputs": [],
   "source": [
    "### ANATOMÍA DE UNA CLASE ### SOLO TEORÍA\n",
    "\n",
    "\n",
    "# Las clases son moldes para crear objetos. Agrupan atributos (estado) y métodos (comportamiento). A continuación tienes los componentes clave y ejemplos de código.\n",
    "# 1. Definición de la clase\n",
    "\n",
    "# Se usa la palabra clave class y, por convención, el nombre en CamelCase.\n",
    "\n",
    "class Car:\n",
    "    # ... (class contents)\n",
    "\n",
    "# 2. Atributos (datos)\n",
    "# Los atributos describen el estado de cada objeto. Normalmente se inicializan en el constructor __init__.\n",
    "\n",
    "class Car:\n",
    "    def __init__(self, make, model, year, color):\n",
    "        self.make = make\n",
    "        self.model = model\n",
    "        self.year = year\n",
    "        self.color = color\n",
    "        self.fuel_level = 100  # Initial fuel level\n",
    "\n",
    "# Cada instancia de Car tendrá su propio make, model, year, color y fuel_level.\n",
    "\n",
    "# 3. Métodos (comportamientos)\n",
    "# Los métodos son funciones dentro de la clase que manipulan atributos o realizan acciones. self referencia al objeto actual.\n",
    "\n",
    "class Car:\n",
    "    # ... (attributes) PONER f en print y return cuando hay self.algo\n",
    "\n",
    "    def start_engine(self):\n",
    "        print(f\"The {self.year} {self.make} {self.model}'s engine roars to life!\")\n",
    "\n",
    "    def accelerate(self):\n",
    "        print(f\"The {self.color} {self.make} {self.model} picks up speed!\")\n",
    "\n",
    "    def brake(self):\n",
    "        print(f\"The {self.make} {self.model} slows down.\")\n",
    "\n",
    "# Observa cómo los métodos usan self.attribute_name para acceder a los atributos del objeto.\n",
    "\n",
    "# 4. __init__: el constructor\n",
    "# __init__ se ejecuta automáticamente al crear una instancia y garantiza que el objeto empiece con un estado válido.\n",
    "\n",
    "class Car:\n",
    "    def __init__(self, make, model, year, color):\n",
    "        # Inicializa atributos\n",
    "        self.make = make\n",
    "        self.model = model\n",
    "        self.year = year\n",
    "        self.color = color\n",
    "        self.fuel_level = 100"
   ]
  },
  {
   "cell_type": "code",
   "execution_count": null,
   "id": "335b67b7",
   "metadata": {},
   "outputs": [
    {
     "name": "stdout",
     "output_type": "stream",
     "text": [
      "Simba León dorado\n",
      "¡Roooar!\n"
     ]
    }
   ],
   "source": [
    "### EJEMPLO DE UNA CLASE PERSONALIZADA COMPLETA\n",
    "\n",
    "class Animal: ## definir la clase\n",
    "    def __init__(self, name, species): ## atributos\n",
    "        self.name = name\n",
    "        self.species = species\n",
    "\n",
    "    def make_sound(self): ## métodos\n",
    "        return \"Este animal hace un sonido.\"\n",
    "\n",
    "# Herencia: León como clase hija\n",
    "class Lion(Animal):\n",
    "    def __init__(self, name, age, mane_color): ## def __init__ es el constructor (se ejecuta automáticamente al crear una instancia y garantiza que el objeto empiece con un estado válido.)\n",
    "        super().__init__(name, \"León\")\n",
    "        self.age = age\n",
    "        self.mane_color = mane_color\n",
    "\n",
    "    def make_sound(self):\n",
    "        return \"¡Roooar!\"\n",
    "\n",
    "# Crear objetos\n",
    "simba = Lion(\"Simba\", 5, \"dorado\")\n",
    "print(simba.name, simba.species, simba.mane_color)\n",
    "print(simba.make_sound())\n"
   ]
  },
  {
   "cell_type": "code",
   "execution_count": 4,
   "id": "825d9167",
   "metadata": {},
   "outputs": [
    {
     "name": "stdout",
     "output_type": "stream",
     "text": [
      "Woof! My name is Buddy and I'm a Golden Retriever.\n"
     ]
    }
   ],
   "source": [
    "### EJEMPLO PERSONAL\n",
    "\n",
    "class Dog:\n",
    "    def __init__(self, name, breed):\n",
    "        self.name = name\n",
    "        self.breed = breed\n",
    "    def bark(self):\n",
    "        print(f\"Woof! My name is {self.name} and I'm a {self.breed}.\") # PONER f en print y return cuando hay self.algo\n",
    "        \n",
    "# Creating the instance of the Dog class (step 4)\n",
    "my_dog = Dog(\"Buddy\", \"Golden Retriever\")\n",
    "# Directing the dog to bark (step 5)\n",
    "my_dog.bark()"
   ]
  },
  {
   "cell_type": "code",
   "execution_count": null,
   "id": "9ec0fc0e",
   "metadata": {},
   "outputs": [
    {
     "data": {
      "text/plain": [
       "\"Woof! My name is Buddy and I'm a Golden Retriever.\""
      ]
     },
     "execution_count": 37,
     "metadata": {},
     "output_type": "execute_result"
    }
   ],
   "source": [
    "### EJEMPLO PERSONAL con return\n",
    "\n",
    "class Dog:\n",
    "    def __init__(self, name, breed):\n",
    "        self.name = name\n",
    "        self.breed = breed\n",
    "    def bark(self):\n",
    "        return f\"Woof! My name is {self.name} and I'm a {self.breed}.\" # PONER f en print y return cuando hay self.algo\n",
    "        \n",
    "# Creating the instance of the Dog class (step 4)\n",
    "my_dog = Dog(\"Buddy\", \"Golden Retriever\")\n",
    "# Directing the dog to bark (step 5)\n",
    "my_dog.bark()"
   ]
  },
  {
   "cell_type": "code",
   "execution_count": 2,
   "id": "1cd17675",
   "metadata": {},
   "outputs": [],
   "source": [
    "### BUENAS PRÁCTICAS\n",
    "\n",
    "# Funciones booleanas: usar prefijos como is_, has_, can_.\n",
    "\n",
    "def is_valid_email(email):\n",
    "    # ... (Lógica de validación)\n",
    "    return True  # O False, según la validación\n",
    "\n",
    "def has_sufficient_balance(account):\n",
    "    # ... (Lógica de comprobación de saldo)\n",
    "    return True  # O False, según el saldo\n",
    "\n",
    "def can_access_resource(user, resource):\n",
    "    # ... (Lógica de permisos)\n",
    "    return True  # O False"
   ]
  },
  {
   "cell_type": "code",
   "execution_count": 16,
   "id": "2aa38c85",
   "metadata": {},
   "outputs": [
    {
     "name": "stdout",
     "output_type": "stream",
     "text": [
      "El pago es de: 5.368216230121397\n"
     ]
    }
   ],
   "source": [
    "### Añadir docstring para explicar la función\n",
    "\n",
    "def calculate_monthly_payment(principal: float, interest_rate: float, loan_term_years: int) -> float:\n",
    "    \"\"\"\n",
    "    Calculates the monthly payment for a fixed-rate loan.\n",
    "\n",
    "    Args:\n",
    "        principal (float): The total amount borrowed.\n",
    "        interest_rate (float): The annual interest rate (as a decimal).\n",
    "        loan_term_years (int): The loan term in years.\n",
    "\n",
    "    Returns:\n",
    "        float: The fixed monthly payment.\n",
    "\n",
    "    Raises:\n",
    "        ValueError: If interest_rate is negative or loan_term_years <= 0.\n",
    "\n",
    "    Example:\n",
    "        >>> calculate_monthly_payment(100000, 0.05, 30)\n",
    "        536.82\n",
    "    \"\"\"\n",
    "    # Ejemplo de implementación básica\n",
    "    monthly_rate = interest_rate / 12\n",
    "    months = loan_term_years * 12\n",
    "    payment = principal * (monthly_rate * (1 + monthly_rate) ** months) / ((1 + monthly_rate) ** months - 1)\n",
    "    return payment\n",
    "\n",
    "# Example\n",
    "cálculo = calculate_monthly_payment(1000, 0.05, 30)\n",
    "print(\"El pago es de:\", cálculo)\n",
    "\n"
   ]
  },
  {
   "cell_type": "code",
   "execution_count": 2,
   "id": "9feeee88",
   "metadata": {},
   "outputs": [
    {
     "data": {
      "text/plain": [
       "2.8"
      ]
     },
     "execution_count": 2,
     "metadata": {},
     "output_type": "execute_result"
    }
   ],
   "source": [
    "# Ejemplo de mala práctica\n",
    "\n",
    "global_sum = 0  # Variable global\n",
    "\n",
    "def calculate_mean_with_side_effect(numbers):\n",
    "    global global_sum  # Modifica la variable global y no queremos eso\n",
    "    global_sum = sum(numbers)\n",
    "    return global_sum / len(numbers)\n",
    "\n",
    "calculate_mean_with_side_effect([5, 3, 4, 1, 1])\n",
    "# Resultado: 2.8\n"
   ]
  },
  {
   "cell_type": "code",
   "execution_count": 3,
   "id": "994d9fa3",
   "metadata": {},
   "outputs": [
    {
     "data": {
      "text/plain": [
       "2.8"
      ]
     },
     "execution_count": 3,
     "metadata": {},
     "output_type": "execute_result"
    }
   ],
   "source": [
    "# Ejemplo de buena práctica\n",
    "\n",
    "def calculate_mean(numbers):\n",
    "    \"\"\"Calculates the mean of a list of numbers.\"\"\"\n",
    "    return sum(numbers) / len(numbers)\n",
    "\n",
    "calculate_mean([5, 3, 4, 1, 1])\n",
    "# Resultado: 2.8\n"
   ]
  },
  {
   "cell_type": "code",
   "execution_count": 5,
   "id": "c7150228",
   "metadata": {},
   "outputs": [
    {
     "name": "stdout",
     "output_type": "stream",
     "text": [
      "14\n",
      "-1\n",
      "5.0\n",
      "2000000\n",
      "0\n"
     ]
    }
   ],
   "source": [
    "# Ejemplo mío\n",
    "\n",
    "def calculate_diameter_circle(radius: float) -> float:\n",
    "    \"\"\"\n",
    "    Debe calcular el diámetro de un círculo (diámetro = radius * 2) y devolverlo. \n",
    "    ASí como no hay ningún requisito para que el radio sea un número entero, usted debe asumir un retorno de float. \n",
    "    Se le han dado instrucciones de que si el usuario envía un radio negativo, la función debe devolver -1 para indicar un error, ya que un radio negativo no es una situación común.\n",
    "    \"\"\"\n",
    "    \n",
    "    diameter = radius*2\n",
    "    \n",
    "    if radius >= 0:\n",
    "        return diameter\n",
    "    else:\n",
    "        return -1 #es como valor de error\n",
    "### Ejemplo\n",
    "\n",
    "diameter_1 = calculate_diameter_circle(7)\n",
    "print(diameter_1)\n",
    "\n",
    "diameter_2 = calculate_diameter_circle(-3)\n",
    "print(diameter_2)\n",
    "\n",
    "diameter_3 = calculate_diameter_circle(2.5)\n",
    "print(diameter_3)\n",
    "\n",
    "diameter_4 = calculate_diameter_circle(1000000)\n",
    "print(diameter_4)\n",
    "\n",
    "diameter_4 = calculate_diameter_circle(0)\n",
    "print(diameter_4)\n",
    "\n"
   ]
  },
  {
   "cell_type": "code",
   "execution_count": 35,
   "id": "f07dad58",
   "metadata": {},
   "outputs": [
    {
     "name": "stdout",
     "output_type": "stream",
     "text": [
      "Happy Birthday!\n"
     ]
    }
   ],
   "source": [
    "### ACTIVIDADES Escenario: Alcance de funciones\n",
    "\n",
    "# Ejercicio 1: Sin parámetros, sin valor de retorno\n",
    "\n",
    "def happy_birthday():\n",
    "    \"happy_birthday no tiene parámetros\"\n",
    "    print(\"Happy Birthday!\")\n",
    "\n",
    "# Code to call the function\n",
    "happy_birthday()"
   ]
  },
  {
   "cell_type": "code",
   "execution_count": null,
   "id": "88705b5a",
   "metadata": {},
   "outputs": [
    {
     "name": "stdout",
     "output_type": "stream",
     "text": [
      "Happy Birthday Nora and congratulations on turning 22 years old!\n"
     ]
    }
   ],
   "source": [
    "# Ejercicio 2: Parámetros, pero sin valor de retorno \n",
    "\n",
    "def happy_birthday(age, name):\n",
    "\n",
    "    print(\"Happy Birthday\", name, \"and congratulations on turning\", age,  \"years old!\")\n",
    "\n",
    "    \n",
    "# Code to call the function\n",
    "happy_birthday(22, \"Nora\") "
   ]
  },
  {
   "cell_type": "code",
   "execution_count": 18,
   "id": "ca6b81ff",
   "metadata": {},
   "outputs": [
    {
     "name": "stdout",
     "output_type": "stream",
     "text": [
      "Your lucky number is: 71\n"
     ]
    }
   ],
   "source": [
    "# Ejercicio 3: Sin parámetros, pero con valor de retorno\n",
    "\n",
    "import random\n",
    "\n",
    "def get_lucky_number():\n",
    "  lucky_num = random.randint(1,100)\n",
    "  return lucky_num\n",
    "\n",
    "# Get a lucky number between 1 and 100\n",
    "lucky_number = get_lucky_number()\n",
    "\n",
    "print(\"Your lucky number is:\", lucky_number)"
   ]
  },
  {
   "cell_type": "code",
   "execution_count": 22,
   "id": "b402e738",
   "metadata": {},
   "outputs": [
    {
     "name": "stdout",
     "output_type": "stream",
     "text": [
      "Member price: 127.92\n",
      "Non-member price: 142.97\n"
     ]
    }
   ],
   "source": [
    "# Ejercicio 4: Parámetros y valor de retorno  \n",
    "\n",
    "def calc_sale_price(amount, member):\n",
    "\tif member:\n",
    "\t\t# Members receive a 15% discount (0.15)\n",
    "\t\tamount = amount - (amount * 0.15)\n",
    "\telse:\n",
    "\t\t# Non-members get a 5% discount (0.05)\n",
    "\t\tamount = amount - (amount * 0.05)\n",
    "\n",
    "\t# Round amount to two decimal places\n",
    "\t# Save back in the amount variable\n",
    "\tamount = round(amount, 2)\n",
    "\n",
    "\t# Return amount to the main program\n",
    "\treturn amount\n",
    "\n",
    "# Example price (already provided)\n",
    "full_price = 150.50\n",
    "\n",
    "# Call function for members\n",
    "member_price = calc_sale_price(full_price, True)\n",
    "print(\"Member price:\",member_price)\n",
    "\n",
    "# Call function for non-members\n",
    "non_member_price = calc_sale_price(full_price, False)\n",
    "print(\"Non-member price:\",non_member_price)"
   ]
  },
  {
   "cell_type": "code",
   "execution_count": 31,
   "id": "f3b6f06d",
   "metadata": {},
   "outputs": [
    {
     "name": "stdout",
     "output_type": "stream",
     "text": [
      "First shirt color is: Pink\n",
      "Your shirt color is: Pink\n"
     ]
    }
   ],
   "source": [
    "# Ejercicio 5: Ámbito de aplicación\n",
    "\n",
    "shirt_color = 'Pink' # se define fuera para no causar error\n",
    "\n",
    "def display_color_works():\n",
    "  print(\"First shirt color is:\", shirt_color)\n",
    "  \n",
    "def display_color_failure():\n",
    "  # Try to access 'color' directly (this will cause an error)\n",
    "  print(\"Your shirt color is:\", shirt_color)\n",
    "\n",
    "# The shirt_color variable is in scope in this function\n",
    "display_color_works()\n",
    "\n",
    "# The shirt_color variable is not in scope in this function\n",
    "display_color_failure()"
   ]
  },
  {
   "cell_type": "code",
   "execution_count": null,
   "id": "78c51c1b",
   "metadata": {},
   "outputs": [
    {
     "name": "stdout",
     "output_type": "stream",
     "text": [
      "First shirt color is: Pink\n"
     ]
    }
   ],
   "source": [
    "# EXERCISE 5: SOLUTION # simplemente quita el failure ####### OTRA FORMA DE HACERLO ############\n",
    "def display_color_failure():\n",
    "  # Try to access 'color' directly (this will cause an error)\n",
    "  print(\"Your shirt color is:\", shirt_color)\n",
    "\n",
    "def display_color_works():\n",
    "  shirt_color = \"Pink\"\n",
    "  print(\"First shirt color is:\", shirt_color)\n",
    "\n",
    "# The shirt_color variable is in scope in this function\n",
    "display_color_works()\n",
    "\n",
    "# The shirt_color variable is not in scope in this function\n",
    "#display_color_failure()"
   ]
  },
  {
   "cell_type": "code",
   "execution_count": null,
   "id": "e4923785",
   "metadata": {},
   "outputs": [
    {
     "ename": "ModuleNotFoundError",
     "evalue": "No module named 'menus'",
     "output_type": "error",
     "traceback": [
      "\u001b[31m---------------------------------------------------------------------------\u001b[39m",
      "\u001b[31mModuleNotFoundError\u001b[39m                       Traceback (most recent call last)",
      "\u001b[36mCell\u001b[39m\u001b[36m \u001b[39m\u001b[32mIn[34]\u001b[39m\u001b[32m, line 3\u001b[39m\n\u001b[32m      1\u001b[39m \u001b[38;5;66;03m# Ejercicio 6: Importar un módulo  \u001b[39;00m\n\u001b[32m      2\u001b[39m \u001b[38;5;66;03m# import the menus module (menus.py needs to exist)\u001b[39;00m\n\u001b[32m----> \u001b[39m\u001b[32m3\u001b[39m \u001b[38;5;28;01mimport\u001b[39;00m\u001b[38;5;250m \u001b[39m\u001b[34;01mmenus\u001b[39;00m\n\u001b[32m      5\u001b[39m \u001b[38;5;66;03m# Call the display_menu function in the menus module\u001b[39;00m\n\u001b[32m      6\u001b[39m user_choice = menus.display_menu()\n",
      "\u001b[31mModuleNotFoundError\u001b[39m: No module named 'menus'"
     ]
    }
   ],
   "source": [
    "# Ejercicio 6: Importar un módulo  \n",
    "# import the menus module (menus.py needs to exist)\n",
    "import menus\n",
    "\n",
    "# Call the display_menu function in the menus module\n",
    "user_choice = menus.display_menu()\n",
    "\n",
    "print(user_choice)\n",
    "\n",
    "# se supone que debería de mostrar Well done, your code is working correctly. Pero no lo muestra porque no tenemos el archivo menus.py"
   ]
  },
  {
   "cell_type": "code",
   "execution_count": null,
   "id": "bceb611a",
   "metadata": {},
   "outputs": [],
   "source": [
    "# Resolución de problemas con funciones\n",
    "\n",
    "# EJEMPLO DE VALIDACIÓN DE LONGITUD DE TWEETS\n",
    "\n",
    "def is_valid_tweet_length(tweet_text):\n",
    "    \"\"\"Valida la longitud del tweet.\"\"\"\n",
    "    if not tweet_text:\n",
    "        return False  # El tweet no puede estar vacío\n",
    "    if len(tweet_text) > 280:\n",
    "        return False  # El tweet es demasiado largo (más de 280 caracteres)\n",
    "    return True\n",
    "\n",
    "# EJEMPLO DE VALIDACIÓN DE ARCHIVOS MULTIMEDIA\n",
    "\n",
    "def are_valid_media_files(media_files):\n",
    "    \"\"\"Valida los archivos multimedia (comprobación básica).\"\"\"\n",
    "    if media_files is None:\n",
    "        return True  # No pasa nada si no hay archivos multimedia\n",
    "    elif isinstance(media_files, list):\n",
    "        return True  # Una lista de archivos es válida en esta comprobación básica\n",
    "    else:\n",
    "        return False  # Cualquier otro formato no es válido\n",
    "    \n",
    "    # En lugar de un post_tweet() enorme y desordenado, se divide en funciones más pequeñas:\n",
    "\n",
    "     # is_valid_tweet_length() → valida longitud.\n",
    "\n",
    "     # are_valid_media_files() → valida archivos multimedia.\n",
    "\n"
   ]
  },
  {
   "cell_type": "code",
   "execution_count": null,
   "id": "81d66459",
   "metadata": {},
   "outputs": [],
   "source": [
    "# Análisis de reseñas de restaurantes (la idea es dividir todo en funciones que solo hagan una tarea y la hagan bien)\n",
    "\n",
    "from textblob import TextBlob\n",
    "from nltk.corpus import stopwords\n",
    "from collections import Counter\n",
    "\n",
    "# limpia y normaliza el texto.\n",
    "def preprocess_review(review):\n",
    "    \"\"\"Removes stopwords, punctuation, and converts to lowercase.\"\"\"\n",
    "    # ... (Implementation details)\n",
    "    return preprocessed_review\n",
    "\n",
    "# mide polaridad (-1 a 1) (positivo/negativo) y subjetividad (0 a 1) (muy objetiva/muy subjetiva).\n",
    "def analyze_sentiment(preprocessed_review):\n",
    "    \"\"\"Calculates polarity and subjectivity using TextBlob.\"\"\"\n",
    "    # ... (Implementation details)\n",
    "    return polarity, subjectivity\n",
    "\n",
    "# identifica aspectos clave (ej. “servicio”, “rápido”).\n",
    "def extract_keywords(preprocessed_review):\n",
    "    \"\"\"Identifies the most frequent nouns and adjectives.\"\"\"\n",
    "    # ... (Implementation details using NLTK)\n",
    "    return keywords\n",
    "\n",
    "# clasifica como positiva, negativa o neutra según reglas.\n",
    "def categorize_review(polarity, subjectivity, keywords):\n",
    "    \"\"\"Classifies reviews based on polarity, subjectivity, and keywords.\"\"\"\n",
    "    # ... (Implementation details with custom rules)\n",
    "    return category\n"
   ]
  },
  {
   "cell_type": "code",
   "execution_count": null,
   "id": "63bb62d5",
   "metadata": {},
   "outputs": [
    {
     "name": "stdout",
     "output_type": "stream",
     "text": [
      "25°C is equal to 77.0°F\n",
      "77°F is equal to 25.0°C\n"
     ]
    }
   ],
   "source": [
    "# ACTIVIDAD Bloque de código funcional: Herramienta de conversión de temperatura (3 funciones) ### MUY BUEN EJERCICIO\n",
    "\n",
    "\n",
    "def celsius_to_fahrenheit(celsius: float) -> float:\n",
    "    \"\"\" Toma una temperatura en grados Celsius y la convierte a grados Fahrenheit.\"\"\"\n",
    "    fahrenheit = (celsius * 9/5) + 32\n",
    "    return fahrenheit\n",
    "\n",
    "def fahrenheit_to_celsius(fahrenheit: float) -> float:\n",
    "    \"\"\" Toma una temperatura en Fahrenheit y la convierte a Celsius.\"\"\"\n",
    "    celsius = (fahrenheit - 32) * 5/9\n",
    "    return celsius\n",
    "\n",
    "def convert_temperature(temperature, unit): # función 3\n",
    "    \"\"\"Toma un valor de temperatura y una unidad ('C' para Celsius o 'F' para Fahrenheit). Llama a la función de conversión apropiada basada en la unidad y devuelve la temperatura convertida.\"\"\"\n",
    "    if unit == \"C\":\n",
    "        return celsius_to_fahrenheit(temperature) ## llama a la función 1 con el argumento de temperatura\n",
    "    elif unit == \"F\":\n",
    "        return fahrenheit_to_celsius(temperature) ## ## llama a la función 2 con el argumento de temperatura\n",
    "    else:\n",
    "        print(\"Introduce C o F\")\n",
    "        \n",
    "# EJEMPLO DE USO\n",
    "\n",
    "temperature_c = 25\n",
    "temperature_f = 77\n",
    "\n",
    "converted_f = convert_temperature(temperature_c, 'C')\n",
    "converted_c = convert_temperature(temperature_f, 'F')\n",
    "\n",
    "print(f\"{temperature_c}°C is equal to {converted_f}°F\")\n",
    "print(f\"{temperature_f}°F is equal to {converted_c}°C\")"
   ]
  },
  {
   "cell_type": "code",
   "execution_count": 13,
   "id": "4383fa73",
   "metadata": {},
   "outputs": [
    {
     "name": "stdout",
     "output_type": "stream",
     "text": [
      "1\n",
      "15\n"
     ]
    }
   ],
   "source": [
    "# Valores por defecto en funciones: Los parámetros por defecto permiten manejar casos comunes sin necesidad de escribir varias funciones.\n",
    "\n",
    "def calculate_area(width=1, height=1):\n",
    "    \"\"\"Calcula el área de un rectángulo, con valores por defecto de 1x1.\"\"\"\n",
    "    area = width * height\n",
    "    return area\n",
    "\n",
    "# Uso sin argumentos → cuadrado 1x1\n",
    "result = calculate_area()\n",
    "print(result)  # Output: 1\n",
    "\n",
    "# Uso con valores → rectángulo 5x3\n",
    "result = calculate_area(5, 3)\n",
    "print(result)  # Output: 15"
   ]
  },
  {
   "cell_type": "code",
   "execution_count": 14,
   "id": "67dafc81",
   "metadata": {},
   "outputs": [
    {
     "name": "stdout",
     "output_type": "stream",
     "text": [
      "Hello Alice\n",
      "Good morning Bob\n",
      "Howdy Carol\n"
     ]
    }
   ],
   "source": [
    "# Parámetros opcionales: Son aquellos que tienen un valor por defecto, lo que los hace flexibles.\n",
    "\n",
    "def greet(name, greeting=\"Hello\"):\n",
    "    \"\"\"Saluda a una persona con un mensaje opcional.\"\"\"\n",
    "    print(greeting, name)\n",
    "\n",
    "# Caso usando el valor por defecto\n",
    "greet(\"Alice\")  \n",
    "# Output: Hello Alice\n",
    "\n",
    "# Personalizando el saludo\n",
    "greet(\"Bob\", \"Good morning\")  \n",
    "# Output: Good morning Bob\n",
    "\n",
    "greet(\"Carol\", \"Howdy\")  \n",
    "# Output: Howdy Carol\n"
   ]
  },
  {
   "cell_type": "code",
   "execution_count": 17,
   "id": "b7b6c68d",
   "metadata": {},
   "outputs": [
    {
     "name": "stdout",
     "output_type": "stream",
     "text": [
      "Salutations David\n"
     ]
    }
   ],
   "source": [
    "# 1. Argumentos con palabras clave (keyword arguments): Permiten especificar explícitamente qué valor corresponde a qué parámetro, mejorando la legibilidad:\n",
    "\n",
    "def greet(name, greeting=\"Hello\"):\n",
    "    print(greeting, name)\n",
    "\n",
    "greet(name=\"David\", greeting=\"Salutations\")  \n",
    "# Output: Salutations David"
   ]
  },
  {
   "cell_type": "code",
   "execution_count": 18,
   "id": "7aba7677",
   "metadata": {},
   "outputs": [
    {
     "name": "stdout",
     "output_type": "stream",
     "text": [
      "Positional arguments: (1, 2, 3)\n",
      "Keyword arguments: {'name': 'Alice', 'age': 30}\n"
     ]
    }
   ],
   "source": [
    "# 2. Número variable de argumentos (*args y **kwargs): \n",
    "# *args: agrupa argumentos posicionales en una tupla.\n",
    "# **kwargs: agrupa argumentos con nombre en un diccionario.\n",
    "\n",
    "def flexible_function(*args, **kwargs):\n",
    "    print(\"Positional arguments:\", args)\n",
    "    print(\"Keyword arguments:\", kwargs)\n",
    "\n",
    "flexible_function(1, 2, 3, name=\"Alice\", age=30)\n",
    "# Positional arguments: (1, 2, 3)\n",
    "# Keyword arguments: {'name': 'Alice', 'age': 30}\n"
   ]
  },
  {
   "cell_type": "code",
   "execution_count": null,
   "id": "ec43fdb2",
   "metadata": {},
   "outputs": [
    {
     "name": "stdout",
     "output_type": "stream",
     "text": [
      "{'name': 'Alice', 'age': 25, 'occupation': 'Software Engineer', 'interests': ['Coding', 'Hiking']}\n",
      "{'name': 'Bob', 'age': 18, 'occupation': 'Student', 'interests': []}\n",
      "{'name': 'Carol', 'age': 30, 'occupation': 'Student', 'interests': ['Gardening', 'Reading']}\n"
     ]
    }
   ],
   "source": [
    "# 3. Ejemplo completo: creación de perfiles de usuario\n",
    "\n",
    "def create_user_profile(name, age, occupation=\"Student\", interests=None):\n",
    "    \"\"\"\n",
    "    Creates a user profile with optional interests.\n",
    "\n",
    "    Args:\n",
    "        name (str): The user's name (required).\n",
    "        age (int): The user's age (required).\n",
    "        occupation (str, optional): The user's occupation (defaults to \"Student\").\n",
    "        interests (list, optional): A list of the user's interests (defaults to None).\n",
    "    \"\"\"\n",
    "    if interests is None:  # Initialize if None to avoid mutable default issues\n",
    "        interests = [] \n",
    "\n",
    "    profile = {\n",
    "        \"name\": name,\n",
    "        \"age\": age,\n",
    "        \"occupation\": occupation,\n",
    "        \"interests\": interests\n",
    "    }\n",
    "\n",
    "    return profile # te imprimirá esto\n",
    "\n",
    "# Ejemplos de uso\n",
    "user1 = create_user_profile(\"Alice\", 25, \"Software Engineer\", [\"Coding\", \"Hiking\"])\n",
    "user2 = create_user_profile(\"Bob\", 18)  # Ocupación por defecto y sin intereses\n",
    "user3 = create_user_profile(\"Carol\", 30, interests=[\"Gardening\", \"Reading\"])\n",
    "\n",
    "print(user1)\n",
    "print(user2)\n",
    "print(user3)\n"
   ]
  },
  {
   "cell_type": "code",
   "execution_count": 35,
   "id": "39894b4c",
   "metadata": {},
   "outputs": [
    {
     "name": "stdout",
     "output_type": "stream",
     "text": [
      "Making a toasted wheat sandwich with turkey and cheddar cheese.\n",
      "Making a rye sandwich with ham.\n"
     ]
    }
   ],
   "source": [
    "### ACTIVIDAD: Reto de código funcional: Hacer un sándwich\n",
    "\n",
    "def make_sandwich(bread_type: str, filling: str, cheese: str = \"ninguno\", toasted: bool = False) -> str:\n",
    "    \"\"\"\n",
    "    Construye una descripción de un sándwich con pan, relleno, queso opcional y tostado opcional.\n",
    "\n",
    "    Args:\n",
    "        bread_type (str): Tipo de pan.\n",
    "        filling (str): Relleno principal.\n",
    "        cheese (str, optional): Tipo de queso. Por defecto \"ninguno\".\n",
    "        toasted (bool, optional): Si el sándwich está tostado. Por defecto False.\n",
    "\n",
    "    Returns:\n",
    "        str: Descripción del sándwich.\n",
    "    \"\"\"\n",
    "    description = f\"Making a\" # hace uso de los f strings para ponerlo todo bonito\n",
    "\n",
    "    if toasted is True:\n",
    "        description += \" toasted\"\n",
    "\n",
    "    description += f\" {bread_type} sandwich with {filling}\"\n",
    "\n",
    "    if cheese.lower() != \"ninguno\":\n",
    "        description += f\" and {cheese} cheese\"\n",
    "\n",
    "    description += \".\"\n",
    "\n",
    "    return description\n",
    "\n",
    "\n",
    "# Ejemplo de uso\n",
    "print(make_sandwich(\"wheat\", \"turkey\", \"cheddar\", True))\n",
    "print(make_sandwich(\"rye\", \"ham\"))"
   ]
  },
  {
   "cell_type": "markdown",
   "id": "36be1fc2",
   "metadata": {},
   "source": [
    "# ACTIVIDAD Y CUESTIONARIO de la clase TemperatureData"
   ]
  },
  {
   "cell_type": "markdown",
   "id": "7fc53275",
   "metadata": {},
   "source": [
    "# Step 1: Examine the TemperatureData class\n",
    "\n",
    "The following code will create a TemperatureData class. This class has two methods, one to calculate the average temperature and another to display the highest and lowest temperatures.\n",
    "Click Run to load the class."
   ]
  },
  {
   "cell_type": "code",
   "execution_count": null,
   "id": "b981c67f",
   "metadata": {},
   "outputs": [],
   "source": [
    "class TemperatureData: # definimos el método\n",
    "    # Constructor to create object\n",
    "    def __init__(self, name, readings): # inicializar instancias de la clase y los atributos name y readings\n",
    "        self.name = name\n",
    "        self.readings = readings\n",
    "\n",
    "    # Calculate average temperatures # método 1\n",
    "    def calculate_average_temp(self):\n",
    "        return sum(self.readings) / len(self.readings)\n",
    "\n",
    "    # Find highest temperature # métofo 2\n",
    "    def find_high_temp(self):\n",
    "        return max(self.readings)\n",
    "\n",
    "    # Find lowest temperature # método 3\n",
    "    def find_low_temp(self):\n",
    "        return min(self.readings)"
   ]
  },
  {
   "cell_type": "markdown",
   "id": "14d5041b",
   "metadata": {},
   "source": [
    "# Step 2: Examine the main program\n",
    "\n",
    "The following code will use the TemperatureData class methods. Click Run to execute it.\n",
    "\n",
    "You can alter the code below to explore the TemperatureData class further."
   ]
  },
  {
   "cell_type": "code",
   "execution_count": null,
   "id": "233ba584",
   "metadata": {},
   "outputs": [
    {
     "name": "stdout",
     "output_type": "stream",
     "text": [
      "Average temperature for sensor East Forest Road Sensor: 73.2 degrees Fahrenheit\n",
      "Temperature extremes for sensor East Forest Road Sensor: Highest 88, Lowest 64\n",
      "Temperature range for sensor East Forest Road Sensor: 24 degrees Fahrenheit\n"
     ]
    }
   ],
   "source": [
    "def calc_range(first, second):\n",
    "    if (first > second):\n",
    "        return first - second\n",
    "    else:\n",
    "        return second - first\n",
    "\n",
    "# Example Usage\n",
    "# Create a name for a sensor\n",
    "sensor_name = \"East Forest Road Sensor\"\n",
    "\n",
    "sensor = TemperatureData(sensor_name, [75, 71, 68, 64, 88]) #name y readings\n",
    "\n",
    "average_temp = sensor.calculate_average_temp()\n",
    "print(f\"Average temperature for sensor {sensor_name}: {average_temp} degrees Fahrenheit\")\n",
    "\n",
    "highest = sensor.find_high_temp()\n",
    "lowest = sensor.find_low_temp()\n",
    "\n",
    "print(f\"Temperature extremes for sensor {sensor_name}: Highest {highest}, Lowest {lowest}\") \n",
    "\n",
    "range = calc_range(lowest, highest)\n",
    "print(f\"Temperature range for sensor {sensor_name}: {range} degrees Fahrenheit\")"
   ]
  },
  {
   "cell_type": "markdown",
   "id": "9295e322",
   "metadata": {},
   "source": [
    "# Step 3: Redesign the class\n",
    "\n",
    "If there is any functionality that might be useful in the future, it may be better suited to be part of the class. As you continue this course, you will explore object-oriented design further.\n",
    "\n",
    "Examine a new version of the class that moves the calc_range from a function to a method in the class.\n",
    "\n",
    "Click Run to execute it and load the new class definition."
   ]
  },
  {
   "cell_type": "code",
   "execution_count": null,
   "id": "2c388b86",
   "metadata": {},
   "outputs": [],
   "source": [
    "class TemperatureData: ## AHORA HACEMOS EL EJERCICIO DE UNA MEJOR MANERA, DEFINIENDO CALC_RANGE DENTRO DE LA CLASE\n",
    "    # Constructor to create object\n",
    "    def __init__(self, name, readings):\n",
    "        self.name = name\n",
    "        self.readings = readings\n",
    "\n",
    "    # Calculate average temperatures\n",
    "    def calculate_average_temp(self):\n",
    "        return sum(self.readings) / len(self.readings)\n",
    "\n",
    "    # Find highest temperature\n",
    "    def find_high_temp(self):\n",
    "        return max(self.readings)\n",
    "\n",
    "    # Find lowest temperature\n",
    "    def find_low_temp(self):\n",
    "        return min(self.readings)\n",
    "    \n",
    "    # Find temperature range (max-min) # Método 4\n",
    "    def calc_range(self):\n",
    "        return max(self.readings) - min(self.readings)"
   ]
  },
  {
   "cell_type": "markdown",
   "id": "55cd01ef",
   "metadata": {},
   "source": [
    "# Step 4: Use the improved class\n",
    "\n",
    "Here, the functionality for the calc_range is moved into the TemperatureData class. You can now call the method without having to write code in the main program.\n",
    "\n",
    "A major benefit is that anyone using the TemperatureData in another program in the future can re-use the same method.\n",
    "\n",
    "Click Run to execute it. Notice the output is the same.\n"
   ]
  },
  {
   "cell_type": "code",
   "execution_count": 43,
   "id": "5f51d63a",
   "metadata": {},
   "outputs": [
    {
     "name": "stdout",
     "output_type": "stream",
     "text": [
      "Average temperature for sensor East Forest Road Sensor: 73.2 degrees Fahrenheit\n",
      "Temperature extremes for sensor East Forest Road Sensor: Highest 88, Lowest 64\n",
      "Temperature range for sensor East Forest Road Sensor: 24 degrees Fahrenheit\n"
     ]
    }
   ],
   "source": [
    "# Create a name for a sensor\n",
    "sensor_name = \"East Forest Road Sensor\"\n",
    "\n",
    "sensor = TemperatureData(sensor_name, [75, 71, 68, 64, 88])\n",
    "\n",
    "average_temp = sensor.calculate_average_temp()\n",
    "print(f\"Average temperature for sensor {sensor_name}: {average_temp} degrees Fahrenheit\")\n",
    "\n",
    "highest = sensor.find_high_temp()\n",
    "lowest = sensor.find_low_temp()\n",
    "print(f\"Temperature extremes for sensor {sensor_name}: Highest {highest}, Lowest {lowest}\") \n",
    "# Code above this point is unchanged, except for removing the function\n",
    "\n",
    "# New call to method in TemperatureData\n",
    "range = sensor.calc_range()\n",
    "print(f\"Temperature range for sensor {sensor_name}: {range} degrees Fahrenheit\")"
   ]
  },
  {
   "cell_type": "code",
   "execution_count": null,
   "id": "8fcf4875",
   "metadata": {},
   "outputs": [],
   "source": [
    "## Ejemplo de módulo: geometry_calculations.py\n",
    "\n",
    "# File: geometry_calculations.py ## CREAMOS UN ARCHIVO LLAMADO .PY LLAMADO geometry_calculations y metemos esto\n",
    "\n",
    "import math # ESTE MÓDULO INCLUYE LA IMPORTACIÓN DE MATH\n",
    "\n",
    "def calculate_area_circle(radius): # FUNCIÓN 1\n",
    "    \"\"\"Calcula el área de un círculo dado su radio.\"\"\"\n",
    "    return math.pi * radius**2\n",
    "\n",
    "def calculate_circumference_circle(radius): # FUNCIÓN 2 \n",
    "    \"\"\"Calcula la circunferencia de un círculo dado su radio.\"\"\"\n",
    "    return 2 * math.pi * radius\n",
    "\n",
    "class Rectangle: # CLASE\n",
    "    \"\"\"Representa un rectángulo con ancho y alto.\"\"\"\n",
    "\n",
    "    def __init__(self, width, height):\n",
    "        self.width = width\n",
    "        self.height = height\n",
    "\n",
    "    def calculate_area(self): # MÉTODO 1\n",
    "        \"\"\"Calcula el área del rectángulo.\"\"\"\n",
    "        return self.width * self.height\n",
    "\n",
    "    def calculate_perimeter(self): # MÉTODO 2\n",
    "        \"\"\"Calcula el perímetro del rectángulo.\"\"\"\n",
    "        return 2 * (self.width + self.height)\n",
    "\n"
   ]
  },
  {
   "cell_type": "code",
   "execution_count": null,
   "id": "bbb94f79",
   "metadata": {},
   "outputs": [
    {
     "name": "stdout",
     "output_type": "stream",
     "text": [
      "Area of circle: 78.53981633974483\n",
      "Circumference of circle: 31.41592653589793\n",
      "Area of rectangle: 24\n",
      "Perimeter of rectangle: 20\n"
     ]
    }
   ],
   "source": [
    "## Uso del módulo en otro archivo: main.py (Aquí se importan y usan las funciones y clases del módulo)\n",
    "\n",
    "# File: main.py # este archivo\n",
    "\n",
    "import geometry_calculations # importamos el archivo geometry_calculations.py\n",
    "\n",
    "radius = 5\n",
    "area = geometry_calculations.calculate_area_circle(radius)\n",
    "circumference = geometry_calculations.calculate_circumference_circle(radius)\n",
    "\n",
    "print(f\"Area of circle: {area}\")\n",
    "print(f\"Circumference of circle: {circumference}\")\n",
    "\n",
    "rect = geometry_calculations.Rectangle(4, 6) #clase\n",
    "rect_area = rect.calculate_area()\n",
    "rect_perimeter = rect.calculate_perimeter()\n",
    "\n",
    "print(f\"Area of rectangle: {rect_area}\")\n",
    "print(f\"Perimeter of rectangle: {rect_perimeter}\")"
   ]
  },
  {
   "cell_type": "code",
   "execution_count": null,
   "id": "a785c182",
   "metadata": {},
   "outputs": [],
   "source": [
    "# Técnicas alternativas de importación\n",
    "# Importar elementos específicos\n",
    "\n",
    "\n",
    "from geometry_calculations import calculate_area_circle, Rectangle\n",
    "\n",
    "# Usar un alias para el módulo\n",
    "\n",
    "\n",
    "import geometry_calculations as geo\n",
    "\n",
    "# Importar todo el contenido (no recomendado en módulos grandes)\n",
    "\n",
    "\n",
    "from geometry_calculations import *\n"
   ]
  },
  {
   "cell_type": "code",
   "execution_count": 7,
   "id": "2367e877",
   "metadata": {},
   "outputs": [],
   "source": [
    "# Ejemplo: data_analysis_tools.py\n",
    "# File: data_analysis_tools.py HACEMOS LO MISMO CON ESTO\n",
    "\n",
    "import pandas as pd\n",
    "import numpy as np\n",
    "\n",
    "def calculate_mean(data):\n",
    "    \"\"\"Calculates the mean of a list of numbers.\"\"\"\n",
    "    return np.mean(data)\n",
    "\n",
    "# ... otras funciones para mediana, moda, desviación estándar\n"
   ]
  },
  {
   "cell_type": "code",
   "execution_count": 8,
   "id": "3a9bb332",
   "metadata": {},
   "outputs": [
    {
     "name": "stdout",
     "output_type": "stream",
     "text": [
      "Mean: 4.833333333333333\n"
     ]
    }
   ],
   "source": [
    "# Uso en main.py\n",
    "# File: main.py\n",
    "\n",
    "import data_analysis_tools\n",
    "\n",
    "my_data = [2, 4, 5, 8, 1, 9]\n",
    "mean_value = data_analysis_tools.calculate_mean(my_data)\n",
    "print(f\"Mean: {mean_value}\")\n"
   ]
  },
  {
   "cell_type": "markdown",
   "id": "95c84c90",
   "metadata": {},
   "source": [
    "# LABORATORIO"
   ]
  },
  {
   "cell_type": "code",
   "execution_count": 9,
   "id": "3829c9ff",
   "metadata": {},
   "outputs": [],
   "source": [
    "### LABORATORIO\n",
    "\n",
    "### CREAR ARCHIVO .PY EN ESTE CASO ES string_utils.py \n",
    "\n",
    "def count_vowels(text):\n",
    "    vowels = \"aeiouAEIOU\"\n",
    "    count = 0\n",
    "    for char in text:\n",
    "        if char in vowels:\n",
    "            count += 1\n",
    "    return count"
   ]
  },
  {
   "cell_type": "code",
   "execution_count": 11,
   "id": "70966cd7",
   "metadata": {},
   "outputs": [
    {
     "name": "stdout",
     "output_type": "stream",
     "text": [
      "Number of vowels: 12\n"
     ]
    }
   ],
   "source": [
    "### AHORA IMPORTAMOS EL CONTENIDO DE string_utils.py y hacemos lo que nos pide el ejercicio\n",
    "\n",
    "import string_utils\n",
    "\n",
    "sentence = \"This is a test sentence to count vowels.\"\n",
    "vowel_count = string_utils.count_vowels(sentence)\n",
    "print(\"Number of vowels:\", vowel_count) "
   ]
  }
 ],
 "metadata": {
  "kernelspec": {
   "display_name": "Python 3",
   "language": "python",
   "name": "python3"
  },
  "language_info": {
   "codemirror_mode": {
    "name": "ipython",
    "version": 3
   },
   "file_extension": ".py",
   "mimetype": "text/x-python",
   "name": "python",
   "nbconvert_exporter": "python",
   "pygments_lexer": "ipython3",
   "version": "3.13.7"
  }
 },
 "nbformat": 4,
 "nbformat_minor": 5
}
